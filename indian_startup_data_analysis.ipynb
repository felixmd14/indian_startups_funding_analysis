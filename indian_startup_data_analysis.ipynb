{
 "cells": [
  {
   "attachments": {},
   "cell_type": "markdown",
   "metadata": {},
   "source": [
    "# **Investigating the Indian start-up ecosystem**\n",
    "\n",
    "## Introduction\n",
    "\n",
    "As a team looking to venture into the Indian start-up ecosystem, we are researching to understand the landscape better and identify potential areas of opportunity. I have been assigned the responsibility of studying the Indian start-up ecosystem and suggesting a suitable plan of action for our team’s development. To accomplish this task, I will create a distinctive narrative based on the 2018 to 2021 Indian start-up datasets. This will involve formulating and evaluating a hypothesis, preparing research questions, conducting analysis, and presenting insights through appropriate visualizations.\n",
    "\n",
    "### Null Hypothesis\n",
    "Fintech is not the most lucrative sector as it is not receiving the most significant amount of funding in the Indian start-up ecosystem.\n",
    "\n",
    "### Alternative Hypothesis\n",
    "Fintech is the most lucrative sector receiving the most significant funding in the Indian start-up ecosystem.\n",
    "\n",
    "### Research Questions\n",
    "\n",
    "1. Which sector received the most funding from 2018 to 2021?\n",
    "2. How much funding has the fintech sector received in the Indian start-up ecosystem over the same period, compared to other sectors?\n",
    "3. Have there been any significant fintech funding deals in the Indian start-up ecosystem from 2018 to 2021?\n",
    "4. What are the top 10 sectors that had the most funding over the same period?\n",
    "5. How many fintech start-up companies received funding from 2018 to 2021 compared to other companies in the top 10 sectors?\n",
    "6. How does the average amount of funding received by fintech start-ups compare to the average amount of funding received by start-ups in other sectors in the Indian start-up ecosystem over the same period?\n",
    "7. Have the investment trends in the Indian start-up ecosystem shown a preference for fintech companies over other sectors from 2018 to 2021?"
   ]
  },
  {
   "attachments": {},
   "cell_type": "markdown",
   "metadata": {},
   "source": [
    "## Data Understanding\n",
    "\n",
    "I plan to analyze data from 2018 to 2021 to address the research questions, so it is necessary to merge the datasets. However, the column names in the 2018 datasets do not match those in 2019, 2020, and 2021 datasets, and the 2018 dataset also has fewer columns. Additionally, some of the values in the \"Amount\" column of the 2018 dataset are in rupees instead of dollars like the rest of the datasets.\n",
    "\n",
    "To resolve these inconsistencies before combining the datasets, I will first adjust the column names of the 2018 dataset to align with the other datasets. After merging the datasets, any missing columns will be filled with null values. Finally, I will convert the rupee values in the \"Amount\" column to dollars."
   ]
  },
  {
   "cell_type": "code",
   "execution_count": 1,
   "metadata": {},
   "outputs": [],
   "source": [
    "import pandas as pd\n",
    "import numpy as np\n",
    "\n",
    "import random\n",
    "import re\n",
    "\n",
    "import glob\n",
    "from collections import Counter\n",
    "\n",
    "from matplotlib import pyplot as plt\n",
    "import matplotlib.ticker as ticker\n",
    "\n",
    "import seaborn as sns\n",
    "# from pandas.plotting import scatter_matrix\n",
    "\n",
    "from sklearn.impute import SimpleImputer\n",
    "from scipy.stats import ttest_ind\n",
    "\n",
    "import warnings\n",
    "warnings.filterwarnings('ignore')"
   ]
  },
  {
   "cell_type": "code",
   "execution_count": 2,
   "metadata": {},
   "outputs": [],
   "source": [
    "# Modify Pandas options to display decimal numbers instead of scientific notation\n",
    "pd.set_option('display.float_format', '{:.2f}'.format)"
   ]
  },
  {
   "attachments": {},
   "cell_type": "markdown",
   "metadata": {},
   "source": [
    "### Data Loading"
   ]
  },
  {
   "cell_type": "code",
   "execution_count": 3,
   "metadata": {},
   "outputs": [],
   "source": [
    "# load the datasets into dataframes\n",
    "start_ups_2018 = pd.read_csv('India Startup Funding/startup_funding2018.csv')\n",
    "start_ups_2019 = pd.read_csv('India Startup Funding/startup_funding2019.csv')\n",
    "start_ups_2020 = pd.read_csv('India Startup Funding/startup_funding2020.csv')\n",
    "start_ups_2021 = pd.read_csv('India Startup Funding/startup_funding2021.csv')"
   ]
  },
  {
   "attachments": {},
   "cell_type": "markdown",
   "metadata": {},
   "source": [
    "In order to make the column names of the 2018 dataset consistent with the other datasets, compare the data in the different columns of the 2018 and 2019 dataframes then alter the column names accordingly."
   ]
  },
  {
   "cell_type": "code",
   "execution_count": 4,
   "metadata": {},
   "outputs": [
    {
     "data": {
      "text/html": [
       "<div>\n",
       "<style scoped>\n",
       "    .dataframe tbody tr th:only-of-type {\n",
       "        vertical-align: middle;\n",
       "    }\n",
       "\n",
       "    .dataframe tbody tr th {\n",
       "        vertical-align: top;\n",
       "    }\n",
       "\n",
       "    .dataframe thead th {\n",
       "        text-align: right;\n",
       "    }\n",
       "</style>\n",
       "<table border=\"1\" class=\"dataframe\">\n",
       "  <thead>\n",
       "    <tr style=\"text-align: right;\">\n",
       "      <th></th>\n",
       "      <th>Company Name</th>\n",
       "      <th>Industry</th>\n",
       "      <th>Round/Series</th>\n",
       "      <th>Amount</th>\n",
       "      <th>Location</th>\n",
       "      <th>About Company</th>\n",
       "    </tr>\n",
       "  </thead>\n",
       "  <tbody>\n",
       "    <tr>\n",
       "      <th>0</th>\n",
       "      <td>TheCollegeFever</td>\n",
       "      <td>Brand Marketing, Event Promotion, Marketing, S...</td>\n",
       "      <td>Seed</td>\n",
       "      <td>250000</td>\n",
       "      <td>Bangalore, Karnataka, India</td>\n",
       "      <td>TheCollegeFever is a hub for fun, fiesta and f...</td>\n",
       "    </tr>\n",
       "    <tr>\n",
       "      <th>1</th>\n",
       "      <td>Happy Cow Dairy</td>\n",
       "      <td>Agriculture, Farming</td>\n",
       "      <td>Seed</td>\n",
       "      <td>₹40,000,000</td>\n",
       "      <td>Mumbai, Maharashtra, India</td>\n",
       "      <td>A startup which aggregates milk from dairy far...</td>\n",
       "    </tr>\n",
       "    <tr>\n",
       "      <th>2</th>\n",
       "      <td>MyLoanCare</td>\n",
       "      <td>Credit, Financial Services, Lending, Marketplace</td>\n",
       "      <td>Series A</td>\n",
       "      <td>₹65,000,000</td>\n",
       "      <td>Gurgaon, Haryana, India</td>\n",
       "      <td>Leading Online Loans Marketplace in India</td>\n",
       "    </tr>\n",
       "    <tr>\n",
       "      <th>3</th>\n",
       "      <td>PayMe India</td>\n",
       "      <td>Financial Services, FinTech</td>\n",
       "      <td>Angel</td>\n",
       "      <td>2000000</td>\n",
       "      <td>Noida, Uttar Pradesh, India</td>\n",
       "      <td>PayMe India is an innovative FinTech organizat...</td>\n",
       "    </tr>\n",
       "    <tr>\n",
       "      <th>4</th>\n",
       "      <td>Eunimart</td>\n",
       "      <td>E-Commerce Platforms, Retail, SaaS</td>\n",
       "      <td>Seed</td>\n",
       "      <td>—</td>\n",
       "      <td>Hyderabad, Andhra Pradesh, India</td>\n",
       "      <td>Eunimart is a one stop solution for merchants ...</td>\n",
       "    </tr>\n",
       "  </tbody>\n",
       "</table>\n",
       "</div>"
      ],
      "text/plain": [
       "      Company Name                                           Industry  \\\n",
       "0  TheCollegeFever  Brand Marketing, Event Promotion, Marketing, S...   \n",
       "1  Happy Cow Dairy                               Agriculture, Farming   \n",
       "2       MyLoanCare   Credit, Financial Services, Lending, Marketplace   \n",
       "3      PayMe India                        Financial Services, FinTech   \n",
       "4         Eunimart                 E-Commerce Platforms, Retail, SaaS   \n",
       "\n",
       "  Round/Series       Amount                          Location  \\\n",
       "0         Seed       250000       Bangalore, Karnataka, India   \n",
       "1         Seed  ₹40,000,000        Mumbai, Maharashtra, India   \n",
       "2     Series A  ₹65,000,000           Gurgaon, Haryana, India   \n",
       "3        Angel      2000000       Noida, Uttar Pradesh, India   \n",
       "4         Seed            —  Hyderabad, Andhra Pradesh, India   \n",
       "\n",
       "                                       About Company  \n",
       "0  TheCollegeFever is a hub for fun, fiesta and f...  \n",
       "1  A startup which aggregates milk from dairy far...  \n",
       "2          Leading Online Loans Marketplace in India  \n",
       "3  PayMe India is an innovative FinTech organizat...  \n",
       "4  Eunimart is a one stop solution for merchants ...  "
      ]
     },
     "execution_count": 4,
     "metadata": {},
     "output_type": "execute_result"
    }
   ],
   "source": [
    "start_ups_2018.head()"
   ]
  },
  {
   "cell_type": "code",
   "execution_count": 5,
   "metadata": {},
   "outputs": [
    {
     "data": {
      "text/html": [
       "<div>\n",
       "<style scoped>\n",
       "    .dataframe tbody tr th:only-of-type {\n",
       "        vertical-align: middle;\n",
       "    }\n",
       "\n",
       "    .dataframe tbody tr th {\n",
       "        vertical-align: top;\n",
       "    }\n",
       "\n",
       "    .dataframe thead th {\n",
       "        text-align: right;\n",
       "    }\n",
       "</style>\n",
       "<table border=\"1\" class=\"dataframe\">\n",
       "  <thead>\n",
       "    <tr style=\"text-align: right;\">\n",
       "      <th></th>\n",
       "      <th>Company/Brand</th>\n",
       "      <th>Founded</th>\n",
       "      <th>HeadQuarter</th>\n",
       "      <th>Sector</th>\n",
       "      <th>What it does</th>\n",
       "      <th>Founders</th>\n",
       "      <th>Investor</th>\n",
       "      <th>Amount($)</th>\n",
       "      <th>Stage</th>\n",
       "    </tr>\n",
       "  </thead>\n",
       "  <tbody>\n",
       "    <tr>\n",
       "      <th>0</th>\n",
       "      <td>Bombay Shaving</td>\n",
       "      <td>NaN</td>\n",
       "      <td>NaN</td>\n",
       "      <td>Ecommerce</td>\n",
       "      <td>Provides a range of male grooming products</td>\n",
       "      <td>Shantanu Deshpande</td>\n",
       "      <td>Sixth Sense Ventures</td>\n",
       "      <td>$6,300,000</td>\n",
       "      <td>NaN</td>\n",
       "    </tr>\n",
       "    <tr>\n",
       "      <th>1</th>\n",
       "      <td>Ruangguru</td>\n",
       "      <td>2014.00</td>\n",
       "      <td>Mumbai</td>\n",
       "      <td>Edtech</td>\n",
       "      <td>A learning platform that provides topic-based ...</td>\n",
       "      <td>Adamas Belva Syah Devara, Iman Usman.</td>\n",
       "      <td>General Atlantic</td>\n",
       "      <td>$150,000,000</td>\n",
       "      <td>Series C</td>\n",
       "    </tr>\n",
       "    <tr>\n",
       "      <th>2</th>\n",
       "      <td>Eduisfun</td>\n",
       "      <td>NaN</td>\n",
       "      <td>Mumbai</td>\n",
       "      <td>Edtech</td>\n",
       "      <td>It aims to make learning fun via games.</td>\n",
       "      <td>Jatin Solanki</td>\n",
       "      <td>Deepak Parekh, Amitabh Bachchan, Piyush Pandey</td>\n",
       "      <td>$28,000,000</td>\n",
       "      <td>Fresh funding</td>\n",
       "    </tr>\n",
       "    <tr>\n",
       "      <th>3</th>\n",
       "      <td>HomeLane</td>\n",
       "      <td>2014.00</td>\n",
       "      <td>Chennai</td>\n",
       "      <td>Interior design</td>\n",
       "      <td>Provides interior designing solutions</td>\n",
       "      <td>Srikanth Iyer, Rama Harinath</td>\n",
       "      <td>Evolvence India Fund (EIF), Pidilite Group, FJ...</td>\n",
       "      <td>$30,000,000</td>\n",
       "      <td>Series D</td>\n",
       "    </tr>\n",
       "    <tr>\n",
       "      <th>4</th>\n",
       "      <td>Nu Genes</td>\n",
       "      <td>2004.00</td>\n",
       "      <td>Telangana</td>\n",
       "      <td>AgriTech</td>\n",
       "      <td>It is a seed company engaged in production, pr...</td>\n",
       "      <td>Narayana Reddy Punyala</td>\n",
       "      <td>Innovation in Food and Agriculture (IFA)</td>\n",
       "      <td>$6,000,000</td>\n",
       "      <td>NaN</td>\n",
       "    </tr>\n",
       "  </tbody>\n",
       "</table>\n",
       "</div>"
      ],
      "text/plain": [
       "    Company/Brand  Founded HeadQuarter           Sector  \\\n",
       "0  Bombay Shaving      NaN         NaN        Ecommerce   \n",
       "1       Ruangguru  2014.00      Mumbai           Edtech   \n",
       "2        Eduisfun      NaN      Mumbai           Edtech   \n",
       "3        HomeLane  2014.00     Chennai  Interior design   \n",
       "4        Nu Genes  2004.00   Telangana         AgriTech   \n",
       "\n",
       "                                        What it does  \\\n",
       "0         Provides a range of male grooming products   \n",
       "1  A learning platform that provides topic-based ...   \n",
       "2            It aims to make learning fun via games.   \n",
       "3              Provides interior designing solutions   \n",
       "4  It is a seed company engaged in production, pr...   \n",
       "\n",
       "                                Founders  \\\n",
       "0                     Shantanu Deshpande   \n",
       "1  Adamas Belva Syah Devara, Iman Usman.   \n",
       "2                          Jatin Solanki   \n",
       "3           Srikanth Iyer, Rama Harinath   \n",
       "4                 Narayana Reddy Punyala   \n",
       "\n",
       "                                            Investor     Amount($)  \\\n",
       "0                               Sixth Sense Ventures    $6,300,000   \n",
       "1                                   General Atlantic  $150,000,000   \n",
       "2     Deepak Parekh, Amitabh Bachchan, Piyush Pandey   $28,000,000   \n",
       "3  Evolvence India Fund (EIF), Pidilite Group, FJ...   $30,000,000   \n",
       "4           Innovation in Food and Agriculture (IFA)    $6,000,000   \n",
       "\n",
       "           Stage  \n",
       "0            NaN  \n",
       "1       Series C  \n",
       "2  Fresh funding  \n",
       "3       Series D  \n",
       "4            NaN  "
      ]
     },
     "execution_count": 5,
     "metadata": {},
     "output_type": "execute_result"
    }
   ],
   "source": [
    "start_ups_2019.head()"
   ]
  },
  {
   "cell_type": "code",
   "execution_count": 6,
   "metadata": {},
   "outputs": [
    {
     "data": {
      "text/plain": [
       "Index(['Company Name', 'Industry', 'Round/Series', 'Amount', 'Location',\n",
       "       'About Company'],\n",
       "      dtype='object')"
      ]
     },
     "execution_count": 6,
     "metadata": {},
     "output_type": "execute_result"
    }
   ],
   "source": [
    "start_ups_2018.columns"
   ]
  },
  {
   "cell_type": "code",
   "execution_count": 7,
   "metadata": {},
   "outputs": [
    {
     "data": {
      "text/plain": [
       "Index(['Company/Brand', 'Founded', 'HeadQuarter', 'Sector', 'What it does',\n",
       "       'Founders', 'Investor', 'Amount($)', 'Stage'],\n",
       "      dtype='object')"
      ]
     },
     "execution_count": 7,
     "metadata": {},
     "output_type": "execute_result"
    }
   ],
   "source": [
    "start_ups_2019.columns"
   ]
  },
  {
   "cell_type": "code",
   "execution_count": 8,
   "metadata": {},
   "outputs": [
    {
     "name": "stdout",
     "output_type": "stream",
     "text": [
      "No. of columns initially: 6\n"
     ]
    },
    {
     "data": {
      "text/plain": [
       "Index(['Company/Brand', 'Sector', 'Stage', 'Amount($)', 'HeadQuarter',\n",
       "       'What it does'],\n",
       "      dtype='object')"
      ]
     },
     "execution_count": 8,
     "metadata": {},
     "output_type": "execute_result"
    }
   ],
   "source": [
    "start_ups_2018.rename(columns={'Company Name' : 'Company/Brand', 'Industry' : 'Sector', 'Round/Series' : 'Stage', 'Amount' : 'Amount($)', 'Location' : 'HeadQuarter', 'About Company' : 'What it does'}, inplace = True)\n",
    "\n",
    "print(f'No. of columns initially: {len((start_ups_2018.columns).to_list())}')\n",
    "start_ups_2018.columns"
   ]
  },
  {
   "cell_type": "code",
   "execution_count": 9,
   "metadata": {},
   "outputs": [
    {
     "name": "stdout",
     "output_type": "stream",
     "text": [
      "No. of columns after reindexing: 9\n"
     ]
    },
    {
     "data": {
      "text/plain": [
       "Index(['Company/Brand', 'Founded', 'HeadQuarter', 'Sector', 'What it does',\n",
       "       'Founders', 'Investor', 'Amount($)', 'Stage'],\n",
       "      dtype='object')"
      ]
     },
     "execution_count": 9,
     "metadata": {},
     "output_type": "execute_result"
    }
   ],
   "source": [
    "# Reorder the columns of start_ups_2018 to match the column order of start_ups_2019\n",
    "start_ups_2018 = start_ups_2018.reindex(columns = start_ups_2019.columns)\n",
    "\n",
    "print(f'No. of columns after reindexing: {len((start_ups_2018.columns).to_list())}')\n",
    "start_ups_2018.columns"
   ]
  },
  {
   "attachments": {},
   "cell_type": "markdown",
   "metadata": {},
   "source": [
    "While perusing through the datasets, I discovered some occurrence of the '\\t#REF!' substring. I will have to remove the substring occurrence from any string in the entire dataframe while ensuring that the original value is retained."
   ]
  },
  {
   "cell_type": "code",
   "execution_count": 10,
   "metadata": {},
   "outputs": [],
   "source": [
    "def remove_occurrence(df):\n",
    "    for column in df.columns:\n",
    "        df[column] = df[column].astype(str).str.replace('\\t#REF!', '')"
   ]
  },
  {
   "cell_type": "code",
   "execution_count": 11,
   "metadata": {},
   "outputs": [],
   "source": [
    "remove_occurrence(start_ups_2018)"
   ]
  },
  {
   "cell_type": "code",
   "execution_count": 12,
   "metadata": {},
   "outputs": [],
   "source": [
    "remove_occurrence(start_ups_2019)"
   ]
  },
  {
   "cell_type": "code",
   "execution_count": 13,
   "metadata": {},
   "outputs": [],
   "source": [
    "remove_occurrence(start_ups_2020)"
   ]
  },
  {
   "cell_type": "code",
   "execution_count": 14,
   "metadata": {},
   "outputs": [],
   "source": [
    "remove_occurrence(start_ups_2021)"
   ]
  },
  {
   "attachments": {},
   "cell_type": "markdown",
   "metadata": {},
   "source": [
    "### Data Inspection and Cleaning"
   ]
  },
  {
   "attachments": {},
   "cell_type": "markdown",
   "metadata": {},
   "source": [
    "#### **start_ups_2018**"
   ]
  },
  {
   "cell_type": "code",
   "execution_count": 15,
   "metadata": {},
   "outputs": [
    {
     "data": {
      "text/html": [
       "<div>\n",
       "<style scoped>\n",
       "    .dataframe tbody tr th:only-of-type {\n",
       "        vertical-align: middle;\n",
       "    }\n",
       "\n",
       "    .dataframe tbody tr th {\n",
       "        vertical-align: top;\n",
       "    }\n",
       "\n",
       "    .dataframe thead th {\n",
       "        text-align: right;\n",
       "    }\n",
       "</style>\n",
       "<table border=\"1\" class=\"dataframe\">\n",
       "  <thead>\n",
       "    <tr style=\"text-align: right;\">\n",
       "      <th></th>\n",
       "      <th>Company/Brand</th>\n",
       "      <th>Founded</th>\n",
       "      <th>HeadQuarter</th>\n",
       "      <th>Sector</th>\n",
       "      <th>What it does</th>\n",
       "      <th>Founders</th>\n",
       "      <th>Investor</th>\n",
       "      <th>Amount($)</th>\n",
       "      <th>Stage</th>\n",
       "    </tr>\n",
       "  </thead>\n",
       "  <tbody>\n",
       "    <tr>\n",
       "      <th>0</th>\n",
       "      <td>TheCollegeFever</td>\n",
       "      <td>nan</td>\n",
       "      <td>Bangalore, Karnataka, India</td>\n",
       "      <td>Brand Marketing, Event Promotion, Marketing, S...</td>\n",
       "      <td>TheCollegeFever is a hub for fun, fiesta and f...</td>\n",
       "      <td>nan</td>\n",
       "      <td>nan</td>\n",
       "      <td>250000</td>\n",
       "      <td>Seed</td>\n",
       "    </tr>\n",
       "    <tr>\n",
       "      <th>1</th>\n",
       "      <td>Happy Cow Dairy</td>\n",
       "      <td>nan</td>\n",
       "      <td>Mumbai, Maharashtra, India</td>\n",
       "      <td>Agriculture, Farming</td>\n",
       "      <td>A startup which aggregates milk from dairy far...</td>\n",
       "      <td>nan</td>\n",
       "      <td>nan</td>\n",
       "      <td>₹40,000,000</td>\n",
       "      <td>Seed</td>\n",
       "    </tr>\n",
       "    <tr>\n",
       "      <th>2</th>\n",
       "      <td>MyLoanCare</td>\n",
       "      <td>nan</td>\n",
       "      <td>Gurgaon, Haryana, India</td>\n",
       "      <td>Credit, Financial Services, Lending, Marketplace</td>\n",
       "      <td>Leading Online Loans Marketplace in India</td>\n",
       "      <td>nan</td>\n",
       "      <td>nan</td>\n",
       "      <td>₹65,000,000</td>\n",
       "      <td>Series A</td>\n",
       "    </tr>\n",
       "    <tr>\n",
       "      <th>3</th>\n",
       "      <td>PayMe India</td>\n",
       "      <td>nan</td>\n",
       "      <td>Noida, Uttar Pradesh, India</td>\n",
       "      <td>Financial Services, FinTech</td>\n",
       "      <td>PayMe India is an innovative FinTech organizat...</td>\n",
       "      <td>nan</td>\n",
       "      <td>nan</td>\n",
       "      <td>2000000</td>\n",
       "      <td>Angel</td>\n",
       "    </tr>\n",
       "    <tr>\n",
       "      <th>4</th>\n",
       "      <td>Eunimart</td>\n",
       "      <td>nan</td>\n",
       "      <td>Hyderabad, Andhra Pradesh, India</td>\n",
       "      <td>E-Commerce Platforms, Retail, SaaS</td>\n",
       "      <td>Eunimart is a one stop solution for merchants ...</td>\n",
       "      <td>nan</td>\n",
       "      <td>nan</td>\n",
       "      <td>—</td>\n",
       "      <td>Seed</td>\n",
       "    </tr>\n",
       "  </tbody>\n",
       "</table>\n",
       "</div>"
      ],
      "text/plain": [
       "     Company/Brand Founded                       HeadQuarter  \\\n",
       "0  TheCollegeFever     nan       Bangalore, Karnataka, India   \n",
       "1  Happy Cow Dairy     nan        Mumbai, Maharashtra, India   \n",
       "2       MyLoanCare     nan           Gurgaon, Haryana, India   \n",
       "3      PayMe India     nan       Noida, Uttar Pradesh, India   \n",
       "4         Eunimart     nan  Hyderabad, Andhra Pradesh, India   \n",
       "\n",
       "                                              Sector  \\\n",
       "0  Brand Marketing, Event Promotion, Marketing, S...   \n",
       "1                               Agriculture, Farming   \n",
       "2   Credit, Financial Services, Lending, Marketplace   \n",
       "3                        Financial Services, FinTech   \n",
       "4                 E-Commerce Platforms, Retail, SaaS   \n",
       "\n",
       "                                        What it does Founders Investor  \\\n",
       "0  TheCollegeFever is a hub for fun, fiesta and f...      nan      nan   \n",
       "1  A startup which aggregates milk from dairy far...      nan      nan   \n",
       "2          Leading Online Loans Marketplace in India      nan      nan   \n",
       "3  PayMe India is an innovative FinTech organizat...      nan      nan   \n",
       "4  Eunimart is a one stop solution for merchants ...      nan      nan   \n",
       "\n",
       "     Amount($)     Stage  \n",
       "0       250000      Seed  \n",
       "1  ₹40,000,000      Seed  \n",
       "2  ₹65,000,000  Series A  \n",
       "3      2000000     Angel  \n",
       "4            —      Seed  "
      ]
     },
     "execution_count": 15,
     "metadata": {},
     "output_type": "execute_result"
    }
   ],
   "source": [
    "start_ups_2018.head()"
   ]
  },
  {
   "cell_type": "code",
   "execution_count": 16,
   "metadata": {},
   "outputs": [
    {
     "data": {
      "text/plain": [
       "(526, 9)"
      ]
     },
     "execution_count": 16,
     "metadata": {},
     "output_type": "execute_result"
    }
   ],
   "source": [
    "start_ups_2018.shape"
   ]
  },
  {
   "cell_type": "code",
   "execution_count": 17,
   "metadata": {},
   "outputs": [
    {
     "name": "stdout",
     "output_type": "stream",
     "text": [
      "<class 'pandas.core.frame.DataFrame'>\n",
      "RangeIndex: 526 entries, 0 to 525\n",
      "Data columns (total 9 columns):\n",
      " #   Column         Non-Null Count  Dtype \n",
      "---  ------         --------------  ----- \n",
      " 0   Company/Brand  526 non-null    object\n",
      " 1   Founded        526 non-null    object\n",
      " 2   HeadQuarter    526 non-null    object\n",
      " 3   Sector         526 non-null    object\n",
      " 4   What it does   526 non-null    object\n",
      " 5   Founders       526 non-null    object\n",
      " 6   Investor       526 non-null    object\n",
      " 7   Amount($)      526 non-null    object\n",
      " 8   Stage          526 non-null    object\n",
      "dtypes: object(9)\n",
      "memory usage: 37.1+ KB\n"
     ]
    }
   ],
   "source": [
    "start_ups_2018.info()"
   ]
  },
  {
   "cell_type": "code",
   "execution_count": 18,
   "metadata": {},
   "outputs": [
    {
     "data": {
      "text/plain": [
       "1"
      ]
     },
     "execution_count": 18,
     "metadata": {},
     "output_type": "execute_result"
    }
   ],
   "source": [
    "# check for duplicated rows\n",
    "start_ups_2018.duplicated().sum()"
   ]
  },
  {
   "cell_type": "code",
   "execution_count": 19,
   "metadata": {},
   "outputs": [],
   "source": [
    "# drop duplicated rows\n",
    "start_ups_2018 = start_ups_2018.drop_duplicates()"
   ]
  },
  {
   "cell_type": "code",
   "execution_count": 20,
   "metadata": {},
   "outputs": [
    {
     "data": {
      "text/plain": [
       "2"
      ]
     },
     "execution_count": 20,
     "metadata": {},
     "output_type": "execute_result"
    }
   ],
   "source": [
    "# check for duplicated columns\n",
    "start_ups_2018.T.duplicated().sum()"
   ]
  },
  {
   "attachments": {},
   "cell_type": "markdown",
   "metadata": {},
   "source": [
    "The aforementioned code erroneously identifies duplicated columns, even though there are actually none present. This misconception arises when the columns are transposed, causing their names to be treated as indexes. The values within the transposed columns, now appearing as rows, are examined to determine if there are any instances where the values are duplicated across the transposed rows, now columns. This misinterpretation arises because columns are added during reindexing in order to align with the columns of other datasets from different years. These added columns are autofilled with missing values across all their rows.\n",
    "\n",
    "To resolve this issue, I will need to verify the presence of duplicated columns instead."
   ]
  },
  {
   "cell_type": "code",
   "execution_count": 21,
   "metadata": {},
   "outputs": [
    {
     "data": {
      "text/plain": [
       "0"
      ]
     },
     "execution_count": 21,
     "metadata": {},
     "output_type": "execute_result"
    }
   ],
   "source": [
    "# check for duplicated column names\n",
    "start_ups_2018.columns.duplicated().sum()"
   ]
  },
  {
   "attachments": {},
   "cell_type": "markdown",
   "metadata": {},
   "source": [
    "After analyzing the dataframe, I observed that certain columns, namely \"Amount($)\" and \"Founded,\" consist of string (object) values instead of the expected numerical format. To address this, I will need to convert the data types of these columns to numerical (float and/or integer). Once the missing values are filled in, I will convert the data type of the values in the Founded column to integer. These conversions will ensure that these columns consist of numerical values for further analysis."
   ]
  },
  {
   "cell_type": "code",
   "execution_count": 22,
   "metadata": {},
   "outputs": [
    {
     "data": {
      "text/plain": [
       "0           250000\n",
       "1      ₹40,000,000\n",
       "2      ₹65,000,000\n",
       "3          2000000\n",
       "4                —\n",
       "          ...     \n",
       "521      225000000\n",
       "522              —\n",
       "523           7500\n",
       "524    ₹35,000,000\n",
       "525       35000000\n",
       "Name: Amount($), Length: 525, dtype: object"
      ]
     },
     "execution_count": 22,
     "metadata": {},
     "output_type": "execute_result"
    }
   ],
   "source": [
    "# filter the values in the \"Amount\" column that are in rupees,\n",
    "# change the datatype of all values to float, and convert the rupee values to dollars\n",
    "\n",
    "start_ups_2018['Amount($)']"
   ]
  },
  {
   "cell_type": "code",
   "execution_count": 23,
   "metadata": {},
   "outputs": [
    {
     "data": {
      "text/plain": [
       "144"
      ]
     },
     "execution_count": 23,
     "metadata": {},
     "output_type": "execute_result"
    }
   ],
   "source": [
    "filt_rupee = start_ups_2018['Amount($)'].str.contains('₹')\n",
    "filt_rupee.sum()"
   ]
  },
  {
   "cell_type": "code",
   "execution_count": 24,
   "metadata": {},
   "outputs": [
    {
     "data": {
      "text/plain": [
       "0        250000.00\n",
       "1        584000.00\n",
       "2        949000.00\n",
       "3       2000000.00\n",
       "4             0.00\n",
       "          ...     \n",
       "521   225000000.00\n",
       "522           0.00\n",
       "523        7500.00\n",
       "524      511000.00\n",
       "525    35000000.00\n",
       "Name: Amount($), Length: 525, dtype: float64"
      ]
     },
     "execution_count": 24,
     "metadata": {},
     "output_type": "execute_result"
    }
   ],
   "source": [
    "start_ups_2018['Amount($)'] = start_ups_2018['Amount($)'].apply(lambda x : str(x).replace('$', '').replace('₹', '').replace(',', '').replace('—', '0')).astype(float)\n",
    "conversion_rate = 0.0146 # conversion rate of rupee to dollar in 2018\n",
    "converted = start_ups_2018.loc[filt_rupee, 'Amount($)'] * conversion_rate\n",
    "start_ups_2018.loc[filt_rupee, 'Amount($)'] = converted\n",
    "start_ups_2018['Amount($)']"
   ]
  },
  {
   "cell_type": "code",
   "execution_count": 25,
   "metadata": {},
   "outputs": [
    {
     "data": {
      "text/plain": [
       "148"
      ]
     },
     "execution_count": 25,
     "metadata": {},
     "output_type": "execute_result"
    }
   ],
   "source": [
    "filt_zeros = (start_ups_2018['Amount($)'] == float('0'))\n",
    "filt_zeros.sum()"
   ]
  },
  {
   "cell_type": "code",
   "execution_count": 26,
   "metadata": {},
   "outputs": [
    {
     "data": {
      "text/plain": [
       "Company/Brand     object\n",
       "Founded           object\n",
       "HeadQuarter       object\n",
       "Sector            object\n",
       "What it does      object\n",
       "Founders          object\n",
       "Investor          object\n",
       "Amount($)        float64\n",
       "Stage             object\n",
       "dtype: object"
      ]
     },
     "execution_count": 26,
     "metadata": {},
     "output_type": "execute_result"
    }
   ],
   "source": [
    "start_ups_2018.dtypes"
   ]
  },
  {
   "cell_type": "code",
   "execution_count": 27,
   "metadata": {},
   "outputs": [
    {
     "data": {
      "text/html": [
       "<div>\n",
       "<style scoped>\n",
       "    .dataframe tbody tr th:only-of-type {\n",
       "        vertical-align: middle;\n",
       "    }\n",
       "\n",
       "    .dataframe tbody tr th {\n",
       "        vertical-align: top;\n",
       "    }\n",
       "\n",
       "    .dataframe thead th {\n",
       "        text-align: right;\n",
       "    }\n",
       "</style>\n",
       "<table border=\"1\" class=\"dataframe\">\n",
       "  <thead>\n",
       "    <tr style=\"text-align: right;\">\n",
       "      <th></th>\n",
       "      <th>Amount($)</th>\n",
       "    </tr>\n",
       "  </thead>\n",
       "  <tbody>\n",
       "    <tr>\n",
       "      <th>count</th>\n",
       "      <td>525.00</td>\n",
       "    </tr>\n",
       "    <tr>\n",
       "      <th>mean</th>\n",
       "      <td>12650520.34</td>\n",
       "    </tr>\n",
       "    <tr>\n",
       "      <th>std</th>\n",
       "      <td>66524415.89</td>\n",
       "    </tr>\n",
       "    <tr>\n",
       "      <th>min</th>\n",
       "      <td>0.00</td>\n",
       "    </tr>\n",
       "    <tr>\n",
       "      <th>25%</th>\n",
       "      <td>0.00</td>\n",
       "    </tr>\n",
       "    <tr>\n",
       "      <th>50%</th>\n",
       "      <td>584000.00</td>\n",
       "    </tr>\n",
       "    <tr>\n",
       "      <th>75%</th>\n",
       "      <td>3000000.00</td>\n",
       "    </tr>\n",
       "    <tr>\n",
       "      <th>max</th>\n",
       "      <td>1000000000.00</td>\n",
       "    </tr>\n",
       "  </tbody>\n",
       "</table>\n",
       "</div>"
      ],
      "text/plain": [
       "          Amount($)\n",
       "count        525.00\n",
       "mean    12650520.34\n",
       "std     66524415.89\n",
       "min            0.00\n",
       "25%            0.00\n",
       "50%       584000.00\n",
       "75%      3000000.00\n",
       "max   1000000000.00"
      ]
     },
     "execution_count": 27,
     "metadata": {},
     "output_type": "execute_result"
    }
   ],
   "source": [
    "start_ups_2018.describe()"
   ]
  },
  {
   "cell_type": "code",
   "execution_count": 28,
   "metadata": {},
   "outputs": [],
   "source": [
    "def convert_nan_variations(df):\n",
    "    # Define the variations of 'nan' to check against\n",
    "    nan_variations = ['NAN', 'NAn', 'NaN', 'Nan', 'nAN', 'nAn', 'naN', 'nan', '-', '—', None]\n",
    "\n",
    "    # Check for all nan variations and get the count of occurrences for each column\n",
    "    nan_counts = df[df.columns].apply(lambda x: np.sum([str(val).lower() in nan_variations if pd.notnull(val) else False for val in x]))\n",
    "    nan_counts = nan_counts.rename('nan_count')\n",
    "\n",
    "    # Convert 'nan_variations' to np.nan in the entire DataFrame\n",
    "    df.replace(nan_variations, np.nan, inplace = True)\n",
    "\n",
    "    return nan_counts, df.isna().sum()\n",
    "\n",
    "result = convert_nan_variations(start_ups_2018)"
   ]
  },
  {
   "cell_type": "code",
   "execution_count": 29,
   "metadata": {},
   "outputs": [
    {
     "name": "stdout",
     "output_type": "stream",
     "text": [
      "The number of occurrences for each column is:\n"
     ]
    },
    {
     "data": {
      "text/plain": [
       "Company/Brand      0\n",
       "Founded          525\n",
       "HeadQuarter        0\n",
       "Sector            30\n",
       "What it does       0\n",
       "Founders         525\n",
       "Investor         525\n",
       "Amount($)          0\n",
       "Stage              0\n",
       "Name: nan_count, dtype: int32"
      ]
     },
     "execution_count": 29,
     "metadata": {},
     "output_type": "execute_result"
    }
   ],
   "source": [
    "# Display the count of occurrences for each column\n",
    "print('The number of occurrences for each column is:')\n",
    "result[0]"
   ]
  },
  {
   "cell_type": "code",
   "execution_count": 30,
   "metadata": {},
   "outputs": [
    {
     "name": "stdout",
     "output_type": "stream",
     "text": [
      "The number of missing values in each column is:\n"
     ]
    },
    {
     "data": {
      "text/plain": [
       "Company/Brand      0\n",
       "Founded          525\n",
       "HeadQuarter        0\n",
       "Sector            30\n",
       "What it does       0\n",
       "Founders         525\n",
       "Investor         525\n",
       "Amount($)          0\n",
       "Stage              0\n",
       "dtype: int64"
      ]
     },
     "execution_count": 30,
     "metadata": {},
     "output_type": "execute_result"
    }
   ],
   "source": [
    "# Display the sum of missing values in each column\n",
    "print('The number of missing values in each column is:')\n",
    "result[1]"
   ]
  },
  {
   "cell_type": "code",
   "execution_count": 31,
   "metadata": {},
   "outputs": [
    {
     "data": {
      "text/plain": [
       "0      2015\n",
       "1      2010\n",
       "2      2015\n",
       "3      2018\n",
       "4      2016\n",
       "       ... \n",
       "521    2014\n",
       "522    2011\n",
       "523    2012\n",
       "524    2010\n",
       "525    2012\n",
       "Name: Founded, Length: 525, dtype: int32"
      ]
     },
     "execution_count": 31,
     "metadata": {},
     "output_type": "execute_result"
    }
   ],
   "source": [
    "# Define a function to generate random years between 2010 and 2018\n",
    "def generate_random_year():\n",
    "    return random.randint(2010, 2018)\n",
    "\n",
    "# Replace missing values with random years\n",
    "start_ups_2018['Founded'].fillna(start_ups_2018['Founded'].apply(lambda x: generate_random_year()), inplace = True)\n",
    "\n",
    "# Convert the dtype of values in the column to int\n",
    "start_ups_2018['Founded'] = start_ups_2018['Founded'].astype(int)\n",
    "\n",
    "# Display the updated column\n",
    "start_ups_2018['Founded']"
   ]
  },
  {
   "cell_type": "code",
   "execution_count": 32,
   "metadata": {},
   "outputs": [
    {
     "data": {
      "text/html": [
       "<div>\n",
       "<style scoped>\n",
       "    .dataframe tbody tr th:only-of-type {\n",
       "        vertical-align: middle;\n",
       "    }\n",
       "\n",
       "    .dataframe tbody tr th {\n",
       "        vertical-align: top;\n",
       "    }\n",
       "\n",
       "    .dataframe thead th {\n",
       "        text-align: right;\n",
       "    }\n",
       "</style>\n",
       "<table border=\"1\" class=\"dataframe\">\n",
       "  <thead>\n",
       "    <tr style=\"text-align: right;\">\n",
       "      <th></th>\n",
       "      <th>Company/Brand</th>\n",
       "      <th>Founded</th>\n",
       "      <th>HeadQuarter</th>\n",
       "      <th>Sector</th>\n",
       "      <th>What it does</th>\n",
       "      <th>Founders</th>\n",
       "      <th>Investor</th>\n",
       "      <th>Amount($)</th>\n",
       "      <th>Stage</th>\n",
       "    </tr>\n",
       "  </thead>\n",
       "  <tbody>\n",
       "    <tr>\n",
       "      <th>0</th>\n",
       "      <td>TheCollegeFever</td>\n",
       "      <td>2015</td>\n",
       "      <td>Bangalore, Karnataka, India</td>\n",
       "      <td>Brand Marketing, Event Promotion, Marketing, S...</td>\n",
       "      <td>TheCollegeFever is a hub for fun, fiesta and f...</td>\n",
       "      <td>Unknown</td>\n",
       "      <td>Unknown</td>\n",
       "      <td>250000.00</td>\n",
       "      <td>Seed</td>\n",
       "    </tr>\n",
       "    <tr>\n",
       "      <th>1</th>\n",
       "      <td>Happy Cow Dairy</td>\n",
       "      <td>2010</td>\n",
       "      <td>Mumbai, Maharashtra, India</td>\n",
       "      <td>Agriculture, Farming</td>\n",
       "      <td>A startup which aggregates milk from dairy far...</td>\n",
       "      <td>Unknown</td>\n",
       "      <td>Unknown</td>\n",
       "      <td>584000.00</td>\n",
       "      <td>Seed</td>\n",
       "    </tr>\n",
       "    <tr>\n",
       "      <th>2</th>\n",
       "      <td>MyLoanCare</td>\n",
       "      <td>2015</td>\n",
       "      <td>Gurgaon, Haryana, India</td>\n",
       "      <td>Credit, Financial Services, Lending, Marketplace</td>\n",
       "      <td>Leading Online Loans Marketplace in India</td>\n",
       "      <td>Unknown</td>\n",
       "      <td>Unknown</td>\n",
       "      <td>949000.00</td>\n",
       "      <td>Series A</td>\n",
       "    </tr>\n",
       "    <tr>\n",
       "      <th>3</th>\n",
       "      <td>PayMe India</td>\n",
       "      <td>2018</td>\n",
       "      <td>Noida, Uttar Pradesh, India</td>\n",
       "      <td>Financial Services, FinTech</td>\n",
       "      <td>PayMe India is an innovative FinTech organizat...</td>\n",
       "      <td>Unknown</td>\n",
       "      <td>Unknown</td>\n",
       "      <td>2000000.00</td>\n",
       "      <td>Angel</td>\n",
       "    </tr>\n",
       "    <tr>\n",
       "      <th>4</th>\n",
       "      <td>Eunimart</td>\n",
       "      <td>2016</td>\n",
       "      <td>Hyderabad, Andhra Pradesh, India</td>\n",
       "      <td>E-Commerce Platforms, Retail, SaaS</td>\n",
       "      <td>Eunimart is a one stop solution for merchants ...</td>\n",
       "      <td>Unknown</td>\n",
       "      <td>Unknown</td>\n",
       "      <td>0.00</td>\n",
       "      <td>Seed</td>\n",
       "    </tr>\n",
       "  </tbody>\n",
       "</table>\n",
       "</div>"
      ],
      "text/plain": [
       "     Company/Brand  Founded                       HeadQuarter  \\\n",
       "0  TheCollegeFever     2015       Bangalore, Karnataka, India   \n",
       "1  Happy Cow Dairy     2010        Mumbai, Maharashtra, India   \n",
       "2       MyLoanCare     2015           Gurgaon, Haryana, India   \n",
       "3      PayMe India     2018       Noida, Uttar Pradesh, India   \n",
       "4         Eunimart     2016  Hyderabad, Andhra Pradesh, India   \n",
       "\n",
       "                                              Sector  \\\n",
       "0  Brand Marketing, Event Promotion, Marketing, S...   \n",
       "1                               Agriculture, Farming   \n",
       "2   Credit, Financial Services, Lending, Marketplace   \n",
       "3                        Financial Services, FinTech   \n",
       "4                 E-Commerce Platforms, Retail, SaaS   \n",
       "\n",
       "                                        What it does Founders Investor  \\\n",
       "0  TheCollegeFever is a hub for fun, fiesta and f...  Unknown  Unknown   \n",
       "1  A startup which aggregates milk from dairy far...  Unknown  Unknown   \n",
       "2          Leading Online Loans Marketplace in India  Unknown  Unknown   \n",
       "3  PayMe India is an innovative FinTech organizat...  Unknown  Unknown   \n",
       "4  Eunimart is a one stop solution for merchants ...  Unknown  Unknown   \n",
       "\n",
       "   Amount($)     Stage  \n",
       "0  250000.00      Seed  \n",
       "1  584000.00      Seed  \n",
       "2  949000.00  Series A  \n",
       "3 2000000.00     Angel  \n",
       "4       0.00      Seed  "
      ]
     },
     "execution_count": 32,
     "metadata": {},
     "output_type": "execute_result"
    }
   ],
   "source": [
    "def replace_na_with_unknown(df):\n",
    "    # Replace missing values with 'Unknown'\n",
    "    df['HeadQuarter'].fillna('Unknown', inplace = True)\n",
    "    df['What it does'].fillna('Unknown', inplace = True)\n",
    "    df['Founders'].fillna('Unknown', inplace = True)\n",
    "    df['Investor'].fillna('Unknown', inplace = True)\n",
    "\n",
    "    # Display the updated DataFrame\n",
    "    return df.head()\n",
    "\n",
    "replace_na_with_unknown(start_ups_2018)"
   ]
  },
  {
   "cell_type": "code",
   "execution_count": 33,
   "metadata": {},
   "outputs": [
    {
     "data": {
      "text/plain": [
       "Company/Brand     0\n",
       "Founded           0\n",
       "HeadQuarter       0\n",
       "Sector           30\n",
       "What it does      0\n",
       "Founders          0\n",
       "Investor          0\n",
       "Amount($)         0\n",
       "Stage             0\n",
       "dtype: int64"
      ]
     },
     "execution_count": 33,
     "metadata": {},
     "output_type": "execute_result"
    }
   ],
   "source": [
    "start_ups_2018.isna().sum()"
   ]
  },
  {
   "attachments": {},
   "cell_type": "markdown",
   "metadata": {},
   "source": [
    "I have to decide whether to use the mean or median to impute the missing values in the remaining columns of 2018 to 2021 datasets. I would have to consider the outliers and Missing Data Mechanism i.e., whether or not the data is missing completely at random (the missingness is unrelated to the values themselves)."
   ]
  },
  {
   "cell_type": "code",
   "execution_count": 34,
   "metadata": {},
   "outputs": [
    {
     "data": {
      "text/plain": [
       "Company/Brand    0\n",
       "Founded          0\n",
       "HeadQuarter      0\n",
       "Sector           0\n",
       "What it does     0\n",
       "Founders         0\n",
       "Investor         0\n",
       "Amount($)        0\n",
       "Stage            0\n",
       "dtype: int64"
      ]
     },
     "execution_count": 34,
     "metadata": {},
     "output_type": "execute_result"
    }
   ],
   "source": [
    "def impute_na(df):\n",
    "    # Separate instances of SimpleImputer for numerical and categorical variables\n",
    "    numerical_imputer = SimpleImputer(strategy='mean')  # or 'median', 'most_frequent', 'constant'\n",
    "    categorical_imputer = SimpleImputer(strategy='most_frequent')  # or 'constant'\n",
    "\n",
    "    # Identify numerical and categorical columns\n",
    "    numerical_columns = df.select_dtypes(include=[np.number]).columns\n",
    "    categorical_columns = df.select_dtypes(include=[object]).columns\n",
    "\n",
    "    # Impute missing values for numerical variables\n",
    "    df[numerical_columns] = numerical_imputer.fit_transform(df[numerical_columns])\n",
    "\n",
    "    # Impute missing values for categorical variables\n",
    "    df[categorical_columns] = categorical_imputer.fit_transform(df[categorical_columns])\n",
    "\n",
    "    return df.isna().sum()\n",
    "\n",
    "impute_na(start_ups_2018)"
   ]
  },
  {
   "cell_type": "code",
   "execution_count": 35,
   "metadata": {},
   "outputs": [],
   "source": [
    "def alter_multiple_entries(df):\n",
    "    df['Sector'] = df['Sector'].apply(lambda x: str(x).split(',')[0])\n",
    "    df['Sector'] = df['Sector'].apply(lambda x: str(x).capitalize())\n",
    "\n",
    "    df['HeadQuarter'] = df['HeadQuarter'].apply(lambda x: str(x).split(',')[0])\n",
    "    df['HeadQuarter'].replace('Bangalore', 'Bengaluru', inplace = True)\n",
    "    df['HeadQuarter'].replace('New Delhi', 'Delhi', inplace = True)\n",
    "    df['HeadQuarter'].replace('Gurgaon', 'Gurugram', inplace = True)\n",
    "    df['HeadQuarter'].replace('Bombay', 'Mumbai', inplace = True)\n",
    "    return df['Sector'], df['HeadQuarter']\n",
    "\n",
    "result = alter_multiple_entries(start_ups_2018)"
   ]
  },
  {
   "cell_type": "code",
   "execution_count": 36,
   "metadata": {},
   "outputs": [
    {
     "data": {
      "text/plain": [
       "0             Brand marketing\n",
       "1                 Agriculture\n",
       "2                      Credit\n",
       "3          Financial services\n",
       "4        E-commerce platforms\n",
       "                ...          \n",
       "521                       B2b\n",
       "522                   Tourism\n",
       "523         Food and beverage\n",
       "524    Information technology\n",
       "525             Biotechnology\n",
       "Name: Sector, Length: 525, dtype: object"
      ]
     },
     "execution_count": 36,
     "metadata": {},
     "output_type": "execute_result"
    }
   ],
   "source": [
    "# Display the new sector column\n",
    "result[0]"
   ]
  },
  {
   "cell_type": "code",
   "execution_count": 37,
   "metadata": {},
   "outputs": [
    {
     "data": {
      "text/plain": [
       "0      Bengaluru\n",
       "1         Mumbai\n",
       "2       Gurugram\n",
       "3          Noida\n",
       "4      Hyderabad\n",
       "         ...    \n",
       "521    Bengaluru\n",
       "522      Haryana\n",
       "523       Mumbai\n",
       "524       Mumbai\n",
       "525      Chennai\n",
       "Name: HeadQuarter, Length: 525, dtype: object"
      ]
     },
     "execution_count": 37,
     "metadata": {},
     "output_type": "execute_result"
    }
   ],
   "source": [
    "# Display the new HeadQuarter column\n",
    "result[1]"
   ]
  },
  {
   "cell_type": "code",
   "execution_count": 38,
   "metadata": {},
   "outputs": [],
   "source": [
    "# Convert the 'Founded' column to datetime object\n",
    "start_ups_2018['Founded'] = pd.to_datetime(start_ups_2018['Founded'], format='%Y')\n",
    "\n",
    "# Extract only the years from the 'Founded' column\n",
    "start_ups_2018['Founded'] = start_ups_2018['Founded'].dt.year"
   ]
  },
  {
   "cell_type": "code",
   "execution_count": 39,
   "metadata": {},
   "outputs": [
    {
     "data": {
      "text/html": [
       "<div>\n",
       "<style scoped>\n",
       "    .dataframe tbody tr th:only-of-type {\n",
       "        vertical-align: middle;\n",
       "    }\n",
       "\n",
       "    .dataframe tbody tr th {\n",
       "        vertical-align: top;\n",
       "    }\n",
       "\n",
       "    .dataframe thead th {\n",
       "        text-align: right;\n",
       "    }\n",
       "</style>\n",
       "<table border=\"1\" class=\"dataframe\">\n",
       "  <thead>\n",
       "    <tr style=\"text-align: right;\">\n",
       "      <th></th>\n",
       "      <th>Company/Brand</th>\n",
       "      <th>Founded</th>\n",
       "      <th>HeadQuarter</th>\n",
       "      <th>Sector</th>\n",
       "      <th>What it does</th>\n",
       "      <th>Founders</th>\n",
       "      <th>Investor</th>\n",
       "      <th>Amount($)</th>\n",
       "      <th>Stage</th>\n",
       "    </tr>\n",
       "  </thead>\n",
       "  <tbody>\n",
       "    <tr>\n",
       "      <th>4</th>\n",
       "      <td>Eunimart</td>\n",
       "      <td>2016</td>\n",
       "      <td>Hyderabad</td>\n",
       "      <td>E-commerce platforms</td>\n",
       "      <td>Eunimart is a one stop solution for merchants ...</td>\n",
       "      <td>Unknown</td>\n",
       "      <td>Unknown</td>\n",
       "      <td>0.00</td>\n",
       "      <td>Seed</td>\n",
       "    </tr>\n",
       "    <tr>\n",
       "      <th>415</th>\n",
       "      <td>Duroflex Pvt. Ltd.</td>\n",
       "      <td>2010</td>\n",
       "      <td>Alleppey</td>\n",
       "      <td>Consumer goods</td>\n",
       "      <td>Duroflex Pvt. Ltd. operates as a dominant matt...</td>\n",
       "      <td>Unknown</td>\n",
       "      <td>Unknown</td>\n",
       "      <td>22000000.00</td>\n",
       "      <td>Private Equity</td>\n",
       "    </tr>\n",
       "    <tr>\n",
       "      <th>454</th>\n",
       "      <td>LivQuik</td>\n",
       "      <td>2013</td>\n",
       "      <td>Mumbai</td>\n",
       "      <td>Fintech</td>\n",
       "      <td>LivQuik was incorporated with the vision to si...</td>\n",
       "      <td>Unknown</td>\n",
       "      <td>Unknown</td>\n",
       "      <td>2700000.00</td>\n",
       "      <td>Corporate Round</td>\n",
       "    </tr>\n",
       "    <tr>\n",
       "      <th>365</th>\n",
       "      <td>Verloop</td>\n",
       "      <td>2015</td>\n",
       "      <td>Bengaluru</td>\n",
       "      <td>Customer service</td>\n",
       "      <td>Verloop is an automated customer support and e...</td>\n",
       "      <td>Unknown</td>\n",
       "      <td>Unknown</td>\n",
       "      <td>3000000.00</td>\n",
       "      <td>Series A</td>\n",
       "    </tr>\n",
       "    <tr>\n",
       "      <th>9</th>\n",
       "      <td>Microchip Payments</td>\n",
       "      <td>2017</td>\n",
       "      <td>Bengaluru</td>\n",
       "      <td>Mobile payments</td>\n",
       "      <td>Microchip payments is a mobile-based payment a...</td>\n",
       "      <td>Unknown</td>\n",
       "      <td>Unknown</td>\n",
       "      <td>0.00</td>\n",
       "      <td>Seed</td>\n",
       "    </tr>\n",
       "    <tr>\n",
       "      <th>474</th>\n",
       "      <td>Qbera</td>\n",
       "      <td>2011</td>\n",
       "      <td>Bengaluru</td>\n",
       "      <td>Finance</td>\n",
       "      <td>Qbera is a managed marketplace for unsecured p...</td>\n",
       "      <td>Unknown</td>\n",
       "      <td>Unknown</td>\n",
       "      <td>2044000.00</td>\n",
       "      <td>Venture - Series Unknown</td>\n",
       "    </tr>\n",
       "    <tr>\n",
       "      <th>72</th>\n",
       "      <td>BUGWORKS Research India</td>\n",
       "      <td>2015</td>\n",
       "      <td>Bengaluru</td>\n",
       "      <td>Biotechnology</td>\n",
       "      <td>BUGWORKS is a drug discovery company.</td>\n",
       "      <td>Unknown</td>\n",
       "      <td>Unknown</td>\n",
       "      <td>9000000.00</td>\n",
       "      <td>Series A</td>\n",
       "    </tr>\n",
       "    <tr>\n",
       "      <th>278</th>\n",
       "      <td>Poshmiles Online Solutions Private Limited</td>\n",
       "      <td>2011</td>\n",
       "      <td>Bengaluru</td>\n",
       "      <td>Travel</td>\n",
       "      <td>Poshmiles aims to help point travellers to lon...</td>\n",
       "      <td>Unknown</td>\n",
       "      <td>Unknown</td>\n",
       "      <td>0.00</td>\n",
       "      <td>Seed</td>\n",
       "    </tr>\n",
       "    <tr>\n",
       "      <th>431</th>\n",
       "      <td>Cellerite Systems</td>\n",
       "      <td>2014</td>\n",
       "      <td>Hyderabad</td>\n",
       "      <td>Electric vehicle</td>\n",
       "      <td>Cellerite Systems is a charging solutions prov...</td>\n",
       "      <td>Unknown</td>\n",
       "      <td>Unknown</td>\n",
       "      <td>0.00</td>\n",
       "      <td>Seed</td>\n",
       "    </tr>\n",
       "    <tr>\n",
       "      <th>56</th>\n",
       "      <td>Propshop24</td>\n",
       "      <td>2016</td>\n",
       "      <td>Mumbai</td>\n",
       "      <td>E-commerce</td>\n",
       "      <td>Propshop24, a one-stop shop for a handpicked s...</td>\n",
       "      <td>Unknown</td>\n",
       "      <td>Unknown</td>\n",
       "      <td>500000.00</td>\n",
       "      <td>Seed</td>\n",
       "    </tr>\n",
       "    <tr>\n",
       "      <th>331</th>\n",
       "      <td>DheeYantra Research Labs</td>\n",
       "      <td>2015</td>\n",
       "      <td>Bengaluru</td>\n",
       "      <td>Artificial intelligence</td>\n",
       "      <td>DheeYantra is building a cognitive conversatio...</td>\n",
       "      <td>Unknown</td>\n",
       "      <td>Unknown</td>\n",
       "      <td>0.00</td>\n",
       "      <td>Seed</td>\n",
       "    </tr>\n",
       "    <tr>\n",
       "      <th>418</th>\n",
       "      <td>Medimetry</td>\n",
       "      <td>2016</td>\n",
       "      <td>Haryana</td>\n",
       "      <td>Health care</td>\n",
       "      <td>MediMetry is an online platform where patients...</td>\n",
       "      <td>Unknown</td>\n",
       "      <td>Unknown</td>\n",
       "      <td>0.00</td>\n",
       "      <td>Seed</td>\n",
       "    </tr>\n",
       "    <tr>\n",
       "      <th>52</th>\n",
       "      <td>Playtoome</td>\n",
       "      <td>2010</td>\n",
       "      <td>Bengaluru</td>\n",
       "      <td>Broadcasting</td>\n",
       "      <td>Playtoome is a live entertainment destination</td>\n",
       "      <td>Unknown</td>\n",
       "      <td>Unknown</td>\n",
       "      <td>292000.00</td>\n",
       "      <td>Seed</td>\n",
       "    </tr>\n",
       "    <tr>\n",
       "      <th>518</th>\n",
       "      <td>Cleardekho</td>\n",
       "      <td>2013</td>\n",
       "      <td>Ghaziabad</td>\n",
       "      <td>Eyewear</td>\n",
       "      <td>Uttar Pradesh based online eyewear marketplace.</td>\n",
       "      <td>Unknown</td>\n",
       "      <td>Unknown</td>\n",
       "      <td>0.00</td>\n",
       "      <td>Venture - Series Unknown</td>\n",
       "    </tr>\n",
       "    <tr>\n",
       "      <th>215</th>\n",
       "      <td>Awign Enterprises</td>\n",
       "      <td>2015</td>\n",
       "      <td>Bengaluru</td>\n",
       "      <td>Business development</td>\n",
       "      <td>Operations and manpower outsourcing startup</td>\n",
       "      <td>Unknown</td>\n",
       "      <td>Unknown</td>\n",
       "      <td>730000.00</td>\n",
       "      <td>Seed</td>\n",
       "    </tr>\n",
       "    <tr>\n",
       "      <th>437</th>\n",
       "      <td>Worxogo</td>\n",
       "      <td>2017</td>\n",
       "      <td>Bengaluru</td>\n",
       "      <td>Information technology</td>\n",
       "      <td>worxogo’s is a pioneering persuasive technolog...</td>\n",
       "      <td>Unknown</td>\n",
       "      <td>Unknown</td>\n",
       "      <td>2409000.00</td>\n",
       "      <td>Series A</td>\n",
       "    </tr>\n",
       "    <tr>\n",
       "      <th>372</th>\n",
       "      <td>Stelis Biopharma</td>\n",
       "      <td>2016</td>\n",
       "      <td>Bengaluru</td>\n",
       "      <td>Biopharma</td>\n",
       "      <td>Stelis Biopharma is a vertically integrated bi...</td>\n",
       "      <td>Unknown</td>\n",
       "      <td>Unknown</td>\n",
       "      <td>100000000.00</td>\n",
       "      <td>Series B</td>\n",
       "    </tr>\n",
       "    <tr>\n",
       "      <th>166</th>\n",
       "      <td>artbandhu</td>\n",
       "      <td>2011</td>\n",
       "      <td>Bengaluru</td>\n",
       "      <td>Digital media</td>\n",
       "      <td>Ai platform for Art and Creative Community</td>\n",
       "      <td>Unknown</td>\n",
       "      <td>Unknown</td>\n",
       "      <td>15000.00</td>\n",
       "      <td>Pre-Seed</td>\n",
       "    </tr>\n",
       "    <tr>\n",
       "      <th>496</th>\n",
       "      <td>Myra</td>\n",
       "      <td>2016</td>\n",
       "      <td>Bengaluru</td>\n",
       "      <td>Apps</td>\n",
       "      <td>Myra is a unique solution of technology and op...</td>\n",
       "      <td>Unknown</td>\n",
       "      <td>Unknown</td>\n",
       "      <td>127750.00</td>\n",
       "      <td>Venture - Series Unknown</td>\n",
       "    </tr>\n",
       "    <tr>\n",
       "      <th>447</th>\n",
       "      <td>Lavelle Networks</td>\n",
       "      <td>2010</td>\n",
       "      <td>Bengaluru</td>\n",
       "      <td>Cloud computing</td>\n",
       "      <td>Lavelle Networks provides Software Defined WAN...</td>\n",
       "      <td>Unknown</td>\n",
       "      <td>Unknown</td>\n",
       "      <td>292000.00</td>\n",
       "      <td>Venture - Series Unknown</td>\n",
       "    </tr>\n",
       "  </tbody>\n",
       "</table>\n",
       "</div>"
      ],
      "text/plain": [
       "                                  Company/Brand  Founded HeadQuarter  \\\n",
       "4                                      Eunimart     2016   Hyderabad   \n",
       "415                          Duroflex Pvt. Ltd.     2010    Alleppey   \n",
       "454                                     LivQuik     2013      Mumbai   \n",
       "365                                     Verloop     2015   Bengaluru   \n",
       "9                            Microchip Payments     2017   Bengaluru   \n",
       "474                                       Qbera     2011   Bengaluru   \n",
       "72                      BUGWORKS Research India     2015   Bengaluru   \n",
       "278  Poshmiles Online Solutions Private Limited     2011   Bengaluru   \n",
       "431                           Cellerite Systems     2014   Hyderabad   \n",
       "56                                   Propshop24     2016      Mumbai   \n",
       "331                    DheeYantra Research Labs     2015   Bengaluru   \n",
       "418                                   Medimetry     2016     Haryana   \n",
       "52                                    Playtoome     2010   Bengaluru   \n",
       "518                                  Cleardekho     2013   Ghaziabad   \n",
       "215                           Awign Enterprises     2015   Bengaluru   \n",
       "437                                     Worxogo     2017   Bengaluru   \n",
       "372                            Stelis Biopharma     2016   Bengaluru   \n",
       "166                                   artbandhu     2011   Bengaluru   \n",
       "496                                        Myra     2016   Bengaluru   \n",
       "447                            Lavelle Networks     2010   Bengaluru   \n",
       "\n",
       "                      Sector  \\\n",
       "4       E-commerce platforms   \n",
       "415           Consumer goods   \n",
       "454                  Fintech   \n",
       "365         Customer service   \n",
       "9            Mobile payments   \n",
       "474                  Finance   \n",
       "72             Biotechnology   \n",
       "278                   Travel   \n",
       "431         Electric vehicle   \n",
       "56                E-commerce   \n",
       "331  Artificial intelligence   \n",
       "418              Health care   \n",
       "52              Broadcasting   \n",
       "518                  Eyewear   \n",
       "215     Business development   \n",
       "437   Information technology   \n",
       "372                Biopharma   \n",
       "166            Digital media   \n",
       "496                     Apps   \n",
       "447          Cloud computing   \n",
       "\n",
       "                                          What it does Founders Investor  \\\n",
       "4    Eunimart is a one stop solution for merchants ...  Unknown  Unknown   \n",
       "415  Duroflex Pvt. Ltd. operates as a dominant matt...  Unknown  Unknown   \n",
       "454  LivQuik was incorporated with the vision to si...  Unknown  Unknown   \n",
       "365  Verloop is an automated customer support and e...  Unknown  Unknown   \n",
       "9    Microchip payments is a mobile-based payment a...  Unknown  Unknown   \n",
       "474  Qbera is a managed marketplace for unsecured p...  Unknown  Unknown   \n",
       "72               BUGWORKS is a drug discovery company.  Unknown  Unknown   \n",
       "278  Poshmiles aims to help point travellers to lon...  Unknown  Unknown   \n",
       "431  Cellerite Systems is a charging solutions prov...  Unknown  Unknown   \n",
       "56   Propshop24, a one-stop shop for a handpicked s...  Unknown  Unknown   \n",
       "331  DheeYantra is building a cognitive conversatio...  Unknown  Unknown   \n",
       "418  MediMetry is an online platform where patients...  Unknown  Unknown   \n",
       "52       Playtoome is a live entertainment destination  Unknown  Unknown   \n",
       "518    Uttar Pradesh based online eyewear marketplace.  Unknown  Unknown   \n",
       "215        Operations and manpower outsourcing startup  Unknown  Unknown   \n",
       "437  worxogo’s is a pioneering persuasive technolog...  Unknown  Unknown   \n",
       "372  Stelis Biopharma is a vertically integrated bi...  Unknown  Unknown   \n",
       "166         Ai platform for Art and Creative Community  Unknown  Unknown   \n",
       "496  Myra is a unique solution of technology and op...  Unknown  Unknown   \n",
       "447  Lavelle Networks provides Software Defined WAN...  Unknown  Unknown   \n",
       "\n",
       "       Amount($)                     Stage  \n",
       "4           0.00                      Seed  \n",
       "415  22000000.00            Private Equity  \n",
       "454   2700000.00           Corporate Round  \n",
       "365   3000000.00                  Series A  \n",
       "9           0.00                      Seed  \n",
       "474   2044000.00  Venture - Series Unknown  \n",
       "72    9000000.00                  Series A  \n",
       "278         0.00                      Seed  \n",
       "431         0.00                      Seed  \n",
       "56     500000.00                      Seed  \n",
       "331         0.00                      Seed  \n",
       "418         0.00                      Seed  \n",
       "52     292000.00                      Seed  \n",
       "518         0.00  Venture - Series Unknown  \n",
       "215    730000.00                      Seed  \n",
       "437   2409000.00                  Series A  \n",
       "372 100000000.00                  Series B  \n",
       "166     15000.00                  Pre-Seed  \n",
       "496    127750.00  Venture - Series Unknown  \n",
       "447    292000.00  Venture - Series Unknown  "
      ]
     },
     "execution_count": 39,
     "metadata": {},
     "output_type": "execute_result"
    }
   ],
   "source": [
    "start_ups_2018.sample(20)"
   ]
  },
  {
   "cell_type": "code",
   "execution_count": 40,
   "metadata": {},
   "outputs": [],
   "source": [
    "# Export the cleaned DataFrame to a CSV file\n",
    "\n",
    "file_path = './India Startup Funding Cleaned/start_ups_2018.csv'\n",
    "start_ups_2018.to_csv(file_path, index=False)"
   ]
  },
  {
   "attachments": {},
   "cell_type": "markdown",
   "metadata": {},
   "source": [
    "#### **start_ups_2019**"
   ]
  },
  {
   "cell_type": "code",
   "execution_count": 41,
   "metadata": {},
   "outputs": [
    {
     "data": {
      "text/plain": [
       "(89, 9)"
      ]
     },
     "execution_count": 41,
     "metadata": {},
     "output_type": "execute_result"
    }
   ],
   "source": [
    "start_ups_2019.shape"
   ]
  },
  {
   "cell_type": "code",
   "execution_count": 42,
   "metadata": {},
   "outputs": [
    {
     "name": "stdout",
     "output_type": "stream",
     "text": [
      "<class 'pandas.core.frame.DataFrame'>\n",
      "RangeIndex: 89 entries, 0 to 88\n",
      "Data columns (total 9 columns):\n",
      " #   Column         Non-Null Count  Dtype \n",
      "---  ------         --------------  ----- \n",
      " 0   Company/Brand  89 non-null     object\n",
      " 1   Founded        89 non-null     object\n",
      " 2   HeadQuarter    89 non-null     object\n",
      " 3   Sector         89 non-null     object\n",
      " 4   What it does   89 non-null     object\n",
      " 5   Founders       89 non-null     object\n",
      " 6   Investor       89 non-null     object\n",
      " 7   Amount($)      89 non-null     object\n",
      " 8   Stage          89 non-null     object\n",
      "dtypes: object(9)\n",
      "memory usage: 6.4+ KB\n"
     ]
    }
   ],
   "source": [
    "start_ups_2019.info()"
   ]
  },
  {
   "cell_type": "code",
   "execution_count": 43,
   "metadata": {},
   "outputs": [
    {
     "data": {
      "text/plain": [
       "0"
      ]
     },
     "execution_count": 43,
     "metadata": {},
     "output_type": "execute_result"
    }
   ],
   "source": [
    "# check for duplicated rows\n",
    "start_ups_2019.duplicated().sum()"
   ]
  },
  {
   "cell_type": "code",
   "execution_count": 44,
   "metadata": {},
   "outputs": [
    {
     "data": {
      "text/plain": [
       "0"
      ]
     },
     "execution_count": 44,
     "metadata": {},
     "output_type": "execute_result"
    }
   ],
   "source": [
    "# check for duplicated columns\n",
    "start_ups_2019.T.duplicated().sum()"
   ]
  },
  {
   "cell_type": "code",
   "execution_count": 45,
   "metadata": {},
   "outputs": [
    {
     "data": {
      "text/plain": [
       "0       $6,300,000\n",
       "1     $150,000,000\n",
       "2      $28,000,000\n",
       "3      $30,000,000\n",
       "4       $6,000,000\n",
       "          ...     \n",
       "84     $20,000,000\n",
       "85    $693,000,000\n",
       "86      $5,000,000\n",
       "87     $50,000,000\n",
       "88     $33,000,000\n",
       "Name: Amount($), Length: 89, dtype: object"
      ]
     },
     "execution_count": 45,
     "metadata": {},
     "output_type": "execute_result"
    }
   ],
   "source": [
    "# clean and convert the datatype of the values in the Amount($) column to float\n",
    "start_ups_2019['Amount($)']"
   ]
  },
  {
   "cell_type": "code",
   "execution_count": 46,
   "metadata": {},
   "outputs": [
    {
     "data": {
      "text/plain": [
       "0"
      ]
     },
     "execution_count": 46,
     "metadata": {},
     "output_type": "execute_result"
    }
   ],
   "source": [
    "rupee_filter = start_ups_2019['Amount($)'].str.contains('₹')\n",
    "rupee_filter.sum()"
   ]
  },
  {
   "cell_type": "code",
   "execution_count": 47,
   "metadata": {},
   "outputs": [
    {
     "data": {
      "text/plain": [
       "0      6300000.00\n",
       "1    150000000.00\n",
       "2     28000000.00\n",
       "3     30000000.00\n",
       "4      6000000.00\n",
       "         ...     \n",
       "84    20000000.00\n",
       "85   693000000.00\n",
       "86     5000000.00\n",
       "87    50000000.00\n",
       "88    33000000.00\n",
       "Name: Amount($), Length: 89, dtype: float64"
      ]
     },
     "execution_count": 47,
     "metadata": {},
     "output_type": "execute_result"
    }
   ],
   "source": [
    "start_ups_2019['Amount($)'] = start_ups_2019['Amount($)'].apply(lambda x : str(x).replace('$', '').replace(',', ''))\n",
    "start_ups_2019['Amount($)'] = start_ups_2019['Amount($)'].apply(lambda x : str(x).replace('Undisclosed', str(np.nan)))\n",
    "\n",
    "start_ups_2019['Amount($)'] = start_ups_2019['Amount($)'].astype(float)\n",
    "start_ups_2019['Amount($)']"
   ]
  },
  {
   "cell_type": "code",
   "execution_count": 48,
   "metadata": {},
   "outputs": [
    {
     "data": {
      "text/plain": [
       "Company/Brand     object\n",
       "Founded           object\n",
       "HeadQuarter       object\n",
       "Sector            object\n",
       "What it does      object\n",
       "Founders          object\n",
       "Investor          object\n",
       "Amount($)        float64\n",
       "Stage             object\n",
       "dtype: object"
      ]
     },
     "execution_count": 48,
     "metadata": {},
     "output_type": "execute_result"
    }
   ],
   "source": [
    "start_ups_2019.dtypes"
   ]
  },
  {
   "cell_type": "code",
   "execution_count": 49,
   "metadata": {},
   "outputs": [
    {
     "data": {
      "text/html": [
       "<div>\n",
       "<style scoped>\n",
       "    .dataframe tbody tr th:only-of-type {\n",
       "        vertical-align: middle;\n",
       "    }\n",
       "\n",
       "    .dataframe tbody tr th {\n",
       "        vertical-align: top;\n",
       "    }\n",
       "\n",
       "    .dataframe thead th {\n",
       "        text-align: right;\n",
       "    }\n",
       "</style>\n",
       "<table border=\"1\" class=\"dataframe\">\n",
       "  <thead>\n",
       "    <tr style=\"text-align: right;\">\n",
       "      <th></th>\n",
       "      <th>Amount($)</th>\n",
       "    </tr>\n",
       "  </thead>\n",
       "  <tbody>\n",
       "    <tr>\n",
       "      <th>count</th>\n",
       "      <td>77.00</td>\n",
       "    </tr>\n",
       "    <tr>\n",
       "      <th>mean</th>\n",
       "      <td>43330301.30</td>\n",
       "    </tr>\n",
       "    <tr>\n",
       "      <th>std</th>\n",
       "      <td>110621589.91</td>\n",
       "    </tr>\n",
       "    <tr>\n",
       "      <th>min</th>\n",
       "      <td>100000.00</td>\n",
       "    </tr>\n",
       "    <tr>\n",
       "      <th>25%</th>\n",
       "      <td>2100000.00</td>\n",
       "    </tr>\n",
       "    <tr>\n",
       "      <th>50%</th>\n",
       "      <td>6000000.00</td>\n",
       "    </tr>\n",
       "    <tr>\n",
       "      <th>75%</th>\n",
       "      <td>30000000.00</td>\n",
       "    </tr>\n",
       "    <tr>\n",
       "      <th>max</th>\n",
       "      <td>693000000.00</td>\n",
       "    </tr>\n",
       "  </tbody>\n",
       "</table>\n",
       "</div>"
      ],
      "text/plain": [
       "         Amount($)\n",
       "count        77.00\n",
       "mean   43330301.30\n",
       "std   110621589.91\n",
       "min      100000.00\n",
       "25%     2100000.00\n",
       "50%     6000000.00\n",
       "75%    30000000.00\n",
       "max   693000000.00"
      ]
     },
     "execution_count": 49,
     "metadata": {},
     "output_type": "execute_result"
    }
   ],
   "source": [
    "start_ups_2019.describe()"
   ]
  },
  {
   "cell_type": "code",
   "execution_count": 50,
   "metadata": {},
   "outputs": [],
   "source": [
    "result = convert_nan_variations(start_ups_2019)"
   ]
  },
  {
   "cell_type": "code",
   "execution_count": 51,
   "metadata": {},
   "outputs": [
    {
     "name": "stdout",
     "output_type": "stream",
     "text": [
      "The number of occurrences for each column is:\n"
     ]
    },
    {
     "data": {
      "text/plain": [
       "Company/Brand     0\n",
       "Founded          29\n",
       "HeadQuarter      19\n",
       "Sector            5\n",
       "What it does      0\n",
       "Founders          3\n",
       "Investor          0\n",
       "Amount($)         0\n",
       "Stage            46\n",
       "Name: nan_count, dtype: int32"
      ]
     },
     "execution_count": 51,
     "metadata": {},
     "output_type": "execute_result"
    }
   ],
   "source": [
    "# Display the count of occurrences for each column\n",
    "print('The number of occurrences for each column is:')\n",
    "result[0]"
   ]
  },
  {
   "cell_type": "code",
   "execution_count": 52,
   "metadata": {},
   "outputs": [
    {
     "name": "stdout",
     "output_type": "stream",
     "text": [
      "The number of missing values in each column is:\n"
     ]
    },
    {
     "data": {
      "text/plain": [
       "Company/Brand     0\n",
       "Founded          29\n",
       "HeadQuarter      19\n",
       "Sector            5\n",
       "What it does      0\n",
       "Founders          3\n",
       "Investor          0\n",
       "Amount($)        12\n",
       "Stage            46\n",
       "dtype: int64"
      ]
     },
     "execution_count": 52,
     "metadata": {},
     "output_type": "execute_result"
    }
   ],
   "source": [
    "# Display the sum of missing values in each column\n",
    "print('The number of missing values in each column is:')\n",
    "result[1]"
   ]
  },
  {
   "cell_type": "code",
   "execution_count": 53,
   "metadata": {},
   "outputs": [
    {
     "data": {
      "text/html": [
       "<div>\n",
       "<style scoped>\n",
       "    .dataframe tbody tr th:only-of-type {\n",
       "        vertical-align: middle;\n",
       "    }\n",
       "\n",
       "    .dataframe tbody tr th {\n",
       "        vertical-align: top;\n",
       "    }\n",
       "\n",
       "    .dataframe thead th {\n",
       "        text-align: right;\n",
       "    }\n",
       "</style>\n",
       "<table border=\"1\" class=\"dataframe\">\n",
       "  <thead>\n",
       "    <tr style=\"text-align: right;\">\n",
       "      <th></th>\n",
       "      <th>Company/Brand</th>\n",
       "      <th>Founded</th>\n",
       "      <th>HeadQuarter</th>\n",
       "      <th>Sector</th>\n",
       "      <th>What it does</th>\n",
       "      <th>Founders</th>\n",
       "      <th>Investor</th>\n",
       "      <th>Amount($)</th>\n",
       "      <th>Stage</th>\n",
       "    </tr>\n",
       "  </thead>\n",
       "  <tbody>\n",
       "    <tr>\n",
       "      <th>0</th>\n",
       "      <td>Bombay Shaving</td>\n",
       "      <td>NaN</td>\n",
       "      <td>Unknown</td>\n",
       "      <td>Ecommerce</td>\n",
       "      <td>Provides a range of male grooming products</td>\n",
       "      <td>Shantanu Deshpande</td>\n",
       "      <td>Sixth Sense Ventures</td>\n",
       "      <td>6300000.00</td>\n",
       "      <td>NaN</td>\n",
       "    </tr>\n",
       "    <tr>\n",
       "      <th>1</th>\n",
       "      <td>Ruangguru</td>\n",
       "      <td>2014.0</td>\n",
       "      <td>Mumbai</td>\n",
       "      <td>Edtech</td>\n",
       "      <td>A learning platform that provides topic-based ...</td>\n",
       "      <td>Adamas Belva Syah Devara, Iman Usman.</td>\n",
       "      <td>General Atlantic</td>\n",
       "      <td>150000000.00</td>\n",
       "      <td>Series C</td>\n",
       "    </tr>\n",
       "    <tr>\n",
       "      <th>2</th>\n",
       "      <td>Eduisfun</td>\n",
       "      <td>NaN</td>\n",
       "      <td>Mumbai</td>\n",
       "      <td>Edtech</td>\n",
       "      <td>It aims to make learning fun via games.</td>\n",
       "      <td>Jatin Solanki</td>\n",
       "      <td>Deepak Parekh, Amitabh Bachchan, Piyush Pandey</td>\n",
       "      <td>28000000.00</td>\n",
       "      <td>Fresh funding</td>\n",
       "    </tr>\n",
       "    <tr>\n",
       "      <th>3</th>\n",
       "      <td>HomeLane</td>\n",
       "      <td>2014.0</td>\n",
       "      <td>Chennai</td>\n",
       "      <td>Interior design</td>\n",
       "      <td>Provides interior designing solutions</td>\n",
       "      <td>Srikanth Iyer, Rama Harinath</td>\n",
       "      <td>Evolvence India Fund (EIF), Pidilite Group, FJ...</td>\n",
       "      <td>30000000.00</td>\n",
       "      <td>Series D</td>\n",
       "    </tr>\n",
       "    <tr>\n",
       "      <th>4</th>\n",
       "      <td>Nu Genes</td>\n",
       "      <td>2004.0</td>\n",
       "      <td>Telangana</td>\n",
       "      <td>AgriTech</td>\n",
       "      <td>It is a seed company engaged in production, pr...</td>\n",
       "      <td>Narayana Reddy Punyala</td>\n",
       "      <td>Innovation in Food and Agriculture (IFA)</td>\n",
       "      <td>6000000.00</td>\n",
       "      <td>NaN</td>\n",
       "    </tr>\n",
       "  </tbody>\n",
       "</table>\n",
       "</div>"
      ],
      "text/plain": [
       "    Company/Brand Founded HeadQuarter           Sector  \\\n",
       "0  Bombay Shaving     NaN     Unknown        Ecommerce   \n",
       "1       Ruangguru  2014.0      Mumbai           Edtech   \n",
       "2        Eduisfun     NaN      Mumbai           Edtech   \n",
       "3        HomeLane  2014.0     Chennai  Interior design   \n",
       "4        Nu Genes  2004.0   Telangana         AgriTech   \n",
       "\n",
       "                                        What it does  \\\n",
       "0         Provides a range of male grooming products   \n",
       "1  A learning platform that provides topic-based ...   \n",
       "2            It aims to make learning fun via games.   \n",
       "3              Provides interior designing solutions   \n",
       "4  It is a seed company engaged in production, pr...   \n",
       "\n",
       "                                Founders  \\\n",
       "0                     Shantanu Deshpande   \n",
       "1  Adamas Belva Syah Devara, Iman Usman.   \n",
       "2                          Jatin Solanki   \n",
       "3           Srikanth Iyer, Rama Harinath   \n",
       "4                 Narayana Reddy Punyala   \n",
       "\n",
       "                                            Investor    Amount($)  \\\n",
       "0                               Sixth Sense Ventures   6300000.00   \n",
       "1                                   General Atlantic 150000000.00   \n",
       "2     Deepak Parekh, Amitabh Bachchan, Piyush Pandey  28000000.00   \n",
       "3  Evolvence India Fund (EIF), Pidilite Group, FJ...  30000000.00   \n",
       "4           Innovation in Food and Agriculture (IFA)   6000000.00   \n",
       "\n",
       "           Stage  \n",
       "0            NaN  \n",
       "1       Series C  \n",
       "2  Fresh funding  \n",
       "3       Series D  \n",
       "4            NaN  "
      ]
     },
     "execution_count": 53,
     "metadata": {},
     "output_type": "execute_result"
    }
   ],
   "source": [
    "replace_na_with_unknown(start_ups_2019)"
   ]
  },
  {
   "attachments": {},
   "cell_type": "markdown",
   "metadata": {},
   "source": [
    "To ensure that the missing values in the Founded column are correctly handled by the numerical imputer, I will need to convert the column to a numerical data type (float) before performing the imputation."
   ]
  },
  {
   "cell_type": "code",
   "execution_count": 54,
   "metadata": {},
   "outputs": [],
   "source": [
    "start_ups_2019['Founded'] = start_ups_2019['Founded'].astype(float)"
   ]
  },
  {
   "cell_type": "code",
   "execution_count": 55,
   "metadata": {},
   "outputs": [
    {
     "data": {
      "text/plain": [
       "Company/Brand     0\n",
       "Founded          29\n",
       "HeadQuarter       0\n",
       "Sector            5\n",
       "What it does      0\n",
       "Founders          0\n",
       "Investor          0\n",
       "Amount($)        12\n",
       "Stage            46\n",
       "dtype: int64"
      ]
     },
     "execution_count": 55,
     "metadata": {},
     "output_type": "execute_result"
    }
   ],
   "source": [
    "start_ups_2019.isna().sum()"
   ]
  },
  {
   "cell_type": "code",
   "execution_count": 56,
   "metadata": {},
   "outputs": [
    {
     "data": {
      "text/plain": [
       "Company/Brand    0\n",
       "Founded          0\n",
       "HeadQuarter      0\n",
       "Sector           0\n",
       "What it does     0\n",
       "Founders         0\n",
       "Investor         0\n",
       "Amount($)        0\n",
       "Stage            0\n",
       "dtype: int64"
      ]
     },
     "execution_count": 56,
     "metadata": {},
     "output_type": "execute_result"
    }
   ],
   "source": [
    "impute_na(start_ups_2019)"
   ]
  },
  {
   "cell_type": "code",
   "execution_count": 57,
   "metadata": {},
   "outputs": [],
   "source": [
    "result = alter_multiple_entries(start_ups_2019)"
   ]
  },
  {
   "cell_type": "code",
   "execution_count": 58,
   "metadata": {},
   "outputs": [
    {
     "data": {
      "text/plain": [
       "0                   Ecommerce\n",
       "1                      Edtech\n",
       "2                      Edtech\n",
       "3             Interior design\n",
       "4                    Agritech\n",
       "               ...           \n",
       "84                  Infratech\n",
       "85                Hospitality\n",
       "86    Automobile & technology\n",
       "87                 Automobile\n",
       "88                    Banking\n",
       "Name: Sector, Length: 89, dtype: object"
      ]
     },
     "execution_count": 58,
     "metadata": {},
     "output_type": "execute_result"
    }
   ],
   "source": [
    "# Display the new sector column\n",
    "result[0]"
   ]
  },
  {
   "cell_type": "code",
   "execution_count": 59,
   "metadata": {},
   "outputs": [
    {
     "data": {
      "text/plain": [
       "0       Unknown\n",
       "1        Mumbai\n",
       "2        Mumbai\n",
       "3       Chennai\n",
       "4     Telangana\n",
       "        ...    \n",
       "84       Mumbai\n",
       "85     Gurugram\n",
       "86        Delhi\n",
       "87        Delhi\n",
       "88    Rajasthan\n",
       "Name: HeadQuarter, Length: 89, dtype: object"
      ]
     },
     "execution_count": 59,
     "metadata": {},
     "output_type": "execute_result"
    }
   ],
   "source": [
    "# Display the new HeadQuarter column\n",
    "result[1]"
   ]
  },
  {
   "cell_type": "code",
   "execution_count": 60,
   "metadata": {},
   "outputs": [],
   "source": [
    "# Convert the 'Founded' column to datetime object\n",
    "start_ups_2019['Founded'] = pd.to_datetime(start_ups_2019['Founded'], format='%Y')\n",
    "\n",
    "# Extract only the years from the 'Founded' column\n",
    "start_ups_2019['Founded'] = start_ups_2019['Founded'].dt.year"
   ]
  },
  {
   "cell_type": "code",
   "execution_count": 61,
   "metadata": {},
   "outputs": [
    {
     "data": {
      "text/html": [
       "<div>\n",
       "<style scoped>\n",
       "    .dataframe tbody tr th:only-of-type {\n",
       "        vertical-align: middle;\n",
       "    }\n",
       "\n",
       "    .dataframe tbody tr th {\n",
       "        vertical-align: top;\n",
       "    }\n",
       "\n",
       "    .dataframe thead th {\n",
       "        text-align: right;\n",
       "    }\n",
       "</style>\n",
       "<table border=\"1\" class=\"dataframe\">\n",
       "  <thead>\n",
       "    <tr style=\"text-align: right;\">\n",
       "      <th></th>\n",
       "      <th>Company/Brand</th>\n",
       "      <th>Founded</th>\n",
       "      <th>HeadQuarter</th>\n",
       "      <th>Sector</th>\n",
       "      <th>What it does</th>\n",
       "      <th>Founders</th>\n",
       "      <th>Investor</th>\n",
       "      <th>Amount($)</th>\n",
       "      <th>Stage</th>\n",
       "    </tr>\n",
       "  </thead>\n",
       "  <tbody>\n",
       "    <tr>\n",
       "      <th>76</th>\n",
       "      <td>Phable</td>\n",
       "      <td>2018</td>\n",
       "      <td>Unknown</td>\n",
       "      <td>Healthtech</td>\n",
       "      <td>It creates an engagement loop between doctors,...</td>\n",
       "      <td>Sumit Sinha</td>\n",
       "      <td>LetsVenture, 91 Springboard, IKP Knowledge, An...</td>\n",
       "      <td>220000.00</td>\n",
       "      <td>Series A</td>\n",
       "    </tr>\n",
       "    <tr>\n",
       "      <th>17</th>\n",
       "      <td>Zest Money</td>\n",
       "      <td>2015</td>\n",
       "      <td>Bengaluru</td>\n",
       "      <td>Fintech</td>\n",
       "      <td>Uses AI to do risk profiling of e-commerce con...</td>\n",
       "      <td>Chapman, Priya Sharma, Ashish Anantharaman</td>\n",
       "      <td>Goldman Sachs.</td>\n",
       "      <td>15000000.00</td>\n",
       "      <td>Series B</td>\n",
       "    </tr>\n",
       "    <tr>\n",
       "      <th>3</th>\n",
       "      <td>HomeLane</td>\n",
       "      <td>2014</td>\n",
       "      <td>Chennai</td>\n",
       "      <td>Interior design</td>\n",
       "      <td>Provides interior designing solutions</td>\n",
       "      <td>Srikanth Iyer, Rama Harinath</td>\n",
       "      <td>Evolvence India Fund (EIF), Pidilite Group, FJ...</td>\n",
       "      <td>30000000.00</td>\n",
       "      <td>Series D</td>\n",
       "    </tr>\n",
       "    <tr>\n",
       "      <th>1</th>\n",
       "      <td>Ruangguru</td>\n",
       "      <td>2014</td>\n",
       "      <td>Mumbai</td>\n",
       "      <td>Edtech</td>\n",
       "      <td>A learning platform that provides topic-based ...</td>\n",
       "      <td>Adamas Belva Syah Devara, Iman Usman.</td>\n",
       "      <td>General Atlantic</td>\n",
       "      <td>150000000.00</td>\n",
       "      <td>Series C</td>\n",
       "    </tr>\n",
       "    <tr>\n",
       "      <th>82</th>\n",
       "      <td>Kratikal</td>\n",
       "      <td>2014</td>\n",
       "      <td>Uttar pradesh</td>\n",
       "      <td>Technology</td>\n",
       "      <td>Provides cyber security solutions</td>\n",
       "      <td>Pavan Kushwaha</td>\n",
       "      <td>Gilda VC, Art Venture, Rajeev Chitrabhanu</td>\n",
       "      <td>1000000.00</td>\n",
       "      <td>Pre-series A</td>\n",
       "    </tr>\n",
       "    <tr>\n",
       "      <th>21</th>\n",
       "      <td>Pristyn Care</td>\n",
       "      <td>2018</td>\n",
       "      <td>Unknown</td>\n",
       "      <td>Healthcare</td>\n",
       "      <td>Delivers advanced medical care &amp; clinical exce...</td>\n",
       "      <td>Harsimarbir Singh, Dr Vaibhav Kapoor, Dr Garim...</td>\n",
       "      <td>Sequoia India, Hummingbird Ventures, Greenoaks...</td>\n",
       "      <td>12000000.00</td>\n",
       "      <td>Series B</td>\n",
       "    </tr>\n",
       "    <tr>\n",
       "      <th>20</th>\n",
       "      <td>SalaryFits</td>\n",
       "      <td>2015</td>\n",
       "      <td>Unknown</td>\n",
       "      <td>Fintech</td>\n",
       "      <td>A platform that promotes financial well-being ...</td>\n",
       "      <td>Renato Araujo</td>\n",
       "      <td>Brazilian VC Fund Confrapar</td>\n",
       "      <td>5000000.00</td>\n",
       "      <td>Series A</td>\n",
       "    </tr>\n",
       "    <tr>\n",
       "      <th>24</th>\n",
       "      <td>Medlife</td>\n",
       "      <td>2014</td>\n",
       "      <td>Bengaluru</td>\n",
       "      <td>Pharmaceutical</td>\n",
       "      <td>It solves inadequacies in the healthcare deliv...</td>\n",
       "      <td>Tushar Kumar, Prashant Singh</td>\n",
       "      <td>Wilson Global Opportunities Fund</td>\n",
       "      <td>15500000.00</td>\n",
       "      <td>Series A</td>\n",
       "    </tr>\n",
       "    <tr>\n",
       "      <th>60</th>\n",
       "      <td>Ecom Express</td>\n",
       "      <td>2012</td>\n",
       "      <td>Gurugram</td>\n",
       "      <td>Logistics</td>\n",
       "      <td>It is a technology enabled logistics solutions...</td>\n",
       "      <td>Krishnan, Manju Dhawan, K Satyanarayana, Sanje...</td>\n",
       "      <td>CDC Group</td>\n",
       "      <td>36000000.00</td>\n",
       "      <td>Series A</td>\n",
       "    </tr>\n",
       "    <tr>\n",
       "      <th>18</th>\n",
       "      <td>Witblox</td>\n",
       "      <td>2014</td>\n",
       "      <td>Unknown</td>\n",
       "      <td>Edtech</td>\n",
       "      <td>Offers a range of robotics learning tools</td>\n",
       "      <td>Amit Modi</td>\n",
       "      <td>Mumbai Angels Network</td>\n",
       "      <td>182700.00</td>\n",
       "      <td>Series A</td>\n",
       "    </tr>\n",
       "    <tr>\n",
       "      <th>58</th>\n",
       "      <td>Origo</td>\n",
       "      <td>2010</td>\n",
       "      <td>Gurugram</td>\n",
       "      <td>Agritech</td>\n",
       "      <td>It provides post-harvest management services f...</td>\n",
       "      <td>Mayank Dhanuka, Sunoor Kaul</td>\n",
       "      <td>Oikocredit, Caspian SME Impact Fund IV,  Triod...</td>\n",
       "      <td>6800000.00</td>\n",
       "      <td>Series A</td>\n",
       "    </tr>\n",
       "    <tr>\n",
       "      <th>2</th>\n",
       "      <td>Eduisfun</td>\n",
       "      <td>2014</td>\n",
       "      <td>Mumbai</td>\n",
       "      <td>Edtech</td>\n",
       "      <td>It aims to make learning fun via games.</td>\n",
       "      <td>Jatin Solanki</td>\n",
       "      <td>Deepak Parekh, Amitabh Bachchan, Piyush Pandey</td>\n",
       "      <td>28000000.00</td>\n",
       "      <td>Fresh funding</td>\n",
       "    </tr>\n",
       "    <tr>\n",
       "      <th>36</th>\n",
       "      <td>Zetwerk</td>\n",
       "      <td>2018</td>\n",
       "      <td>Bengaluru</td>\n",
       "      <td>Manufacturing</td>\n",
       "      <td>Provides facilities to get products manufactured.</td>\n",
       "      <td>Amit Acharya, Srinath Ramakkrushnan</td>\n",
       "      <td>Lightspeed and Greenoaks Capital, Sequoia Indi...</td>\n",
       "      <td>32000000.00</td>\n",
       "      <td>Series B</td>\n",
       "    </tr>\n",
       "    <tr>\n",
       "      <th>10</th>\n",
       "      <td>Cub McPaws</td>\n",
       "      <td>2010</td>\n",
       "      <td>Mumbai</td>\n",
       "      <td>E-commerce &amp; ar</td>\n",
       "      <td>A B2C  brand that focusses on premium and comf...</td>\n",
       "      <td>Abhay Bhat, Kinnar Shah</td>\n",
       "      <td>Venture Catalysts</td>\n",
       "      <td>43330301.30</td>\n",
       "      <td>Series A</td>\n",
       "    </tr>\n",
       "    <tr>\n",
       "      <th>85</th>\n",
       "      <td>Oyo</td>\n",
       "      <td>2013</td>\n",
       "      <td>Gurugram</td>\n",
       "      <td>Hospitality</td>\n",
       "      <td>Provides rooms for comfortable stay</td>\n",
       "      <td>Ritesh Agarwal</td>\n",
       "      <td>MyPreferred Transformation, Avendus Finance, S...</td>\n",
       "      <td>693000000.00</td>\n",
       "      <td>Series A</td>\n",
       "    </tr>\n",
       "    <tr>\n",
       "      <th>61</th>\n",
       "      <td>Stanza Living</td>\n",
       "      <td>2017</td>\n",
       "      <td>Delhi</td>\n",
       "      <td>Accomodation</td>\n",
       "      <td>Provides comfortable and secure accomodation f...</td>\n",
       "      <td>Sandeep Dalmia, Anindya Dutta</td>\n",
       "      <td>Alteria Capital</td>\n",
       "      <td>5700000.00</td>\n",
       "      <td>Series A</td>\n",
       "    </tr>\n",
       "    <tr>\n",
       "      <th>83</th>\n",
       "      <td>Froogal</td>\n",
       "      <td>2014</td>\n",
       "      <td>Hyderabad</td>\n",
       "      <td>Marketing &amp; customer loyalty</td>\n",
       "      <td>A cloud based Customer Loyalty &amp; Engagement Pl...</td>\n",
       "      <td>Jeevan Chowdary M, Harshit Harchani</td>\n",
       "      <td>US-based angel investors</td>\n",
       "      <td>1000000.00</td>\n",
       "      <td>Pre series A</td>\n",
       "    </tr>\n",
       "    <tr>\n",
       "      <th>32</th>\n",
       "      <td>Pumpkart</td>\n",
       "      <td>2014</td>\n",
       "      <td>Chandigarh</td>\n",
       "      <td>E-marketplace</td>\n",
       "      <td>B2B model for appliances and electrical products</td>\n",
       "      <td>KS Bhatia</td>\n",
       "      <td>Dinesh Dua</td>\n",
       "      <td>43330301.30</td>\n",
       "      <td>Series A</td>\n",
       "    </tr>\n",
       "    <tr>\n",
       "      <th>27</th>\n",
       "      <td>Fireflies .ai</td>\n",
       "      <td>2014</td>\n",
       "      <td>Unknown</td>\n",
       "      <td>Ai</td>\n",
       "      <td>Developer of an artificial intelligence-powere...</td>\n",
       "      <td>Sam Udotong</td>\n",
       "      <td>Canaan Partners</td>\n",
       "      <td>5000000.00</td>\n",
       "      <td>Series A</td>\n",
       "    </tr>\n",
       "    <tr>\n",
       "      <th>30</th>\n",
       "      <td>Licious</td>\n",
       "      <td>2014</td>\n",
       "      <td>Bengaluru</td>\n",
       "      <td>Food</td>\n",
       "      <td>Online meat shop</td>\n",
       "      <td>Vivek Gupta, Abhay Hanjura</td>\n",
       "      <td>Vertex Growth Fund</td>\n",
       "      <td>30000000.00</td>\n",
       "      <td>Series E</td>\n",
       "    </tr>\n",
       "  </tbody>\n",
       "</table>\n",
       "</div>"
      ],
      "text/plain": [
       "    Company/Brand  Founded    HeadQuarter                        Sector  \\\n",
       "76         Phable     2018        Unknown                    Healthtech   \n",
       "17     Zest Money     2015      Bengaluru                       Fintech   \n",
       "3        HomeLane     2014        Chennai               Interior design   \n",
       "1       Ruangguru     2014         Mumbai                        Edtech   \n",
       "82       Kratikal     2014  Uttar pradesh                    Technology   \n",
       "21   Pristyn Care     2018        Unknown                    Healthcare   \n",
       "20     SalaryFits     2015        Unknown                       Fintech   \n",
       "24        Medlife     2014      Bengaluru                Pharmaceutical   \n",
       "60   Ecom Express     2012       Gurugram                     Logistics   \n",
       "18        Witblox     2014        Unknown                        Edtech   \n",
       "58          Origo     2010       Gurugram                      Agritech   \n",
       "2        Eduisfun     2014         Mumbai                        Edtech   \n",
       "36        Zetwerk     2018      Bengaluru                 Manufacturing   \n",
       "10     Cub McPaws     2010         Mumbai               E-commerce & ar   \n",
       "85            Oyo     2013       Gurugram                   Hospitality   \n",
       "61  Stanza Living     2017          Delhi                  Accomodation   \n",
       "83        Froogal     2014      Hyderabad  Marketing & customer loyalty   \n",
       "32       Pumpkart     2014     Chandigarh                 E-marketplace   \n",
       "27  Fireflies .ai     2014        Unknown                            Ai   \n",
       "30        Licious     2014      Bengaluru                          Food   \n",
       "\n",
       "                                         What it does  \\\n",
       "76  It creates an engagement loop between doctors,...   \n",
       "17  Uses AI to do risk profiling of e-commerce con...   \n",
       "3               Provides interior designing solutions   \n",
       "1   A learning platform that provides topic-based ...   \n",
       "82                  Provides cyber security solutions   \n",
       "21  Delivers advanced medical care & clinical exce...   \n",
       "20  A platform that promotes financial well-being ...   \n",
       "24  It solves inadequacies in the healthcare deliv...   \n",
       "60  It is a technology enabled logistics solutions...   \n",
       "18          Offers a range of robotics learning tools   \n",
       "58  It provides post-harvest management services f...   \n",
       "2             It aims to make learning fun via games.   \n",
       "36  Provides facilities to get products manufactured.   \n",
       "10  A B2C  brand that focusses on premium and comf...   \n",
       "85                Provides rooms for comfortable stay   \n",
       "61  Provides comfortable and secure accomodation f...   \n",
       "83  A cloud based Customer Loyalty & Engagement Pl...   \n",
       "32   B2B model for appliances and electrical products   \n",
       "27  Developer of an artificial intelligence-powere...   \n",
       "30                                   Online meat shop   \n",
       "\n",
       "                                             Founders  \\\n",
       "76                                        Sumit Sinha   \n",
       "17         Chapman, Priya Sharma, Ashish Anantharaman   \n",
       "3                        Srikanth Iyer, Rama Harinath   \n",
       "1               Adamas Belva Syah Devara, Iman Usman.   \n",
       "82                                     Pavan Kushwaha   \n",
       "21  Harsimarbir Singh, Dr Vaibhav Kapoor, Dr Garim...   \n",
       "20                                      Renato Araujo   \n",
       "24                       Tushar Kumar, Prashant Singh   \n",
       "60  Krishnan, Manju Dhawan, K Satyanarayana, Sanje...   \n",
       "18                                          Amit Modi   \n",
       "58                        Mayank Dhanuka, Sunoor Kaul   \n",
       "2                                       Jatin Solanki   \n",
       "36                Amit Acharya, Srinath Ramakkrushnan   \n",
       "10                            Abhay Bhat, Kinnar Shah   \n",
       "85                                     Ritesh Agarwal   \n",
       "61                      Sandeep Dalmia, Anindya Dutta   \n",
       "83                Jeevan Chowdary M, Harshit Harchani   \n",
       "32                                          KS Bhatia   \n",
       "27                                        Sam Udotong   \n",
       "30                         Vivek Gupta, Abhay Hanjura   \n",
       "\n",
       "                                             Investor    Amount($)  \\\n",
       "76  LetsVenture, 91 Springboard, IKP Knowledge, An...    220000.00   \n",
       "17                                     Goldman Sachs.  15000000.00   \n",
       "3   Evolvence India Fund (EIF), Pidilite Group, FJ...  30000000.00   \n",
       "1                                    General Atlantic 150000000.00   \n",
       "82          Gilda VC, Art Venture, Rajeev Chitrabhanu   1000000.00   \n",
       "21  Sequoia India, Hummingbird Ventures, Greenoaks...  12000000.00   \n",
       "20                        Brazilian VC Fund Confrapar   5000000.00   \n",
       "24                   Wilson Global Opportunities Fund  15500000.00   \n",
       "60                                          CDC Group  36000000.00   \n",
       "18                              Mumbai Angels Network    182700.00   \n",
       "58  Oikocredit, Caspian SME Impact Fund IV,  Triod...   6800000.00   \n",
       "2      Deepak Parekh, Amitabh Bachchan, Piyush Pandey  28000000.00   \n",
       "36  Lightspeed and Greenoaks Capital, Sequoia Indi...  32000000.00   \n",
       "10                                  Venture Catalysts  43330301.30   \n",
       "85  MyPreferred Transformation, Avendus Finance, S... 693000000.00   \n",
       "61                                    Alteria Capital   5700000.00   \n",
       "83                           US-based angel investors   1000000.00   \n",
       "32                                         Dinesh Dua  43330301.30   \n",
       "27                                    Canaan Partners   5000000.00   \n",
       "30                                 Vertex Growth Fund  30000000.00   \n",
       "\n",
       "            Stage  \n",
       "76       Series A  \n",
       "17       Series B  \n",
       "3        Series D  \n",
       "1        Series C  \n",
       "82   Pre-series A  \n",
       "21       Series B  \n",
       "20       Series A  \n",
       "24       Series A  \n",
       "60       Series A  \n",
       "18       Series A  \n",
       "58       Series A  \n",
       "2   Fresh funding  \n",
       "36       Series B  \n",
       "10       Series A  \n",
       "85       Series A  \n",
       "61       Series A  \n",
       "83   Pre series A  \n",
       "32       Series A  \n",
       "27       Series A  \n",
       "30       Series E  "
      ]
     },
     "execution_count": 61,
     "metadata": {},
     "output_type": "execute_result"
    }
   ],
   "source": [
    "start_ups_2019.sample(20)"
   ]
  },
  {
   "cell_type": "code",
   "execution_count": 62,
   "metadata": {},
   "outputs": [],
   "source": [
    "# Export the cleaned DataFrame to a CSV file\n",
    "\n",
    "file_path = './India Startup Funding Cleaned/start_ups_2019.csv'\n",
    "start_ups_2019.to_csv(file_path, index=False)"
   ]
  },
  {
   "attachments": {},
   "cell_type": "markdown",
   "metadata": {},
   "source": [
    "#### **start_ups_2020**"
   ]
  },
  {
   "cell_type": "code",
   "execution_count": 63,
   "metadata": {},
   "outputs": [
    {
     "data": {
      "text/plain": [
       "(1055, 10)"
      ]
     },
     "execution_count": 63,
     "metadata": {},
     "output_type": "execute_result"
    }
   ],
   "source": [
    "start_ups_2020.shape"
   ]
  },
  {
   "cell_type": "code",
   "execution_count": 64,
   "metadata": {},
   "outputs": [
    {
     "name": "stdout",
     "output_type": "stream",
     "text": [
      "<class 'pandas.core.frame.DataFrame'>\n",
      "RangeIndex: 1055 entries, 0 to 1054\n",
      "Data columns (total 10 columns):\n",
      " #   Column         Non-Null Count  Dtype \n",
      "---  ------         --------------  ----- \n",
      " 0   Company/Brand  1055 non-null   object\n",
      " 1   Founded        1055 non-null   object\n",
      " 2   HeadQuarter    1055 non-null   object\n",
      " 3   Sector         1055 non-null   object\n",
      " 4   What it does   1055 non-null   object\n",
      " 5   Founders       1055 non-null   object\n",
      " 6   Investor       1055 non-null   object\n",
      " 7   Amount($)      1055 non-null   object\n",
      " 8   Stage          1055 non-null   object\n",
      " 9   Unnamed: 9     1055 non-null   object\n",
      "dtypes: object(10)\n",
      "memory usage: 82.5+ KB\n"
     ]
    }
   ],
   "source": [
    "start_ups_2020.info()"
   ]
  },
  {
   "cell_type": "code",
   "execution_count": 65,
   "metadata": {},
   "outputs": [
    {
     "data": {
      "text/plain": [
       "3"
      ]
     },
     "execution_count": 65,
     "metadata": {},
     "output_type": "execute_result"
    }
   ],
   "source": [
    "# check for duplicated rows\n",
    "start_ups_2020.duplicated().sum()"
   ]
  },
  {
   "cell_type": "code",
   "execution_count": 66,
   "metadata": {},
   "outputs": [],
   "source": [
    "# drop duplicated rows\n",
    "start_ups_2020 = start_ups_2020.drop_duplicates()"
   ]
  },
  {
   "cell_type": "code",
   "execution_count": 67,
   "metadata": {},
   "outputs": [
    {
     "data": {
      "text/plain": [
       "0"
      ]
     },
     "execution_count": 67,
     "metadata": {},
     "output_type": "execute_result"
    }
   ],
   "source": [
    "# check for duplicated columns\n",
    "start_ups_2020.T.duplicated().sum()"
   ]
  },
  {
   "attachments": {},
   "cell_type": "markdown",
   "metadata": {},
   "source": [
    "Upon examining the dataframe, I discovered that some of the columns, such as \"Amount($)\" and \"Founded\" columns contain values that should be numerical but are currently strings (objects). I will need to convert the datatypes of the values in these columns to numerical (float and/or integer)."
   ]
  },
  {
   "cell_type": "code",
   "execution_count": 68,
   "metadata": {},
   "outputs": [
    {
     "data": {
      "text/plain": [
       "0          $200,000\n",
       "1          $100,000\n",
       "2       Undisclosed\n",
       "3          $400,000\n",
       "4          $340,000\n",
       "           ...     \n",
       "1050     $1,500,000\n",
       "1051    $13,200,000\n",
       "1052     $8,000,000\n",
       "1053     $8,043,000\n",
       "1054     $9,000,000\n",
       "Name: Amount($), Length: 1052, dtype: object"
      ]
     },
     "execution_count": 68,
     "metadata": {},
     "output_type": "execute_result"
    }
   ],
   "source": [
    "# clean and convert the datatype of the values in the Amount($) column to float\n",
    "start_ups_2020['Amount($)']"
   ]
  },
  {
   "cell_type": "code",
   "execution_count": 69,
   "metadata": {},
   "outputs": [
    {
     "data": {
      "text/plain": [
       "0"
      ]
     },
     "execution_count": 69,
     "metadata": {},
     "output_type": "execute_result"
    }
   ],
   "source": [
    "rupee_filter = start_ups_2020['Amount($)'].str.contains('₹')\n",
    "rupee_filter.sum()"
   ]
  },
  {
   "cell_type": "code",
   "execution_count": 70,
   "metadata": {},
   "outputs": [
    {
     "data": {
      "text/plain": [
       "0        200000.00\n",
       "1        100000.00\n",
       "2              NaN\n",
       "3        400000.00\n",
       "4        340000.00\n",
       "           ...    \n",
       "1050    1500000.00\n",
       "1051   13200000.00\n",
       "1052    8000000.00\n",
       "1053    8043000.00\n",
       "1054    9000000.00\n",
       "Name: Amount($), Length: 1052, dtype: float64"
      ]
     },
     "execution_count": 70,
     "metadata": {},
     "output_type": "execute_result"
    }
   ],
   "source": [
    "start_ups_2020['Amount($)'] = start_ups_2020['Amount($)'].apply(lambda x : str(x).replace('$', '').replace(',', ''))\n",
    "start_ups_2020['Amount($)'] = start_ups_2020['Amount($)'].apply(lambda x : str(x).replace('887000 23000000', str(([int(num) for num in '887000 23000000'.split(' ')][0] + [int(num) for num in '887000 23000000'.split(' ')][1])/ 2)))\n",
    "start_ups_2020['Amount($)'] = start_ups_2020['Amount($)'].apply(lambda x : str(x).replace('800000000 to 850000000', str(([int(num) for num in '800000000 to 850000000'.split(' to ')][0] + [int(num) for num in '800000000 to 850000000'.split(' to ')][1])/ 2)))\n",
    "start_ups_2020['Amount($)'] = start_ups_2020['Amount($)'].apply(lambda x : str(x).replace('Undisclosed', str(np.nan)).replace('Undiclsosed', str(np.nan)).replace('Undislosed', str(np.nan)))\n",
    "\n",
    "start_ups_2020['Amount($)'] = start_ups_2020['Amount($)'].astype(float)\n",
    "start_ups_2020['Amount($)']"
   ]
  },
  {
   "cell_type": "code",
   "execution_count": 71,
   "metadata": {},
   "outputs": [
    {
     "data": {
      "text/plain": [
       "Company/Brand     object\n",
       "Founded           object\n",
       "HeadQuarter       object\n",
       "Sector            object\n",
       "What it does      object\n",
       "Founders          object\n",
       "Investor          object\n",
       "Amount($)        float64\n",
       "Stage             object\n",
       "Unnamed: 9        object\n",
       "dtype: object"
      ]
     },
     "execution_count": 71,
     "metadata": {},
     "output_type": "execute_result"
    }
   ],
   "source": [
    "start_ups_2020.dtypes"
   ]
  },
  {
   "cell_type": "code",
   "execution_count": 72,
   "metadata": {},
   "outputs": [
    {
     "data": {
      "text/html": [
       "<div>\n",
       "<style scoped>\n",
       "    .dataframe tbody tr th:only-of-type {\n",
       "        vertical-align: middle;\n",
       "    }\n",
       "\n",
       "    .dataframe tbody tr th {\n",
       "        vertical-align: top;\n",
       "    }\n",
       "\n",
       "    .dataframe thead th {\n",
       "        text-align: right;\n",
       "    }\n",
       "</style>\n",
       "<table border=\"1\" class=\"dataframe\">\n",
       "  <thead>\n",
       "    <tr style=\"text-align: right;\">\n",
       "      <th></th>\n",
       "      <th>Amount($)</th>\n",
       "    </tr>\n",
       "  </thead>\n",
       "  <tbody>\n",
       "    <tr>\n",
       "      <th>count</th>\n",
       "      <td>805.00</td>\n",
       "    </tr>\n",
       "    <tr>\n",
       "      <th>mean</th>\n",
       "      <td>112913068.52</td>\n",
       "    </tr>\n",
       "    <tr>\n",
       "      <th>std</th>\n",
       "      <td>2470568011.15</td>\n",
       "    </tr>\n",
       "    <tr>\n",
       "      <th>min</th>\n",
       "      <td>9.60</td>\n",
       "    </tr>\n",
       "    <tr>\n",
       "      <th>25%</th>\n",
       "      <td>1000000.00</td>\n",
       "    </tr>\n",
       "    <tr>\n",
       "      <th>50%</th>\n",
       "      <td>3000000.00</td>\n",
       "    </tr>\n",
       "    <tr>\n",
       "      <th>75%</th>\n",
       "      <td>11000000.00</td>\n",
       "    </tr>\n",
       "    <tr>\n",
       "      <th>max</th>\n",
       "      <td>70000000000.00</td>\n",
       "    </tr>\n",
       "  </tbody>\n",
       "</table>\n",
       "</div>"
      ],
      "text/plain": [
       "           Amount($)\n",
       "count         805.00\n",
       "mean    112913068.52\n",
       "std    2470568011.15\n",
       "min             9.60\n",
       "25%       1000000.00\n",
       "50%       3000000.00\n",
       "75%      11000000.00\n",
       "max   70000000000.00"
      ]
     },
     "execution_count": 72,
     "metadata": {},
     "output_type": "execute_result"
    }
   ],
   "source": [
    "start_ups_2020.describe()"
   ]
  },
  {
   "cell_type": "code",
   "execution_count": 73,
   "metadata": {},
   "outputs": [],
   "source": [
    "result = convert_nan_variations(start_ups_2020)"
   ]
  },
  {
   "cell_type": "code",
   "execution_count": 74,
   "metadata": {},
   "outputs": [
    {
     "name": "stdout",
     "output_type": "stream",
     "text": [
      "The number of occurrences for each column is:\n"
     ]
    },
    {
     "data": {
      "text/plain": [
       "Company/Brand       0\n",
       "Founded           213\n",
       "HeadQuarter        94\n",
       "Sector             13\n",
       "What it does        0\n",
       "Founders           12\n",
       "Investor           38\n",
       "Amount($)           0\n",
       "Stage             462\n",
       "Unnamed: 9       1050\n",
       "Name: nan_count, dtype: int32"
      ]
     },
     "execution_count": 74,
     "metadata": {},
     "output_type": "execute_result"
    }
   ],
   "source": [
    "# Display the count of occurrences for each column\n",
    "print('The number of occurrences for each column is:')\n",
    "result[0]"
   ]
  },
  {
   "cell_type": "code",
   "execution_count": 75,
   "metadata": {},
   "outputs": [
    {
     "name": "stdout",
     "output_type": "stream",
     "text": [
      "The number of missing values in each column is:\n"
     ]
    },
    {
     "data": {
      "text/plain": [
       "Company/Brand       0\n",
       "Founded           213\n",
       "HeadQuarter        94\n",
       "Sector             13\n",
       "What it does        0\n",
       "Founders           12\n",
       "Investor           38\n",
       "Amount($)         247\n",
       "Stage             462\n",
       "Unnamed: 9       1050\n",
       "dtype: int64"
      ]
     },
     "execution_count": 75,
     "metadata": {},
     "output_type": "execute_result"
    }
   ],
   "source": [
    "# Display the sum of missing values in each column\n",
    "print('The number of missing values in each column is:')\n",
    "result[1]"
   ]
  },
  {
   "cell_type": "code",
   "execution_count": 76,
   "metadata": {},
   "outputs": [
    {
     "data": {
      "text/plain": [
       "99.80988593155894"
      ]
     },
     "execution_count": 76,
     "metadata": {},
     "output_type": "execute_result"
    }
   ],
   "source": [
    "unnamed_null = start_ups_2020['Unnamed: 9'].isna().sum()\n",
    "(unnamed_null / start_ups_2020.shape[0]) * 100"
   ]
  },
  {
   "attachments": {},
   "cell_type": "markdown",
   "metadata": {},
   "source": [
    "The \"Unnamed: 9\" column has more than 99% missing values. For that reason, I will drop this column"
   ]
  },
  {
   "cell_type": "code",
   "execution_count": 77,
   "metadata": {},
   "outputs": [
    {
     "data": {
      "text/plain": [
       "Index(['Company/Brand', 'Founded', 'HeadQuarter', 'Sector', 'What it does',\n",
       "       'Founders', 'Investor', 'Amount($)', 'Stage'],\n",
       "      dtype='object')"
      ]
     },
     "execution_count": 77,
     "metadata": {},
     "output_type": "execute_result"
    }
   ],
   "source": [
    "start_ups_2020.drop(['Unnamed: 9'], axis = 1, inplace = True)\n",
    "start_ups_2020.columns"
   ]
  },
  {
   "cell_type": "code",
   "execution_count": 78,
   "metadata": {},
   "outputs": [
    {
     "data": {
      "text/html": [
       "<div>\n",
       "<style scoped>\n",
       "    .dataframe tbody tr th:only-of-type {\n",
       "        vertical-align: middle;\n",
       "    }\n",
       "\n",
       "    .dataframe tbody tr th {\n",
       "        vertical-align: top;\n",
       "    }\n",
       "\n",
       "    .dataframe thead th {\n",
       "        text-align: right;\n",
       "    }\n",
       "</style>\n",
       "<table border=\"1\" class=\"dataframe\">\n",
       "  <thead>\n",
       "    <tr style=\"text-align: right;\">\n",
       "      <th></th>\n",
       "      <th>Company/Brand</th>\n",
       "      <th>Founded</th>\n",
       "      <th>HeadQuarter</th>\n",
       "      <th>Sector</th>\n",
       "      <th>What it does</th>\n",
       "      <th>Founders</th>\n",
       "      <th>Investor</th>\n",
       "      <th>Amount($)</th>\n",
       "      <th>Stage</th>\n",
       "    </tr>\n",
       "  </thead>\n",
       "  <tbody>\n",
       "    <tr>\n",
       "      <th>0</th>\n",
       "      <td>Aqgromalin</td>\n",
       "      <td>2019</td>\n",
       "      <td>Chennai</td>\n",
       "      <td>AgriTech</td>\n",
       "      <td>Cultivating Ideas for Profit</td>\n",
       "      <td>Prasanna Manogaran, Bharani C L</td>\n",
       "      <td>Angel investors</td>\n",
       "      <td>200000.00</td>\n",
       "      <td>NaN</td>\n",
       "    </tr>\n",
       "    <tr>\n",
       "      <th>1</th>\n",
       "      <td>Krayonnz</td>\n",
       "      <td>2019</td>\n",
       "      <td>Bangalore</td>\n",
       "      <td>EdTech</td>\n",
       "      <td>An academy-guardian-scholar centric ecosystem ...</td>\n",
       "      <td>Saurabh Dixit, Gurudutt Upadhyay</td>\n",
       "      <td>GSF Accelerator</td>\n",
       "      <td>100000.00</td>\n",
       "      <td>Pre-seed</td>\n",
       "    </tr>\n",
       "    <tr>\n",
       "      <th>2</th>\n",
       "      <td>PadCare Labs</td>\n",
       "      <td>2018</td>\n",
       "      <td>Pune</td>\n",
       "      <td>Hygiene management</td>\n",
       "      <td>Converting bio-hazardous waste to harmless waste</td>\n",
       "      <td>Ajinkya Dhariya</td>\n",
       "      <td>Venture Center</td>\n",
       "      <td>NaN</td>\n",
       "      <td>Pre-seed</td>\n",
       "    </tr>\n",
       "    <tr>\n",
       "      <th>3</th>\n",
       "      <td>NCOME</td>\n",
       "      <td>2020</td>\n",
       "      <td>New Delhi</td>\n",
       "      <td>Escrow</td>\n",
       "      <td>Escrow-as-a-service platform</td>\n",
       "      <td>Ritesh Tiwari</td>\n",
       "      <td>Venture Catalysts, PointOne Capital</td>\n",
       "      <td>400000.00</td>\n",
       "      <td>NaN</td>\n",
       "    </tr>\n",
       "    <tr>\n",
       "      <th>4</th>\n",
       "      <td>Gramophone</td>\n",
       "      <td>2016</td>\n",
       "      <td>Indore</td>\n",
       "      <td>AgriTech</td>\n",
       "      <td>Gramophone is an AgTech platform enabling acce...</td>\n",
       "      <td>Ashish Rajan Singh, Harshit Gupta, Nishant Mah...</td>\n",
       "      <td>Siana Capital Management, Info Edge</td>\n",
       "      <td>340000.00</td>\n",
       "      <td>NaN</td>\n",
       "    </tr>\n",
       "  </tbody>\n",
       "</table>\n",
       "</div>"
      ],
      "text/plain": [
       "  Company/Brand Founded HeadQuarter              Sector  \\\n",
       "0    Aqgromalin    2019     Chennai            AgriTech   \n",
       "1      Krayonnz    2019   Bangalore              EdTech   \n",
       "2  PadCare Labs    2018        Pune  Hygiene management   \n",
       "3         NCOME    2020   New Delhi              Escrow   \n",
       "4    Gramophone    2016      Indore            AgriTech   \n",
       "\n",
       "                                        What it does  \\\n",
       "0                       Cultivating Ideas for Profit   \n",
       "1  An academy-guardian-scholar centric ecosystem ...   \n",
       "2   Converting bio-hazardous waste to harmless waste   \n",
       "3                       Escrow-as-a-service platform   \n",
       "4  Gramophone is an AgTech platform enabling acce...   \n",
       "\n",
       "                                            Founders  \\\n",
       "0                    Prasanna Manogaran, Bharani C L   \n",
       "1                   Saurabh Dixit, Gurudutt Upadhyay   \n",
       "2                                    Ajinkya Dhariya   \n",
       "3                                      Ritesh Tiwari   \n",
       "4  Ashish Rajan Singh, Harshit Gupta, Nishant Mah...   \n",
       "\n",
       "                              Investor  Amount($)     Stage  \n",
       "0                      Angel investors  200000.00       NaN  \n",
       "1                      GSF Accelerator  100000.00  Pre-seed  \n",
       "2                       Venture Center        NaN  Pre-seed  \n",
       "3  Venture Catalysts, PointOne Capital  400000.00       NaN  \n",
       "4  Siana Capital Management, Info Edge  340000.00       NaN  "
      ]
     },
     "execution_count": 78,
     "metadata": {},
     "output_type": "execute_result"
    }
   ],
   "source": [
    "replace_na_with_unknown(start_ups_2020)"
   ]
  },
  {
   "attachments": {},
   "cell_type": "markdown",
   "metadata": {},
   "source": [
    "To ensure that the missing values in the Founded column are correctly handled by the numerical imputer, I will need to convert the column to a numerical data type (float) before performing the imputation."
   ]
  },
  {
   "cell_type": "code",
   "execution_count": 79,
   "metadata": {},
   "outputs": [],
   "source": [
    "start_ups_2020['Founded'] = start_ups_2020['Founded'].astype(float)"
   ]
  },
  {
   "cell_type": "code",
   "execution_count": 80,
   "metadata": {},
   "outputs": [
    {
     "data": {
      "text/plain": [
       "Company/Brand      0\n",
       "Founded          213\n",
       "HeadQuarter        0\n",
       "Sector            13\n",
       "What it does       0\n",
       "Founders           0\n",
       "Investor           0\n",
       "Amount($)        247\n",
       "Stage            462\n",
       "dtype: int64"
      ]
     },
     "execution_count": 80,
     "metadata": {},
     "output_type": "execute_result"
    }
   ],
   "source": [
    "start_ups_2020.isna().sum()"
   ]
  },
  {
   "cell_type": "code",
   "execution_count": 81,
   "metadata": {},
   "outputs": [
    {
     "data": {
      "text/plain": [
       "Company/Brand    0\n",
       "Founded          0\n",
       "HeadQuarter      0\n",
       "Sector           0\n",
       "What it does     0\n",
       "Founders         0\n",
       "Investor         0\n",
       "Amount($)        0\n",
       "Stage            0\n",
       "dtype: int64"
      ]
     },
     "execution_count": 81,
     "metadata": {},
     "output_type": "execute_result"
    }
   ],
   "source": [
    "impute_na(start_ups_2020)"
   ]
  },
  {
   "cell_type": "code",
   "execution_count": 82,
   "metadata": {},
   "outputs": [],
   "source": [
    "result = alter_multiple_entries(start_ups_2020)"
   ]
  },
  {
   "cell_type": "code",
   "execution_count": 83,
   "metadata": {},
   "outputs": [
    {
     "data": {
      "text/plain": [
       "0                 Agritech\n",
       "1                   Edtech\n",
       "2       Hygiene management\n",
       "3                   Escrow\n",
       "4                 Agritech\n",
       "               ...        \n",
       "1050                Edtech\n",
       "1051               Fintech\n",
       "1052             Cosmetics\n",
       "1053             Transport\n",
       "1054              Logitech\n",
       "Name: Sector, Length: 1052, dtype: object"
      ]
     },
     "execution_count": 83,
     "metadata": {},
     "output_type": "execute_result"
    }
   ],
   "source": [
    "# Display the new sector column\n",
    "result[0]"
   ]
  },
  {
   "cell_type": "code",
   "execution_count": 84,
   "metadata": {},
   "outputs": [
    {
     "data": {
      "text/plain": [
       "0         Chennai\n",
       "1       Bengaluru\n",
       "2            Pune\n",
       "3           Delhi\n",
       "4          Indore\n",
       "          ...    \n",
       "1050        Delhi\n",
       "1051      Unknown\n",
       "1052       Mumbai\n",
       "1053        Delhi\n",
       "1054      Chennai\n",
       "Name: HeadQuarter, Length: 1052, dtype: object"
      ]
     },
     "execution_count": 84,
     "metadata": {},
     "output_type": "execute_result"
    }
   ],
   "source": [
    "# Display the new HeadQuarter column\n",
    "result[1]"
   ]
  },
  {
   "cell_type": "code",
   "execution_count": 85,
   "metadata": {},
   "outputs": [],
   "source": [
    "# Convert the 'Founded' column to datetime object\n",
    "start_ups_2020['Founded'] = pd.to_datetime(start_ups_2020['Founded'], format='%Y')\n",
    "\n",
    "# Extract only the years from the 'Founded' column\n",
    "start_ups_2020['Founded'] = start_ups_2020['Founded'].dt.year"
   ]
  },
  {
   "cell_type": "code",
   "execution_count": 86,
   "metadata": {},
   "outputs": [
    {
     "data": {
      "text/html": [
       "<div>\n",
       "<style scoped>\n",
       "    .dataframe tbody tr th:only-of-type {\n",
       "        vertical-align: middle;\n",
       "    }\n",
       "\n",
       "    .dataframe tbody tr th {\n",
       "        vertical-align: top;\n",
       "    }\n",
       "\n",
       "    .dataframe thead th {\n",
       "        text-align: right;\n",
       "    }\n",
       "</style>\n",
       "<table border=\"1\" class=\"dataframe\">\n",
       "  <thead>\n",
       "    <tr style=\"text-align: right;\">\n",
       "      <th></th>\n",
       "      <th>Company/Brand</th>\n",
       "      <th>Founded</th>\n",
       "      <th>HeadQuarter</th>\n",
       "      <th>Sector</th>\n",
       "      <th>What it does</th>\n",
       "      <th>Founders</th>\n",
       "      <th>Investor</th>\n",
       "      <th>Amount($)</th>\n",
       "      <th>Stage</th>\n",
       "    </tr>\n",
       "  </thead>\n",
       "  <tbody>\n",
       "    <tr>\n",
       "      <th>624</th>\n",
       "      <td>Aether Biomedical</td>\n",
       "      <td>2016</td>\n",
       "      <td>Delhi</td>\n",
       "      <td>Medtech</td>\n",
       "      <td>Medical robotics startup, focussed on developi...</td>\n",
       "      <td>Dhruv Agrawal, Faith Jiwakhan</td>\n",
       "      <td>Chiratae Ventures</td>\n",
       "      <td>112913068.52</td>\n",
       "      <td>Seed Investment</td>\n",
       "    </tr>\n",
       "    <tr>\n",
       "      <th>748</th>\n",
       "      <td>Convosight</td>\n",
       "      <td>2019</td>\n",
       "      <td>Hyderabad</td>\n",
       "      <td>Data analytics</td>\n",
       "      <td>It helps business gain insights from its commu...</td>\n",
       "      <td>Tarun Dhamija, Kartik Bansal</td>\n",
       "      <td>IvyCap Ventures, Sequoia Capital</td>\n",
       "      <td>4000000.00</td>\n",
       "      <td>Pre series A</td>\n",
       "    </tr>\n",
       "    <tr>\n",
       "      <th>288</th>\n",
       "      <td>Unocoin</td>\n",
       "      <td>2013</td>\n",
       "      <td>Tumkur</td>\n",
       "      <td>Fintech</td>\n",
       "      <td>Unocoin is an Indian bitcoin processor that en...</td>\n",
       "      <td>Abhinand Kaseti, Harish B V, Sathvik Vishwanat...</td>\n",
       "      <td>Digital Finance Group, FundersClub</td>\n",
       "      <td>112913068.52</td>\n",
       "      <td>Series A</td>\n",
       "    </tr>\n",
       "    <tr>\n",
       "      <th>129</th>\n",
       "      <td>Krimanshi</td>\n",
       "      <td>2015</td>\n",
       "      <td>Jodhpur</td>\n",
       "      <td>Biotechnology company</td>\n",
       "      <td>Krimanshi aims to increase rural income by imp...</td>\n",
       "      <td>Nikhil Bohra</td>\n",
       "      <td>Rajasthan Venture Capital Fund, AIM Smart City</td>\n",
       "      <td>600000.00</td>\n",
       "      <td>Seed</td>\n",
       "    </tr>\n",
       "    <tr>\n",
       "      <th>398</th>\n",
       "      <td>Onsitego</td>\n",
       "      <td>2010</td>\n",
       "      <td>Mumbai</td>\n",
       "      <td>Customer service company</td>\n",
       "      <td>Onsitego is a customer service company for dev...</td>\n",
       "      <td>Kunal Mahipal</td>\n",
       "      <td>Accel, Zodius Capital</td>\n",
       "      <td>30000000.00</td>\n",
       "      <td>Series B</td>\n",
       "    </tr>\n",
       "    <tr>\n",
       "      <th>884</th>\n",
       "      <td>AjnaLens</td>\n",
       "      <td>2014</td>\n",
       "      <td>Thane</td>\n",
       "      <td>Deeptech</td>\n",
       "      <td>It leverages technologies such as AR, VR &amp; AI ...</td>\n",
       "      <td>Pankaj Raut, Abhishek Tomar, Abhijit Patil</td>\n",
       "      <td>Maharashtra Defence, Aerospace Venture Fund (M...</td>\n",
       "      <td>1500000.00</td>\n",
       "      <td>Pre series A</td>\n",
       "    </tr>\n",
       "    <tr>\n",
       "      <th>714</th>\n",
       "      <td>Phable</td>\n",
       "      <td>2018</td>\n",
       "      <td>Unknown</td>\n",
       "      <td>Healthtech</td>\n",
       "      <td>It creates an engagement loop between doctors,...</td>\n",
       "      <td>Sumit Sinha,  Mukesh Bansal</td>\n",
       "      <td>Inflection Point Ventures</td>\n",
       "      <td>1000000.00</td>\n",
       "      <td>Pre series A</td>\n",
       "    </tr>\n",
       "    <tr>\n",
       "      <th>419</th>\n",
       "      <td>Airmeet</td>\n",
       "      <td>2019</td>\n",
       "      <td>Bengaluru</td>\n",
       "      <td>Tech startup</td>\n",
       "      <td>Airmeet is an all-in-one events platform for v...</td>\n",
       "      <td>Lalit Mangal, Manoj Singh, Vinay Kumar Jasti</td>\n",
       "      <td>Global Founders Capital, Redpoint</td>\n",
       "      <td>12000000.00</td>\n",
       "      <td>Series A</td>\n",
       "    </tr>\n",
       "    <tr>\n",
       "      <th>978</th>\n",
       "      <td>Konfinity</td>\n",
       "      <td>2018</td>\n",
       "      <td>Noida</td>\n",
       "      <td>Edtech</td>\n",
       "      <td>Provides online coding courses</td>\n",
       "      <td>Navratn Singh, Kamal Pandey</td>\n",
       "      <td>Angel investors</td>\n",
       "      <td>112913068.52</td>\n",
       "      <td>Series A</td>\n",
       "    </tr>\n",
       "    <tr>\n",
       "      <th>998</th>\n",
       "      <td>Sabse Sasta Dukaan</td>\n",
       "      <td>2016</td>\n",
       "      <td>Kolkata</td>\n",
       "      <td>Pharmaceutical</td>\n",
       "      <td>Online pharmacy dealing in medicines</td>\n",
       "      <td>Anish Agarwal, Anant Jain</td>\n",
       "      <td>Angel investors</td>\n",
       "      <td>112913068.52</td>\n",
       "      <td>Series A</td>\n",
       "    </tr>\n",
       "    <tr>\n",
       "      <th>110</th>\n",
       "      <td>Inntot</td>\n",
       "      <td>2014</td>\n",
       "      <td>Kerala</td>\n",
       "      <td>Tech company</td>\n",
       "      <td>Inntot Technologies, is a technology driven co...</td>\n",
       "      <td>Rajith Nair</td>\n",
       "      <td>Unicorn India Ventures</td>\n",
       "      <td>112913068.52</td>\n",
       "      <td>Series A</td>\n",
       "    </tr>\n",
       "    <tr>\n",
       "      <th>353</th>\n",
       "      <td>Odwen</td>\n",
       "      <td>2018</td>\n",
       "      <td>Noida</td>\n",
       "      <td>Warehouse</td>\n",
       "      <td>India's first do-it-yourself warehouse managem...</td>\n",
       "      <td>Vijay Anand Bhagavatula</td>\n",
       "      <td>Prospect Partners.</td>\n",
       "      <td>54000.00</td>\n",
       "      <td>Series A</td>\n",
       "    </tr>\n",
       "    <tr>\n",
       "      <th>1000</th>\n",
       "      <td>Medicus</td>\n",
       "      <td>2015</td>\n",
       "      <td>Mumbai</td>\n",
       "      <td>Healthtech</td>\n",
       "      <td>AI-based platform that explains and interprets...</td>\n",
       "      <td>Bhavesh Shah, Manav Shah</td>\n",
       "      <td>Angel investors</td>\n",
       "      <td>12700.00</td>\n",
       "      <td>Series A</td>\n",
       "    </tr>\n",
       "    <tr>\n",
       "      <th>374</th>\n",
       "      <td>Financepeer</td>\n",
       "      <td>2017</td>\n",
       "      <td>Mumbai</td>\n",
       "      <td>Edtech</td>\n",
       "      <td>Financepeer is an AI based peer to peer lendin...</td>\n",
       "      <td>Debi Prasad Baral, Naveesh Reddy, Rohit Gajbhi...</td>\n",
       "      <td>Ravi Sanghvi, PitchRight Venture</td>\n",
       "      <td>3000000.00</td>\n",
       "      <td>Pre-series A</td>\n",
       "    </tr>\n",
       "    <tr>\n",
       "      <th>127</th>\n",
       "      <td>SignalX</td>\n",
       "      <td>2018</td>\n",
       "      <td>Hyderabad</td>\n",
       "      <td>Ai startup</td>\n",
       "      <td>SignalX offers an artificial intelligence-powe...</td>\n",
       "      <td>Govind Balachandran, Zakir Wahab, Piyush Arora</td>\n",
       "      <td>9Unicorns, 3Lines VC, Hyderabad Angels</td>\n",
       "      <td>800000.00</td>\n",
       "      <td>Seed</td>\n",
       "    </tr>\n",
       "    <tr>\n",
       "      <th>328</th>\n",
       "      <td>Reliance</td>\n",
       "      <td>1973</td>\n",
       "      <td>Mumbai</td>\n",
       "      <td>Multinational conglomerate company</td>\n",
       "      <td>Reliance owns businesses across India engaged ...</td>\n",
       "      <td>Dhirubhai Ambani</td>\n",
       "      <td>Facebook, Google, KKR, Silver Lake</td>\n",
       "      <td>2200000000.00</td>\n",
       "      <td>Series A</td>\n",
       "    </tr>\n",
       "    <tr>\n",
       "      <th>842</th>\n",
       "      <td>Shop101</td>\n",
       "      <td>2015</td>\n",
       "      <td>Unknown</td>\n",
       "      <td>Social e-commerce</td>\n",
       "      <td>Enables entrepreneurs to sell online</td>\n",
       "      <td>Abhinav Jain, Aditya Gupta</td>\n",
       "      <td>Stellaris Venture Partners, Unilever Ventures,...</td>\n",
       "      <td>3900000.00</td>\n",
       "      <td>Series C</td>\n",
       "    </tr>\n",
       "    <tr>\n",
       "      <th>42</th>\n",
       "      <td>Exotel</td>\n",
       "      <td>2011</td>\n",
       "      <td>Bengaluru</td>\n",
       "      <td>Cloud company</td>\n",
       "      <td>Exotel provides cloud telephony services such ...</td>\n",
       "      <td>Shivakumar Ganesan</td>\n",
       "      <td>A91 Partners, Artha India Ventures</td>\n",
       "      <td>5000000.00</td>\n",
       "      <td>Series A</td>\n",
       "    </tr>\n",
       "    <tr>\n",
       "      <th>546</th>\n",
       "      <td>VilCart</td>\n",
       "      <td>2018</td>\n",
       "      <td>Bengaluru</td>\n",
       "      <td>Ecommerce</td>\n",
       "      <td>Retail industry in rural India through technol...</td>\n",
       "      <td>Prasanna Kumar, Mahesh Bhat, Rajasekhar, Amith...</td>\n",
       "      <td>N S Parthasarathy, Dilipkumar Khandelwal, Anan...</td>\n",
       "      <td>112913068.52</td>\n",
       "      <td>Bridge Round</td>\n",
       "    </tr>\n",
       "    <tr>\n",
       "      <th>802</th>\n",
       "      <td>RaRa Delivery</td>\n",
       "      <td>2015</td>\n",
       "      <td>Unknown</td>\n",
       "      <td>Logistics</td>\n",
       "      <td>Provides same day delivery service for ecommer...</td>\n",
       "      <td>Karan Bhardwaj</td>\n",
       "      <td>Der Shing Lim, 500 startups</td>\n",
       "      <td>800000.00</td>\n",
       "      <td>Seed Round</td>\n",
       "    </tr>\n",
       "  </tbody>\n",
       "</table>\n",
       "</div>"
      ],
      "text/plain": [
       "           Company/Brand  Founded HeadQuarter  \\\n",
       "624    Aether Biomedical     2016       Delhi   \n",
       "748           Convosight     2019   Hyderabad   \n",
       "288              Unocoin     2013      Tumkur   \n",
       "129            Krimanshi     2015     Jodhpur   \n",
       "398             Onsitego     2010      Mumbai   \n",
       "884             AjnaLens     2014       Thane   \n",
       "714               Phable     2018     Unknown   \n",
       "419              Airmeet     2019   Bengaluru   \n",
       "978            Konfinity     2018       Noida   \n",
       "998   Sabse Sasta Dukaan     2016     Kolkata   \n",
       "110               Inntot     2014      Kerala   \n",
       "353                Odwen     2018       Noida   \n",
       "1000             Medicus     2015      Mumbai   \n",
       "374          Financepeer     2017      Mumbai   \n",
       "127              SignalX     2018   Hyderabad   \n",
       "328             Reliance     1973      Mumbai   \n",
       "842              Shop101     2015     Unknown   \n",
       "42                Exotel     2011   Bengaluru   \n",
       "546              VilCart     2018   Bengaluru   \n",
       "802        RaRa Delivery     2015     Unknown   \n",
       "\n",
       "                                  Sector  \\\n",
       "624                              Medtech   \n",
       "748                       Data analytics   \n",
       "288                              Fintech   \n",
       "129                Biotechnology company   \n",
       "398             Customer service company   \n",
       "884                             Deeptech   \n",
       "714                           Healthtech   \n",
       "419                         Tech startup   \n",
       "978                               Edtech   \n",
       "998                       Pharmaceutical   \n",
       "110                         Tech company   \n",
       "353                            Warehouse   \n",
       "1000                          Healthtech   \n",
       "374                               Edtech   \n",
       "127                           Ai startup   \n",
       "328   Multinational conglomerate company   \n",
       "842                    Social e-commerce   \n",
       "42                         Cloud company   \n",
       "546                            Ecommerce   \n",
       "802                            Logistics   \n",
       "\n",
       "                                           What it does  \\\n",
       "624   Medical robotics startup, focussed on developi...   \n",
       "748   It helps business gain insights from its commu...   \n",
       "288   Unocoin is an Indian bitcoin processor that en...   \n",
       "129   Krimanshi aims to increase rural income by imp...   \n",
       "398   Onsitego is a customer service company for dev...   \n",
       "884   It leverages technologies such as AR, VR & AI ...   \n",
       "714   It creates an engagement loop between doctors,...   \n",
       "419   Airmeet is an all-in-one events platform for v...   \n",
       "978                      Provides online coding courses   \n",
       "998                Online pharmacy dealing in medicines   \n",
       "110   Inntot Technologies, is a technology driven co...   \n",
       "353   India's first do-it-yourself warehouse managem...   \n",
       "1000  AI-based platform that explains and interprets...   \n",
       "374   Financepeer is an AI based peer to peer lendin...   \n",
       "127   SignalX offers an artificial intelligence-powe...   \n",
       "328   Reliance owns businesses across India engaged ...   \n",
       "842                Enables entrepreneurs to sell online   \n",
       "42    Exotel provides cloud telephony services such ...   \n",
       "546   Retail industry in rural India through technol...   \n",
       "802   Provides same day delivery service for ecommer...   \n",
       "\n",
       "                                               Founders  \\\n",
       "624                       Dhruv Agrawal, Faith Jiwakhan   \n",
       "748                        Tarun Dhamija, Kartik Bansal   \n",
       "288   Abhinand Kaseti, Harish B V, Sathvik Vishwanat...   \n",
       "129                                        Nikhil Bohra   \n",
       "398                                       Kunal Mahipal   \n",
       "884          Pankaj Raut, Abhishek Tomar, Abhijit Patil   \n",
       "714                         Sumit Sinha,  Mukesh Bansal   \n",
       "419        Lalit Mangal, Manoj Singh, Vinay Kumar Jasti   \n",
       "978                         Navratn Singh, Kamal Pandey   \n",
       "998                           Anish Agarwal, Anant Jain   \n",
       "110                                         Rajith Nair   \n",
       "353                             Vijay Anand Bhagavatula   \n",
       "1000                           Bhavesh Shah, Manav Shah   \n",
       "374   Debi Prasad Baral, Naveesh Reddy, Rohit Gajbhi...   \n",
       "127      Govind Balachandran, Zakir Wahab, Piyush Arora   \n",
       "328                                    Dhirubhai Ambani   \n",
       "842                          Abhinav Jain, Aditya Gupta   \n",
       "42                                   Shivakumar Ganesan   \n",
       "546   Prasanna Kumar, Mahesh Bhat, Rajasekhar, Amith...   \n",
       "802                                      Karan Bhardwaj   \n",
       "\n",
       "                                               Investor     Amount($)  \\\n",
       "624                                   Chiratae Ventures  112913068.52   \n",
       "748                    IvyCap Ventures, Sequoia Capital    4000000.00   \n",
       "288                  Digital Finance Group, FundersClub  112913068.52   \n",
       "129      Rajasthan Venture Capital Fund, AIM Smart City     600000.00   \n",
       "398                               Accel, Zodius Capital   30000000.00   \n",
       "884   Maharashtra Defence, Aerospace Venture Fund (M...    1500000.00   \n",
       "714                           Inflection Point Ventures    1000000.00   \n",
       "419                   Global Founders Capital, Redpoint   12000000.00   \n",
       "978                                     Angel investors  112913068.52   \n",
       "998                                     Angel investors  112913068.52   \n",
       "110                              Unicorn India Ventures  112913068.52   \n",
       "353                                  Prospect Partners.      54000.00   \n",
       "1000                                    Angel investors      12700.00   \n",
       "374                    Ravi Sanghvi, PitchRight Venture    3000000.00   \n",
       "127              9Unicorns, 3Lines VC, Hyderabad Angels     800000.00   \n",
       "328                  Facebook, Google, KKR, Silver Lake 2200000000.00   \n",
       "842   Stellaris Venture Partners, Unilever Ventures,...    3900000.00   \n",
       "42                   A91 Partners, Artha India Ventures    5000000.00   \n",
       "546   N S Parthasarathy, Dilipkumar Khandelwal, Anan...  112913068.52   \n",
       "802                         Der Shing Lim, 500 startups     800000.00   \n",
       "\n",
       "                Stage  \n",
       "624   Seed Investment  \n",
       "748      Pre series A  \n",
       "288          Series A  \n",
       "129              Seed  \n",
       "398          Series B  \n",
       "884      Pre series A  \n",
       "714      Pre series A  \n",
       "419          Series A  \n",
       "978          Series A  \n",
       "998          Series A  \n",
       "110          Series A  \n",
       "353          Series A  \n",
       "1000         Series A  \n",
       "374      Pre-series A  \n",
       "127              Seed  \n",
       "328          Series A  \n",
       "842          Series C  \n",
       "42           Series A  \n",
       "546      Bridge Round  \n",
       "802        Seed Round  "
      ]
     },
     "execution_count": 86,
     "metadata": {},
     "output_type": "execute_result"
    }
   ],
   "source": [
    "start_ups_2020.sample(20)"
   ]
  },
  {
   "cell_type": "code",
   "execution_count": 87,
   "metadata": {},
   "outputs": [],
   "source": [
    "# Export the cleaned DataFrame to a CSV file\n",
    "\n",
    "file_path = './India Startup Funding Cleaned/start_ups_2020.csv'\n",
    "start_ups_2020.to_csv(file_path, index=False)"
   ]
  },
  {
   "attachments": {},
   "cell_type": "markdown",
   "metadata": {},
   "source": [
    "#### **start_ups_2021**"
   ]
  },
  {
   "cell_type": "code",
   "execution_count": 88,
   "metadata": {},
   "outputs": [
    {
     "data": {
      "text/plain": [
       "(1209, 9)"
      ]
     },
     "execution_count": 88,
     "metadata": {},
     "output_type": "execute_result"
    }
   ],
   "source": [
    "start_ups_2021.shape"
   ]
  },
  {
   "cell_type": "code",
   "execution_count": 89,
   "metadata": {},
   "outputs": [
    {
     "name": "stdout",
     "output_type": "stream",
     "text": [
      "<class 'pandas.core.frame.DataFrame'>\n",
      "RangeIndex: 1209 entries, 0 to 1208\n",
      "Data columns (total 9 columns):\n",
      " #   Column         Non-Null Count  Dtype \n",
      "---  ------         --------------  ----- \n",
      " 0   Company/Brand  1209 non-null   object\n",
      " 1   Founded        1209 non-null   object\n",
      " 2   HeadQuarter    1209 non-null   object\n",
      " 3   Sector         1209 non-null   object\n",
      " 4   What it does   1209 non-null   object\n",
      " 5   Founders       1209 non-null   object\n",
      " 6   Investor       1209 non-null   object\n",
      " 7   Amount($)      1209 non-null   object\n",
      " 8   Stage          1209 non-null   object\n",
      "dtypes: object(9)\n",
      "memory usage: 85.1+ KB\n"
     ]
    }
   ],
   "source": [
    "start_ups_2021.info()"
   ]
  },
  {
   "cell_type": "code",
   "execution_count": 90,
   "metadata": {},
   "outputs": [
    {
     "data": {
      "text/plain": [
       "19"
      ]
     },
     "execution_count": 90,
     "metadata": {},
     "output_type": "execute_result"
    }
   ],
   "source": [
    "# check for duplicated rows\n",
    "start_ups_2021.duplicated().sum()"
   ]
  },
  {
   "cell_type": "code",
   "execution_count": 91,
   "metadata": {},
   "outputs": [],
   "source": [
    "# drop duplicated rows\n",
    "start_ups_2021 = start_ups_2021.drop_duplicates()"
   ]
  },
  {
   "cell_type": "code",
   "execution_count": 92,
   "metadata": {},
   "outputs": [
    {
     "data": {
      "text/plain": [
       "0"
      ]
     },
     "execution_count": 92,
     "metadata": {},
     "output_type": "execute_result"
    }
   ],
   "source": [
    "# check for duplicated columns\n",
    "start_ups_2021.T.duplicated().sum()"
   ]
  },
  {
   "attachments": {},
   "cell_type": "markdown",
   "metadata": {},
   "source": [
    "Upon examining the dataframe, I discovered that some of the columns, such as \"Amount($)\" and \"Founded\" columns contain values that should be numerical but are currently strings (objects). I will need to convert the datatypes of the values in these columns to numerical (float and/or integer)."
   ]
  },
  {
   "cell_type": "code",
   "execution_count": 93,
   "metadata": {},
   "outputs": [
    {
     "data": {
      "text/plain": [
       "0         $1,200,000\n",
       "1       $120,000,000\n",
       "2        $30,000,000\n",
       "3        $51,000,000\n",
       "4         $2,000,000\n",
       "            ...     \n",
       "1204        $3000000\n",
       "1205       $20000000\n",
       "1206       $55000000\n",
       "1207       $26000000\n",
       "1208        $8000000\n",
       "Name: Amount($), Length: 1190, dtype: object"
      ]
     },
     "execution_count": 93,
     "metadata": {},
     "output_type": "execute_result"
    }
   ],
   "source": [
    "# clean and convert the datatype of the values in the Amount($) column to float\n",
    "start_ups_2021['Amount($)']"
   ]
  },
  {
   "attachments": {},
   "cell_type": "markdown",
   "metadata": {},
   "source": [
    "Furthermore, I observed that certain data within the rows of the dataframe appear to be misplaced, either shifted to the left or right. Prior to the conversion process, it is necessary for me to address this issue."
   ]
  },
  {
   "cell_type": "code",
   "execution_count": 94,
   "metadata": {},
   "outputs": [
    {
     "data": {
      "text/html": [
       "<div>\n",
       "<style scoped>\n",
       "    .dataframe tbody tr th:only-of-type {\n",
       "        vertical-align: middle;\n",
       "    }\n",
       "\n",
       "    .dataframe tbody tr th {\n",
       "        vertical-align: top;\n",
       "    }\n",
       "\n",
       "    .dataframe thead th {\n",
       "        text-align: right;\n",
       "    }\n",
       "</style>\n",
       "<table border=\"1\" class=\"dataframe\">\n",
       "  <thead>\n",
       "    <tr style=\"text-align: right;\">\n",
       "      <th></th>\n",
       "      <th>Company/Brand</th>\n",
       "      <th>Founded</th>\n",
       "      <th>HeadQuarter</th>\n",
       "      <th>Sector</th>\n",
       "      <th>What it does</th>\n",
       "      <th>Founders</th>\n",
       "      <th>Investor</th>\n",
       "      <th>Amount($)</th>\n",
       "      <th>Stage</th>\n",
       "    </tr>\n",
       "  </thead>\n",
       "  <tbody>\n",
       "    <tr>\n",
       "      <th>1100</th>\n",
       "      <td>Sochcast</td>\n",
       "      <td>2020.0</td>\n",
       "      <td>Online Media</td>\n",
       "      <td>Sochcast is an Audio experiences company that ...</td>\n",
       "      <td>CA Harvinderjit Singh Bhatia, Garima Surana, A...</td>\n",
       "      <td>Vinners, Raj Nayak, Amritaanshu Agrawal</td>\n",
       "      <td>$Undisclosed</td>\n",
       "      <td>nan</td>\n",
       "      <td>nan</td>\n",
       "    </tr>\n",
       "  </tbody>\n",
       "</table>\n",
       "</div>"
      ],
      "text/plain": [
       "     Company/Brand Founded   HeadQuarter  \\\n",
       "1100      Sochcast  2020.0  Online Media   \n",
       "\n",
       "                                                 Sector  \\\n",
       "1100  Sochcast is an Audio experiences company that ...   \n",
       "\n",
       "                                           What it does  \\\n",
       "1100  CA Harvinderjit Singh Bhatia, Garima Surana, A...   \n",
       "\n",
       "                                     Founders      Investor Amount($) Stage  \n",
       "1100  Vinners, Raj Nayak, Amritaanshu Agrawal  $Undisclosed       nan   nan  "
      ]
     },
     "execution_count": 94,
     "metadata": {},
     "output_type": "execute_result"
    }
   ],
   "source": [
    "distorted = (start_ups_2021['Company/Brand'] == 'Sochcast')\n",
    "shifted = start_ups_2021[distorted].copy()\n",
    "shifted"
   ]
  },
  {
   "cell_type": "code",
   "execution_count": 95,
   "metadata": {},
   "outputs": [
    {
     "data": {
      "text/plain": [
       "[1100]"
      ]
     },
     "execution_count": 95,
     "metadata": {},
     "output_type": "execute_result"
    }
   ],
   "source": [
    "row_indexes = shifted.index.tolist()\n",
    "row_indexes"
   ]
  },
  {
   "cell_type": "code",
   "execution_count": 96,
   "metadata": {},
   "outputs": [
    {
     "data": {
      "text/html": [
       "<div>\n",
       "<style scoped>\n",
       "    .dataframe tbody tr th:only-of-type {\n",
       "        vertical-align: middle;\n",
       "    }\n",
       "\n",
       "    .dataframe tbody tr th {\n",
       "        vertical-align: top;\n",
       "    }\n",
       "\n",
       "    .dataframe thead th {\n",
       "        text-align: right;\n",
       "    }\n",
       "</style>\n",
       "<table border=\"1\" class=\"dataframe\">\n",
       "  <thead>\n",
       "    <tr style=\"text-align: right;\">\n",
       "      <th></th>\n",
       "      <th>Company/Brand</th>\n",
       "      <th>Founded</th>\n",
       "      <th>HeadQuarter</th>\n",
       "      <th>Sector</th>\n",
       "      <th>What it does</th>\n",
       "      <th>Founders</th>\n",
       "      <th>Investor</th>\n",
       "      <th>Amount($)</th>\n",
       "      <th>Stage</th>\n",
       "    </tr>\n",
       "  </thead>\n",
       "  <tbody>\n",
       "    <tr>\n",
       "      <th>1100</th>\n",
       "      <td>Sochcast</td>\n",
       "      <td>2020.0</td>\n",
       "      <td>None</td>\n",
       "      <td>Online Media</td>\n",
       "      <td>Sochcast is an Audio experiences company that ...</td>\n",
       "      <td>CA Harvinderjit Singh Bhatia, Garima Surana, A...</td>\n",
       "      <td>Vinners, Raj Nayak, Amritaanshu Agrawal</td>\n",
       "      <td>$Undisclosed</td>\n",
       "      <td>nan</td>\n",
       "    </tr>\n",
       "  </tbody>\n",
       "</table>\n",
       "</div>"
      ],
      "text/plain": [
       "     Company/Brand Founded HeadQuarter        Sector  \\\n",
       "1100      Sochcast  2020.0        None  Online Media   \n",
       "\n",
       "                                           What it does  \\\n",
       "1100  Sochcast is an Audio experiences company that ...   \n",
       "\n",
       "                                               Founders  \\\n",
       "1100  CA Harvinderjit Singh Bhatia, Garima Surana, A...   \n",
       "\n",
       "                                     Investor     Amount($) Stage  \n",
       "1100  Vinners, Raj Nayak, Amritaanshu Agrawal  $Undisclosed   nan  "
      ]
     },
     "execution_count": 96,
     "metadata": {},
     "output_type": "execute_result"
    }
   ],
   "source": [
    "# Get the column names to be shifted\n",
    "shift_columns = shifted.columns[2:9]  # Columns 3 to 8 (0-indexed)\n",
    "\n",
    "# Shift the values in the selected columns to the right by 1 position\n",
    "shifted.loc[:, shift_columns] = shifted.loc[:, shift_columns].shift(periods=1, axis=1)\n",
    "\n",
    "shifted"
   ]
  },
  {
   "cell_type": "code",
   "execution_count": 97,
   "metadata": {},
   "outputs": [
    {
     "data": {
      "text/html": [
       "<div>\n",
       "<style scoped>\n",
       "    .dataframe tbody tr th:only-of-type {\n",
       "        vertical-align: middle;\n",
       "    }\n",
       "\n",
       "    .dataframe tbody tr th {\n",
       "        vertical-align: top;\n",
       "    }\n",
       "\n",
       "    .dataframe thead th {\n",
       "        text-align: right;\n",
       "    }\n",
       "</style>\n",
       "<table border=\"1\" class=\"dataframe\">\n",
       "  <thead>\n",
       "    <tr style=\"text-align: right;\">\n",
       "      <th></th>\n",
       "      <th>Company/Brand</th>\n",
       "      <th>Founded</th>\n",
       "      <th>HeadQuarter</th>\n",
       "      <th>Sector</th>\n",
       "      <th>What it does</th>\n",
       "      <th>Founders</th>\n",
       "      <th>Investor</th>\n",
       "      <th>Amount($)</th>\n",
       "      <th>Stage</th>\n",
       "    </tr>\n",
       "  </thead>\n",
       "  <tbody>\n",
       "    <tr>\n",
       "      <th>1119</th>\n",
       "      <td>CuriousJr</td>\n",
       "      <td>2020.0</td>\n",
       "      <td>Gurugram</td>\n",
       "      <td>E-learning</td>\n",
       "      <td>CuriousJr is a platform to answer kids' curios...</td>\n",
       "      <td>Amit Shekhar, Janishar Ali, Mridul Ranjan Sahu</td>\n",
       "      <td>WaterBridge Ventures, Enzia Ventures</td>\n",
       "      <td>$1000000</td>\n",
       "      <td>Seed</td>\n",
       "    </tr>\n",
       "  </tbody>\n",
       "</table>\n",
       "</div>"
      ],
      "text/plain": [
       "     Company/Brand Founded HeadQuarter      Sector  \\\n",
       "1119     CuriousJr  2020.0    Gurugram  E-learning   \n",
       "\n",
       "                                           What it does  \\\n",
       "1119  CuriousJr is a platform to answer kids' curios...   \n",
       "\n",
       "                                            Founders  \\\n",
       "1119  Amit Shekhar, Janishar Ali, Mridul Ranjan Sahu   \n",
       "\n",
       "                                  Investor Amount($) Stage  \n",
       "1119  WaterBridge Ventures, Enzia Ventures  $1000000  Seed  "
      ]
     },
     "execution_count": 97,
     "metadata": {},
     "output_type": "execute_result"
    }
   ],
   "source": [
    "start_ups_2021[distorted] = shifted\n",
    "start_ups_2021.iloc[row_indexes]"
   ]
  },
  {
   "cell_type": "code",
   "execution_count": 98,
   "metadata": {},
   "outputs": [
    {
     "data": {
      "text/html": [
       "<div>\n",
       "<style scoped>\n",
       "    .dataframe tbody tr th:only-of-type {\n",
       "        vertical-align: middle;\n",
       "    }\n",
       "\n",
       "    .dataframe tbody tr th {\n",
       "        vertical-align: top;\n",
       "    }\n",
       "\n",
       "    .dataframe thead th {\n",
       "        text-align: right;\n",
       "    }\n",
       "</style>\n",
       "<table border=\"1\" class=\"dataframe\">\n",
       "  <thead>\n",
       "    <tr style=\"text-align: right;\">\n",
       "      <th></th>\n",
       "      <th>Company/Brand</th>\n",
       "      <th>Founded</th>\n",
       "      <th>HeadQuarter</th>\n",
       "      <th>Sector</th>\n",
       "      <th>What it does</th>\n",
       "      <th>Founders</th>\n",
       "      <th>Investor</th>\n",
       "      <th>Amount($)</th>\n",
       "      <th>Stage</th>\n",
       "    </tr>\n",
       "  </thead>\n",
       "  <tbody>\n",
       "    <tr>\n",
       "      <th>242</th>\n",
       "      <td>Fullife Healthcare</td>\n",
       "      <td>2009.0</td>\n",
       "      <td>Pharmaceuticals</td>\n",
       "      <td>Primary Business is Development and Manufactur...</td>\n",
       "      <td>Varun Khanna</td>\n",
       "      <td>Morgan Stanley Private Equity Asia</td>\n",
       "      <td>$22000000</td>\n",
       "      <td>Series C</td>\n",
       "      <td>nan</td>\n",
       "    </tr>\n",
       "  </tbody>\n",
       "</table>\n",
       "</div>"
      ],
      "text/plain": [
       "          Company/Brand Founded      HeadQuarter  \\\n",
       "242  Fullife Healthcare  2009.0  Pharmaceuticals   \n",
       "\n",
       "                                                Sector  What it does  \\\n",
       "242  Primary Business is Development and Manufactur...  Varun Khanna   \n",
       "\n",
       "                               Founders   Investor Amount($) Stage  \n",
       "242  Morgan Stanley Private Equity Asia  $22000000  Series C   nan  "
      ]
     },
     "execution_count": 98,
     "metadata": {},
     "output_type": "execute_result"
    }
   ],
   "source": [
    "distorted = (start_ups_2021['Amount($)'] == 'Series C')\n",
    "shifted = start_ups_2021[distorted].copy()\n",
    "shifted"
   ]
  },
  {
   "cell_type": "code",
   "execution_count": 99,
   "metadata": {},
   "outputs": [
    {
     "data": {
      "text/plain": [
       "[242]"
      ]
     },
     "execution_count": 99,
     "metadata": {},
     "output_type": "execute_result"
    }
   ],
   "source": [
    "row_indexes = shifted.index.tolist()\n",
    "row_indexes"
   ]
  },
  {
   "cell_type": "code",
   "execution_count": 100,
   "metadata": {},
   "outputs": [
    {
     "data": {
      "text/html": [
       "<div>\n",
       "<style scoped>\n",
       "    .dataframe tbody tr th:only-of-type {\n",
       "        vertical-align: middle;\n",
       "    }\n",
       "\n",
       "    .dataframe tbody tr th {\n",
       "        vertical-align: top;\n",
       "    }\n",
       "\n",
       "    .dataframe thead th {\n",
       "        text-align: right;\n",
       "    }\n",
       "</style>\n",
       "<table border=\"1\" class=\"dataframe\">\n",
       "  <thead>\n",
       "    <tr style=\"text-align: right;\">\n",
       "      <th></th>\n",
       "      <th>Company/Brand</th>\n",
       "      <th>Founded</th>\n",
       "      <th>HeadQuarter</th>\n",
       "      <th>Sector</th>\n",
       "      <th>What it does</th>\n",
       "      <th>Founders</th>\n",
       "      <th>Investor</th>\n",
       "      <th>Amount($)</th>\n",
       "      <th>Stage</th>\n",
       "    </tr>\n",
       "  </thead>\n",
       "  <tbody>\n",
       "    <tr>\n",
       "      <th>242</th>\n",
       "      <td>Fullife Healthcare</td>\n",
       "      <td>2009.0</td>\n",
       "      <td>None</td>\n",
       "      <td>Pharmaceuticals</td>\n",
       "      <td>Primary Business is Development and Manufactur...</td>\n",
       "      <td>Varun Khanna</td>\n",
       "      <td>Morgan Stanley Private Equity Asia</td>\n",
       "      <td>$22000000</td>\n",
       "      <td>Series C</td>\n",
       "    </tr>\n",
       "  </tbody>\n",
       "</table>\n",
       "</div>"
      ],
      "text/plain": [
       "          Company/Brand Founded HeadQuarter           Sector  \\\n",
       "242  Fullife Healthcare  2009.0        None  Pharmaceuticals   \n",
       "\n",
       "                                          What it does      Founders  \\\n",
       "242  Primary Business is Development and Manufactur...  Varun Khanna   \n",
       "\n",
       "                               Investor  Amount($)     Stage  \n",
       "242  Morgan Stanley Private Equity Asia  $22000000  Series C  "
      ]
     },
     "execution_count": 100,
     "metadata": {},
     "output_type": "execute_result"
    }
   ],
   "source": [
    "# Get the column names to be shifted\n",
    "shift_columns = shifted.columns[2:9]  # Columns 3 to 8 (0-indexed)\n",
    "\n",
    "# Shift the values in the selected columns to the right by 1 position\n",
    "shifted.loc[:, shift_columns] = shifted.loc[:, shift_columns].shift(periods=1, axis=1)\n",
    "\n",
    "shifted"
   ]
  },
  {
   "cell_type": "code",
   "execution_count": 101,
   "metadata": {},
   "outputs": [
    {
     "data": {
      "text/html": [
       "<div>\n",
       "<style scoped>\n",
       "    .dataframe tbody tr th:only-of-type {\n",
       "        vertical-align: middle;\n",
       "    }\n",
       "\n",
       "    .dataframe tbody tr th {\n",
       "        vertical-align: top;\n",
       "    }\n",
       "\n",
       "    .dataframe thead th {\n",
       "        text-align: right;\n",
       "    }\n",
       "</style>\n",
       "<table border=\"1\" class=\"dataframe\">\n",
       "  <thead>\n",
       "    <tr style=\"text-align: right;\">\n",
       "      <th></th>\n",
       "      <th>Company/Brand</th>\n",
       "      <th>Founded</th>\n",
       "      <th>HeadQuarter</th>\n",
       "      <th>Sector</th>\n",
       "      <th>What it does</th>\n",
       "      <th>Founders</th>\n",
       "      <th>Investor</th>\n",
       "      <th>Amount($)</th>\n",
       "      <th>Stage</th>\n",
       "    </tr>\n",
       "  </thead>\n",
       "  <tbody>\n",
       "    <tr>\n",
       "      <th>261</th>\n",
       "      <td>Practically</td>\n",
       "      <td>2018.0</td>\n",
       "      <td>Hyderabad</td>\n",
       "      <td>E-learning</td>\n",
       "      <td>An experiential learning app for grades 6th to...</td>\n",
       "      <td>Subbarao Siddabattula, Charu Noheria, Ilangove...</td>\n",
       "      <td>NB Ventures, Earlsfield Capital</td>\n",
       "      <td>$5000000</td>\n",
       "      <td>nan</td>\n",
       "    </tr>\n",
       "  </tbody>\n",
       "</table>\n",
       "</div>"
      ],
      "text/plain": [
       "    Company/Brand Founded HeadQuarter      Sector  \\\n",
       "261   Practically  2018.0   Hyderabad  E-learning   \n",
       "\n",
       "                                          What it does  \\\n",
       "261  An experiential learning app for grades 6th to...   \n",
       "\n",
       "                                              Founders  \\\n",
       "261  Subbarao Siddabattula, Charu Noheria, Ilangove...   \n",
       "\n",
       "                            Investor Amount($) Stage  \n",
       "261  NB Ventures, Earlsfield Capital  $5000000   nan  "
      ]
     },
     "execution_count": 101,
     "metadata": {},
     "output_type": "execute_result"
    }
   ],
   "source": [
    "start_ups_2021[distorted] = shifted\n",
    "start_ups_2021.iloc[row_indexes]"
   ]
  },
  {
   "cell_type": "code",
   "execution_count": 102,
   "metadata": {},
   "outputs": [
    {
     "data": {
      "text/html": [
       "<div>\n",
       "<style scoped>\n",
       "    .dataframe tbody tr th:only-of-type {\n",
       "        vertical-align: middle;\n",
       "    }\n",
       "\n",
       "    .dataframe tbody tr th {\n",
       "        vertical-align: top;\n",
       "    }\n",
       "\n",
       "    .dataframe thead th {\n",
       "        text-align: right;\n",
       "    }\n",
       "</style>\n",
       "<table border=\"1\" class=\"dataframe\">\n",
       "  <thead>\n",
       "    <tr style=\"text-align: right;\">\n",
       "      <th></th>\n",
       "      <th>Company/Brand</th>\n",
       "      <th>Founded</th>\n",
       "      <th>HeadQuarter</th>\n",
       "      <th>Sector</th>\n",
       "      <th>What it does</th>\n",
       "      <th>Founders</th>\n",
       "      <th>Investor</th>\n",
       "      <th>Amount($)</th>\n",
       "      <th>Stage</th>\n",
       "    </tr>\n",
       "  </thead>\n",
       "  <tbody>\n",
       "    <tr>\n",
       "      <th>98</th>\n",
       "      <td>FanPlay</td>\n",
       "      <td>2020.0</td>\n",
       "      <td>Computer Games</td>\n",
       "      <td>Computer Games</td>\n",
       "      <td>A real money game app specializing in trivia g...</td>\n",
       "      <td>YC W21</td>\n",
       "      <td>Pritesh Kumar, Bharat Gupta</td>\n",
       "      <td>Upsparks</td>\n",
       "      <td>$1200000</td>\n",
       "    </tr>\n",
       "  </tbody>\n",
       "</table>\n",
       "</div>"
      ],
      "text/plain": [
       "   Company/Brand Founded     HeadQuarter          Sector  \\\n",
       "98       FanPlay  2020.0  Computer Games  Computer Games   \n",
       "\n",
       "                                         What it does Founders  \\\n",
       "98  A real money game app specializing in trivia g...   YC W21   \n",
       "\n",
       "                       Investor Amount($)     Stage  \n",
       "98  Pritesh Kumar, Bharat Gupta  Upsparks  $1200000  "
      ]
     },
     "execution_count": 102,
     "metadata": {},
     "output_type": "execute_result"
    }
   ],
   "source": [
    "distorted = (start_ups_2021['Amount($)'] == 'Upsparks')\n",
    "shifted = start_ups_2021[distorted].copy()\n",
    "shifted"
   ]
  },
  {
   "cell_type": "code",
   "execution_count": 103,
   "metadata": {},
   "outputs": [
    {
     "data": {
      "text/html": [
       "<div>\n",
       "<style scoped>\n",
       "    .dataframe tbody tr th:only-of-type {\n",
       "        vertical-align: middle;\n",
       "    }\n",
       "\n",
       "    .dataframe tbody tr th {\n",
       "        vertical-align: top;\n",
       "    }\n",
       "\n",
       "    .dataframe thead th {\n",
       "        text-align: right;\n",
       "    }\n",
       "</style>\n",
       "<table border=\"1\" class=\"dataframe\">\n",
       "  <thead>\n",
       "    <tr style=\"text-align: right;\">\n",
       "      <th></th>\n",
       "      <th>Company/Brand</th>\n",
       "      <th>Founded</th>\n",
       "      <th>HeadQuarter</th>\n",
       "      <th>Sector</th>\n",
       "      <th>What it does</th>\n",
       "      <th>Founders</th>\n",
       "      <th>Investor</th>\n",
       "      <th>Amount($)</th>\n",
       "      <th>Stage</th>\n",
       "    </tr>\n",
       "  </thead>\n",
       "  <tbody>\n",
       "    <tr>\n",
       "      <th>98</th>\n",
       "      <td>FanPlay</td>\n",
       "      <td>2020.0</td>\n",
       "      <td>NaN</td>\n",
       "      <td>Computer Games</td>\n",
       "      <td>A real money game app specializing in trivia g...</td>\n",
       "      <td>YC W21</td>\n",
       "      <td>Pritesh Kumar, Bharat Gupta</td>\n",
       "      <td>Upsparks</td>\n",
       "      <td>$1200000</td>\n",
       "    </tr>\n",
       "  </tbody>\n",
       "</table>\n",
       "</div>"
      ],
      "text/plain": [
       "   Company/Brand Founded  HeadQuarter          Sector  \\\n",
       "98       FanPlay  2020.0          NaN  Computer Games   \n",
       "\n",
       "                                         What it does Founders  \\\n",
       "98  A real money game app specializing in trivia g...   YC W21   \n",
       "\n",
       "                       Investor Amount($)     Stage  \n",
       "98  Pritesh Kumar, Bharat Gupta  Upsparks  $1200000  "
      ]
     },
     "execution_count": 103,
     "metadata": {},
     "output_type": "execute_result"
    }
   ],
   "source": [
    "shifted['HeadQuarter'] = shifted['HeadQuarter'].apply(lambda x: str(x).replace('Computer Games', str(np.nan))).astype(float)\n",
    "# shifted['Founders'] = shifted['Founders'].apply(lambda x: str(x).replace('YC W21', str(np.nan))).astype(float)\n",
    "shifted"
   ]
  },
  {
   "cell_type": "code",
   "execution_count": 104,
   "metadata": {},
   "outputs": [
    {
     "data": {
      "text/plain": [
       "[98]"
      ]
     },
     "execution_count": 104,
     "metadata": {},
     "output_type": "execute_result"
    }
   ],
   "source": [
    "row_indexes = shifted.index.tolist()\n",
    "row_indexes"
   ]
  },
  {
   "cell_type": "code",
   "execution_count": 105,
   "metadata": {},
   "outputs": [
    {
     "data": {
      "text/html": [
       "<div>\n",
       "<style scoped>\n",
       "    .dataframe tbody tr th:only-of-type {\n",
       "        vertical-align: middle;\n",
       "    }\n",
       "\n",
       "    .dataframe tbody tr th {\n",
       "        vertical-align: top;\n",
       "    }\n",
       "\n",
       "    .dataframe thead th {\n",
       "        text-align: right;\n",
       "    }\n",
       "</style>\n",
       "<table border=\"1\" class=\"dataframe\">\n",
       "  <thead>\n",
       "    <tr style=\"text-align: right;\">\n",
       "      <th></th>\n",
       "      <th>Company/Brand</th>\n",
       "      <th>Founded</th>\n",
       "      <th>HeadQuarter</th>\n",
       "      <th>Sector</th>\n",
       "      <th>What it does</th>\n",
       "      <th>Founders</th>\n",
       "      <th>Investor</th>\n",
       "      <th>Amount($)</th>\n",
       "      <th>Stage</th>\n",
       "    </tr>\n",
       "  </thead>\n",
       "  <tbody>\n",
       "    <tr>\n",
       "      <th>98</th>\n",
       "      <td>FanPlay</td>\n",
       "      <td>2020.0</td>\n",
       "      <td>NaN</td>\n",
       "      <td>Computer Games</td>\n",
       "      <td>A real money game app specializing in trivia g...</td>\n",
       "      <td>Pritesh Kumar, Bharat Gupta</td>\n",
       "      <td>Upsparks</td>\n",
       "      <td>$1200000</td>\n",
       "      <td>None</td>\n",
       "    </tr>\n",
       "  </tbody>\n",
       "</table>\n",
       "</div>"
      ],
      "text/plain": [
       "   Company/Brand Founded  HeadQuarter          Sector  \\\n",
       "98       FanPlay  2020.0          NaN  Computer Games   \n",
       "\n",
       "                                         What it does  \\\n",
       "98  A real money game app specializing in trivia g...   \n",
       "\n",
       "                       Founders  Investor Amount($) Stage  \n",
       "98  Pritesh Kumar, Bharat Gupta  Upsparks  $1200000  None  "
      ]
     },
     "execution_count": 105,
     "metadata": {},
     "output_type": "execute_result"
    }
   ],
   "source": [
    "# Get the column names to be shifted\n",
    "shift_columns = shifted.columns[5:9]  # Columns 6 to 8 (0-indexed)\n",
    "\n",
    "# Shift the values in the selected columns to the left by 1 position\n",
    "shifted.loc[:, shift_columns] = shifted.loc[:, shift_columns].shift(periods=-1, axis=1)\n",
    "\n",
    "shifted"
   ]
  },
  {
   "cell_type": "code",
   "execution_count": 106,
   "metadata": {},
   "outputs": [
    {
     "data": {
      "text/html": [
       "<div>\n",
       "<style scoped>\n",
       "    .dataframe tbody tr th:only-of-type {\n",
       "        vertical-align: middle;\n",
       "    }\n",
       "\n",
       "    .dataframe tbody tr th {\n",
       "        vertical-align: top;\n",
       "    }\n",
       "\n",
       "    .dataframe thead th {\n",
       "        text-align: right;\n",
       "    }\n",
       "</style>\n",
       "<table border=\"1\" class=\"dataframe\">\n",
       "  <thead>\n",
       "    <tr style=\"text-align: right;\">\n",
       "      <th></th>\n",
       "      <th>Company/Brand</th>\n",
       "      <th>Founded</th>\n",
       "      <th>HeadQuarter</th>\n",
       "      <th>Sector</th>\n",
       "      <th>What it does</th>\n",
       "      <th>Founders</th>\n",
       "      <th>Investor</th>\n",
       "      <th>Amount($)</th>\n",
       "      <th>Stage</th>\n",
       "    </tr>\n",
       "  </thead>\n",
       "  <tbody>\n",
       "    <tr>\n",
       "      <th>98</th>\n",
       "      <td>FanPlay</td>\n",
       "      <td>2020.0</td>\n",
       "      <td>NaN</td>\n",
       "      <td>Computer Games</td>\n",
       "      <td>A real money game app specializing in trivia g...</td>\n",
       "      <td>Pritesh Kumar, Bharat Gupta</td>\n",
       "      <td>Upsparks</td>\n",
       "      <td>$1200000</td>\n",
       "      <td>None</td>\n",
       "    </tr>\n",
       "  </tbody>\n",
       "</table>\n",
       "</div>"
      ],
      "text/plain": [
       "   Company/Brand Founded HeadQuarter          Sector  \\\n",
       "98       FanPlay  2020.0         NaN  Computer Games   \n",
       "\n",
       "                                         What it does  \\\n",
       "98  A real money game app specializing in trivia g...   \n",
       "\n",
       "                       Founders  Investor Amount($) Stage  \n",
       "98  Pritesh Kumar, Bharat Gupta  Upsparks  $1200000  None  "
      ]
     },
     "execution_count": 106,
     "metadata": {},
     "output_type": "execute_result"
    }
   ],
   "source": [
    "start_ups_2021[distorted] = shifted\n",
    "start_ups_2021.iloc[row_indexes]"
   ]
  },
  {
   "cell_type": "code",
   "execution_count": 107,
   "metadata": {},
   "outputs": [
    {
     "data": {
      "text/html": [
       "<div>\n",
       "<style scoped>\n",
       "    .dataframe tbody tr th:only-of-type {\n",
       "        vertical-align: middle;\n",
       "    }\n",
       "\n",
       "    .dataframe tbody tr th {\n",
       "        vertical-align: top;\n",
       "    }\n",
       "\n",
       "    .dataframe thead th {\n",
       "        text-align: right;\n",
       "    }\n",
       "</style>\n",
       "<table border=\"1\" class=\"dataframe\">\n",
       "  <thead>\n",
       "    <tr style=\"text-align: right;\">\n",
       "      <th></th>\n",
       "      <th>Company/Brand</th>\n",
       "      <th>Founded</th>\n",
       "      <th>HeadQuarter</th>\n",
       "      <th>Sector</th>\n",
       "      <th>What it does</th>\n",
       "      <th>Founders</th>\n",
       "      <th>Investor</th>\n",
       "      <th>Amount($)</th>\n",
       "      <th>Stage</th>\n",
       "    </tr>\n",
       "  </thead>\n",
       "  <tbody>\n",
       "    <tr>\n",
       "      <th>257</th>\n",
       "      <td>MoEVing</td>\n",
       "      <td>2021.0</td>\n",
       "      <td>Gurugram</td>\n",
       "      <td>MoEVing is India's only Electric Mobility focu...</td>\n",
       "      <td>Vikash Mishra, Mragank Jain</td>\n",
       "      <td>Anshuman Maheshwary, Dr Srihari Raju Kalidindi</td>\n",
       "      <td>$5000000</td>\n",
       "      <td>Seed</td>\n",
       "      <td>nan</td>\n",
       "    </tr>\n",
       "    <tr>\n",
       "      <th>1148</th>\n",
       "      <td>Godamwale</td>\n",
       "      <td>2016.0</td>\n",
       "      <td>Mumbai</td>\n",
       "      <td>Logistics &amp; Supply Chain</td>\n",
       "      <td>Godamwale is tech enabled integrated logistics...</td>\n",
       "      <td>Basant Kumar, Vivek Tiwari, Ranbir Nandan</td>\n",
       "      <td>1000000</td>\n",
       "      <td>Seed</td>\n",
       "      <td>nan</td>\n",
       "    </tr>\n",
       "  </tbody>\n",
       "</table>\n",
       "</div>"
      ],
      "text/plain": [
       "     Company/Brand Founded HeadQuarter  \\\n",
       "257        MoEVing  2021.0    Gurugram   \n",
       "1148     Godamwale  2016.0      Mumbai   \n",
       "\n",
       "                                                 Sector  \\\n",
       "257   MoEVing is India's only Electric Mobility focu...   \n",
       "1148                           Logistics & Supply Chain   \n",
       "\n",
       "                                           What it does  \\\n",
       "257                         Vikash Mishra, Mragank Jain   \n",
       "1148  Godamwale is tech enabled integrated logistics...   \n",
       "\n",
       "                                            Founders  Investor Amount($) Stage  \n",
       "257   Anshuman Maheshwary, Dr Srihari Raju Kalidindi  $5000000      Seed   nan  \n",
       "1148       Basant Kumar, Vivek Tiwari, Ranbir Nandan   1000000      Seed   nan  "
      ]
     },
     "execution_count": 107,
     "metadata": {},
     "output_type": "execute_result"
    }
   ],
   "source": [
    "distorted = (start_ups_2021['Amount($)'] == 'Seed')\n",
    "shifted = start_ups_2021[distorted].copy()\n",
    "shifted"
   ]
  },
  {
   "cell_type": "code",
   "execution_count": 108,
   "metadata": {},
   "outputs": [
    {
     "data": {
      "text/plain": [
       "[257, 1148]"
      ]
     },
     "execution_count": 108,
     "metadata": {},
     "output_type": "execute_result"
    }
   ],
   "source": [
    "row_indexes = shifted.index.tolist()\n",
    "row_indexes"
   ]
  },
  {
   "cell_type": "code",
   "execution_count": 109,
   "metadata": {},
   "outputs": [
    {
     "data": {
      "text/html": [
       "<div>\n",
       "<style scoped>\n",
       "    .dataframe tbody tr th:only-of-type {\n",
       "        vertical-align: middle;\n",
       "    }\n",
       "\n",
       "    .dataframe tbody tr th {\n",
       "        vertical-align: top;\n",
       "    }\n",
       "\n",
       "    .dataframe thead th {\n",
       "        text-align: right;\n",
       "    }\n",
       "</style>\n",
       "<table border=\"1\" class=\"dataframe\">\n",
       "  <thead>\n",
       "    <tr style=\"text-align: right;\">\n",
       "      <th></th>\n",
       "      <th>Company/Brand</th>\n",
       "      <th>Founded</th>\n",
       "      <th>HeadQuarter</th>\n",
       "      <th>Sector</th>\n",
       "      <th>What it does</th>\n",
       "      <th>Founders</th>\n",
       "      <th>Investor</th>\n",
       "      <th>Amount($)</th>\n",
       "      <th>Stage</th>\n",
       "    </tr>\n",
       "  </thead>\n",
       "  <tbody>\n",
       "    <tr>\n",
       "      <th>257</th>\n",
       "      <td>MoEVing</td>\n",
       "      <td>2021.0</td>\n",
       "      <td>Gurugram</td>\n",
       "      <td>None</td>\n",
       "      <td>MoEVing is India's only Electric Mobility focu...</td>\n",
       "      <td>Vikash Mishra, Mragank Jain</td>\n",
       "      <td>Anshuman Maheshwary, Dr Srihari Raju Kalidindi</td>\n",
       "      <td>$5000000</td>\n",
       "      <td>Seed</td>\n",
       "    </tr>\n",
       "  </tbody>\n",
       "</table>\n",
       "</div>"
      ],
      "text/plain": [
       "    Company/Brand Founded HeadQuarter Sector  \\\n",
       "257       MoEVing  2021.0    Gurugram   None   \n",
       "\n",
       "                                          What it does  \\\n",
       "257  MoEVing is India's only Electric Mobility focu...   \n",
       "\n",
       "                        Founders  \\\n",
       "257  Vikash Mishra, Mragank Jain   \n",
       "\n",
       "                                           Investor Amount($) Stage  \n",
       "257  Anshuman Maheshwary, Dr Srihari Raju Kalidindi  $5000000  Seed  "
      ]
     },
     "execution_count": 109,
     "metadata": {},
     "output_type": "execute_result"
    }
   ],
   "source": [
    "shifted_1 = shifted.loc[row_indexes[0]].to_frame().T\n",
    "shifted_1\n",
    "\n",
    "# Get the column names to be shifted\n",
    "shift_columns = shifted_1.columns[3:9]  # Columns 4 to 8 (0-indexed)\n",
    "\n",
    "# Shift the values in the selected columns to the right by 1 position\n",
    "shifted_1.loc[:, shift_columns] = shifted_1.loc[:, shift_columns].shift(periods=1, axis=1)\n",
    "\n",
    "shifted_1"
   ]
  },
  {
   "cell_type": "code",
   "execution_count": 110,
   "metadata": {},
   "outputs": [
    {
     "data": {
      "text/html": [
       "<div>\n",
       "<style scoped>\n",
       "    .dataframe tbody tr th:only-of-type {\n",
       "        vertical-align: middle;\n",
       "    }\n",
       "\n",
       "    .dataframe tbody tr th {\n",
       "        vertical-align: top;\n",
       "    }\n",
       "\n",
       "    .dataframe thead th {\n",
       "        text-align: right;\n",
       "    }\n",
       "</style>\n",
       "<table border=\"1\" class=\"dataframe\">\n",
       "  <thead>\n",
       "    <tr style=\"text-align: right;\">\n",
       "      <th></th>\n",
       "      <th>Company/Brand</th>\n",
       "      <th>Founded</th>\n",
       "      <th>HeadQuarter</th>\n",
       "      <th>Sector</th>\n",
       "      <th>What it does</th>\n",
       "      <th>Founders</th>\n",
       "      <th>Investor</th>\n",
       "      <th>Amount($)</th>\n",
       "      <th>Stage</th>\n",
       "    </tr>\n",
       "  </thead>\n",
       "  <tbody>\n",
       "    <tr>\n",
       "      <th>1148</th>\n",
       "      <td>Godamwale</td>\n",
       "      <td>2016.0</td>\n",
       "      <td>Mumbai</td>\n",
       "      <td>Logistics &amp; Supply Chain</td>\n",
       "      <td>Godamwale is tech enabled integrated logistics...</td>\n",
       "      <td>Basant Kumar, Vivek Tiwari, Ranbir Nandan</td>\n",
       "      <td>None</td>\n",
       "      <td>1000000</td>\n",
       "      <td>Seed</td>\n",
       "    </tr>\n",
       "  </tbody>\n",
       "</table>\n",
       "</div>"
      ],
      "text/plain": [
       "     Company/Brand Founded HeadQuarter                    Sector  \\\n",
       "1148     Godamwale  2016.0      Mumbai  Logistics & Supply Chain   \n",
       "\n",
       "                                           What it does  \\\n",
       "1148  Godamwale is tech enabled integrated logistics...   \n",
       "\n",
       "                                       Founders Investor Amount($) Stage  \n",
       "1148  Basant Kumar, Vivek Tiwari, Ranbir Nandan     None   1000000  Seed  "
      ]
     },
     "execution_count": 110,
     "metadata": {},
     "output_type": "execute_result"
    }
   ],
   "source": [
    "shifted_2 = shifted.loc[row_indexes[1]].to_frame().T\n",
    "shifted_2\n",
    "\n",
    "# Get the column names to be shifted\n",
    "shift_columns = shifted_2.columns[6:9]  # Columns 7 to 8 (0-indexed)\n",
    "\n",
    "# Shift the values in the selected columns to the right by 1 position\n",
    "shifted_2.loc[:, shift_columns] = shifted_2.loc[:, shift_columns].shift(periods=1, axis=1)\n",
    "\n",
    "shifted_2"
   ]
  },
  {
   "cell_type": "code",
   "execution_count": 111,
   "metadata": {},
   "outputs": [
    {
     "data": {
      "text/html": [
       "<div>\n",
       "<style scoped>\n",
       "    .dataframe tbody tr th:only-of-type {\n",
       "        vertical-align: middle;\n",
       "    }\n",
       "\n",
       "    .dataframe tbody tr th {\n",
       "        vertical-align: top;\n",
       "    }\n",
       "\n",
       "    .dataframe thead th {\n",
       "        text-align: right;\n",
       "    }\n",
       "</style>\n",
       "<table border=\"1\" class=\"dataframe\">\n",
       "  <thead>\n",
       "    <tr style=\"text-align: right;\">\n",
       "      <th></th>\n",
       "      <th>Company/Brand</th>\n",
       "      <th>Founded</th>\n",
       "      <th>HeadQuarter</th>\n",
       "      <th>Sector</th>\n",
       "      <th>What it does</th>\n",
       "      <th>Founders</th>\n",
       "      <th>Investor</th>\n",
       "      <th>Amount($)</th>\n",
       "      <th>Stage</th>\n",
       "    </tr>\n",
       "  </thead>\n",
       "  <tbody>\n",
       "    <tr>\n",
       "      <th>257</th>\n",
       "      <td>MoEVing</td>\n",
       "      <td>2021.0</td>\n",
       "      <td>Gurugram</td>\n",
       "      <td>None</td>\n",
       "      <td>MoEVing is India's only Electric Mobility focu...</td>\n",
       "      <td>Vikash Mishra, Mragank Jain</td>\n",
       "      <td>Anshuman Maheshwary, Dr Srihari Raju Kalidindi</td>\n",
       "      <td>$5000000</td>\n",
       "      <td>Seed</td>\n",
       "    </tr>\n",
       "    <tr>\n",
       "      <th>1148</th>\n",
       "      <td>Godamwale</td>\n",
       "      <td>2016.0</td>\n",
       "      <td>Mumbai</td>\n",
       "      <td>Logistics &amp; Supply Chain</td>\n",
       "      <td>Godamwale is tech enabled integrated logistics...</td>\n",
       "      <td>Basant Kumar, Vivek Tiwari, Ranbir Nandan</td>\n",
       "      <td>None</td>\n",
       "      <td>1000000</td>\n",
       "      <td>Seed</td>\n",
       "    </tr>\n",
       "  </tbody>\n",
       "</table>\n",
       "</div>"
      ],
      "text/plain": [
       "     Company/Brand Founded HeadQuarter                    Sector  \\\n",
       "257        MoEVing  2021.0    Gurugram                      None   \n",
       "1148     Godamwale  2016.0      Mumbai  Logistics & Supply Chain   \n",
       "\n",
       "                                           What it does  \\\n",
       "257   MoEVing is India's only Electric Mobility focu...   \n",
       "1148  Godamwale is tech enabled integrated logistics...   \n",
       "\n",
       "                                       Founders  \\\n",
       "257                 Vikash Mishra, Mragank Jain   \n",
       "1148  Basant Kumar, Vivek Tiwari, Ranbir Nandan   \n",
       "\n",
       "                                            Investor Amount($) Stage  \n",
       "257   Anshuman Maheshwary, Dr Srihari Raju Kalidindi  $5000000  Seed  \n",
       "1148                                            None   1000000  Seed  "
      ]
     },
     "execution_count": 111,
     "metadata": {},
     "output_type": "execute_result"
    }
   ],
   "source": [
    "shifted = pd.concat([shifted_1, shifted_2])\n",
    "shifted"
   ]
  },
  {
   "cell_type": "code",
   "execution_count": 112,
   "metadata": {},
   "outputs": [
    {
     "data": {
      "text/html": [
       "<div>\n",
       "<style scoped>\n",
       "    .dataframe tbody tr th:only-of-type {\n",
       "        vertical-align: middle;\n",
       "    }\n",
       "\n",
       "    .dataframe tbody tr th {\n",
       "        vertical-align: top;\n",
       "    }\n",
       "\n",
       "    .dataframe thead th {\n",
       "        text-align: right;\n",
       "    }\n",
       "</style>\n",
       "<table border=\"1\" class=\"dataframe\">\n",
       "  <thead>\n",
       "    <tr style=\"text-align: right;\">\n",
       "      <th></th>\n",
       "      <th>Company/Brand</th>\n",
       "      <th>Founded</th>\n",
       "      <th>HeadQuarter</th>\n",
       "      <th>Sector</th>\n",
       "      <th>What it does</th>\n",
       "      <th>Founders</th>\n",
       "      <th>Investor</th>\n",
       "      <th>Amount($)</th>\n",
       "      <th>Stage</th>\n",
       "    </tr>\n",
       "  </thead>\n",
       "  <tbody>\n",
       "    <tr>\n",
       "      <th>276</th>\n",
       "      <td>OfBusiness</td>\n",
       "      <td>2015.0</td>\n",
       "      <td>Gurugram</td>\n",
       "      <td>Financial Services</td>\n",
       "      <td>OfBusiness is a new age commerce and fintech s...</td>\n",
       "      <td>Ruchi Kalra, Asish Mohapatra</td>\n",
       "      <td>Alpha Wave Ventures II, Tiger Global Managemen...</td>\n",
       "      <td>$325000000</td>\n",
       "      <td>nan</td>\n",
       "    </tr>\n",
       "    <tr>\n",
       "      <th>1167</th>\n",
       "      <td>Coutloot</td>\n",
       "      <td>2016.0</td>\n",
       "      <td>Mumbai</td>\n",
       "      <td>Consumer Services</td>\n",
       "      <td>Empowering local markets to sell online social...</td>\n",
       "      <td>Mahima Kaul, Jasmeet Thind</td>\n",
       "      <td>Ameba Capital, 9Unicorns</td>\n",
       "      <td>$8000000</td>\n",
       "      <td>Pre-series</td>\n",
       "    </tr>\n",
       "  </tbody>\n",
       "</table>\n",
       "</div>"
      ],
      "text/plain": [
       "     Company/Brand Founded HeadQuarter              Sector  \\\n",
       "276     OfBusiness  2015.0    Gurugram  Financial Services   \n",
       "1167      Coutloot  2016.0      Mumbai   Consumer Services   \n",
       "\n",
       "                                           What it does  \\\n",
       "276   OfBusiness is a new age commerce and fintech s...   \n",
       "1167  Empowering local markets to sell online social...   \n",
       "\n",
       "                          Founders  \\\n",
       "276   Ruchi Kalra, Asish Mohapatra   \n",
       "1167    Mahima Kaul, Jasmeet Thind   \n",
       "\n",
       "                                               Investor   Amount($)  \\\n",
       "276   Alpha Wave Ventures II, Tiger Global Managemen...  $325000000   \n",
       "1167                           Ameba Capital, 9Unicorns    $8000000   \n",
       "\n",
       "           Stage  \n",
       "276          nan  \n",
       "1167  Pre-series  "
      ]
     },
     "execution_count": 112,
     "metadata": {},
     "output_type": "execute_result"
    }
   ],
   "source": [
    "start_ups_2021[distorted] = shifted\n",
    "start_ups_2021.iloc[row_indexes]"
   ]
  },
  {
   "cell_type": "code",
   "execution_count": 113,
   "metadata": {},
   "outputs": [
    {
     "data": {
      "text/html": [
       "<div>\n",
       "<style scoped>\n",
       "    .dataframe tbody tr th:only-of-type {\n",
       "        vertical-align: middle;\n",
       "    }\n",
       "\n",
       "    .dataframe tbody tr th {\n",
       "        vertical-align: top;\n",
       "    }\n",
       "\n",
       "    .dataframe thead th {\n",
       "        text-align: right;\n",
       "    }\n",
       "</style>\n",
       "<table border=\"1\" class=\"dataframe\">\n",
       "  <thead>\n",
       "    <tr style=\"text-align: right;\">\n",
       "      <th></th>\n",
       "      <th>Company/Brand</th>\n",
       "      <th>Founded</th>\n",
       "      <th>HeadQuarter</th>\n",
       "      <th>Sector</th>\n",
       "      <th>What it does</th>\n",
       "      <th>Founders</th>\n",
       "      <th>Investor</th>\n",
       "      <th>Amount($)</th>\n",
       "      <th>Stage</th>\n",
       "    </tr>\n",
       "  </thead>\n",
       "  <tbody>\n",
       "    <tr>\n",
       "      <th>538</th>\n",
       "      <td>Little Leap</td>\n",
       "      <td>2020.0</td>\n",
       "      <td>New Delhi</td>\n",
       "      <td>EdTech</td>\n",
       "      <td>Soft Skills that make Smart Leaders</td>\n",
       "      <td>Holistic Development Programs for children in ...</td>\n",
       "      <td>Vishal Gupta</td>\n",
       "      <td>ah! Ventures</td>\n",
       "      <td>$300000</td>\n",
       "    </tr>\n",
       "  </tbody>\n",
       "</table>\n",
       "</div>"
      ],
      "text/plain": [
       "    Company/Brand Founded HeadQuarter  Sector  \\\n",
       "538   Little Leap  2020.0   New Delhi  EdTech   \n",
       "\n",
       "                            What it does  \\\n",
       "538  Soft Skills that make Smart Leaders   \n",
       "\n",
       "                                              Founders      Investor  \\\n",
       "538  Holistic Development Programs for children in ...  Vishal Gupta   \n",
       "\n",
       "        Amount($)    Stage  \n",
       "538  ah! Ventures  $300000  "
      ]
     },
     "execution_count": 113,
     "metadata": {},
     "output_type": "execute_result"
    }
   ],
   "source": [
    "distorted = (start_ups_2021['Amount($)'] == 'ah! Ventures')\n",
    "shifted = start_ups_2021[distorted].copy()\n",
    "shifted"
   ]
  },
  {
   "cell_type": "code",
   "execution_count": 114,
   "metadata": {},
   "outputs": [
    {
     "data": {
      "text/plain": [
       "[538]"
      ]
     },
     "execution_count": 114,
     "metadata": {},
     "output_type": "execute_result"
    }
   ],
   "source": [
    "row_indexes = shifted.index.tolist()\n",
    "row_indexes"
   ]
  },
  {
   "cell_type": "code",
   "execution_count": 115,
   "metadata": {},
   "outputs": [
    {
     "data": {
      "text/html": [
       "<div>\n",
       "<style scoped>\n",
       "    .dataframe tbody tr th:only-of-type {\n",
       "        vertical-align: middle;\n",
       "    }\n",
       "\n",
       "    .dataframe tbody tr th {\n",
       "        vertical-align: top;\n",
       "    }\n",
       "\n",
       "    .dataframe thead th {\n",
       "        text-align: right;\n",
       "    }\n",
       "</style>\n",
       "<table border=\"1\" class=\"dataframe\">\n",
       "  <thead>\n",
       "    <tr style=\"text-align: right;\">\n",
       "      <th></th>\n",
       "      <th>Company/Brand</th>\n",
       "      <th>Founded</th>\n",
       "      <th>HeadQuarter</th>\n",
       "      <th>Sector</th>\n",
       "      <th>What it does</th>\n",
       "      <th>Founders</th>\n",
       "      <th>Investor</th>\n",
       "      <th>Amount($)</th>\n",
       "      <th>Stage</th>\n",
       "    </tr>\n",
       "  </thead>\n",
       "  <tbody>\n",
       "    <tr>\n",
       "      <th>538</th>\n",
       "      <td>Little Leap</td>\n",
       "      <td>2020.0</td>\n",
       "      <td>New Delhi</td>\n",
       "      <td>EdTech</td>\n",
       "      <td>Holistic Development Programs for children in ...</td>\n",
       "      <td>Vishal Gupta</td>\n",
       "      <td>ah! Ventures</td>\n",
       "      <td>$300000</td>\n",
       "      <td>None</td>\n",
       "    </tr>\n",
       "  </tbody>\n",
       "</table>\n",
       "</div>"
      ],
      "text/plain": [
       "    Company/Brand Founded HeadQuarter  Sector  \\\n",
       "538   Little Leap  2020.0   New Delhi  EdTech   \n",
       "\n",
       "                                          What it does      Founders  \\\n",
       "538  Holistic Development Programs for children in ...  Vishal Gupta   \n",
       "\n",
       "         Investor Amount($) Stage  \n",
       "538  ah! Ventures   $300000  None  "
      ]
     },
     "execution_count": 115,
     "metadata": {},
     "output_type": "execute_result"
    }
   ],
   "source": [
    "# Get the column names to be shifted\n",
    "shift_columns = shifted.columns[4:9]  # Columns 5 to 8 (0-indexed)\n",
    "\n",
    "# Shift the values in the selected columns to the left by 1 position\n",
    "shifted.loc[:, shift_columns] = shifted.loc[:, shift_columns].shift(periods=-1, axis=1)\n",
    "\n",
    "shifted"
   ]
  },
  {
   "cell_type": "code",
   "execution_count": 116,
   "metadata": {},
   "outputs": [
    {
     "data": {
      "text/html": [
       "<div>\n",
       "<style scoped>\n",
       "    .dataframe tbody tr th:only-of-type {\n",
       "        vertical-align: middle;\n",
       "    }\n",
       "\n",
       "    .dataframe tbody tr th {\n",
       "        vertical-align: top;\n",
       "    }\n",
       "\n",
       "    .dataframe thead th {\n",
       "        text-align: right;\n",
       "    }\n",
       "</style>\n",
       "<table border=\"1\" class=\"dataframe\">\n",
       "  <thead>\n",
       "    <tr style=\"text-align: right;\">\n",
       "      <th></th>\n",
       "      <th>Company/Brand</th>\n",
       "      <th>Founded</th>\n",
       "      <th>HeadQuarter</th>\n",
       "      <th>Sector</th>\n",
       "      <th>What it does</th>\n",
       "      <th>Founders</th>\n",
       "      <th>Investor</th>\n",
       "      <th>Amount($)</th>\n",
       "      <th>Stage</th>\n",
       "    </tr>\n",
       "  </thead>\n",
       "  <tbody>\n",
       "    <tr>\n",
       "      <th>557</th>\n",
       "      <td>Gourmet Garden</td>\n",
       "      <td>2019.0</td>\n",
       "      <td>Bangalore</td>\n",
       "      <td>Farming</td>\n",
       "      <td>100% contamination free, pesticide free naturo...</td>\n",
       "      <td>Arjun Balaji</td>\n",
       "      <td>Beyond Next Ventures, M Venture Partners</td>\n",
       "      <td>$3000000</td>\n",
       "      <td>nan</td>\n",
       "    </tr>\n",
       "  </tbody>\n",
       "</table>\n",
       "</div>"
      ],
      "text/plain": [
       "      Company/Brand Founded HeadQuarter   Sector  \\\n",
       "557  Gourmet Garden  2019.0   Bangalore  Farming   \n",
       "\n",
       "                                          What it does      Founders  \\\n",
       "557  100% contamination free, pesticide free naturo...  Arjun Balaji   \n",
       "\n",
       "                                     Investor Amount($) Stage  \n",
       "557  Beyond Next Ventures, M Venture Partners  $3000000   nan  "
      ]
     },
     "execution_count": 116,
     "metadata": {},
     "output_type": "execute_result"
    }
   ],
   "source": [
    "start_ups_2021[distorted] = shifted\n",
    "start_ups_2021.iloc[row_indexes]"
   ]
  },
  {
   "cell_type": "code",
   "execution_count": 117,
   "metadata": {},
   "outputs": [
    {
     "data": {
      "text/html": [
       "<div>\n",
       "<style scoped>\n",
       "    .dataframe tbody tr th:only-of-type {\n",
       "        vertical-align: middle;\n",
       "    }\n",
       "\n",
       "    .dataframe tbody tr th {\n",
       "        vertical-align: top;\n",
       "    }\n",
       "\n",
       "    .dataframe thead th {\n",
       "        text-align: right;\n",
       "    }\n",
       "</style>\n",
       "<table border=\"1\" class=\"dataframe\">\n",
       "  <thead>\n",
       "    <tr style=\"text-align: right;\">\n",
       "      <th></th>\n",
       "      <th>Company/Brand</th>\n",
       "      <th>Founded</th>\n",
       "      <th>HeadQuarter</th>\n",
       "      <th>Sector</th>\n",
       "      <th>What it does</th>\n",
       "      <th>Founders</th>\n",
       "      <th>Investor</th>\n",
       "      <th>Amount($)</th>\n",
       "      <th>Stage</th>\n",
       "    </tr>\n",
       "  </thead>\n",
       "  <tbody>\n",
       "    <tr>\n",
       "      <th>545</th>\n",
       "      <td>AdmitKard</td>\n",
       "      <td>2016.0</td>\n",
       "      <td>Noida</td>\n",
       "      <td>EdTech</td>\n",
       "      <td>A tech solution for end to end career advisory...</td>\n",
       "      <td>Vamsi Krishna, Pulkit Jain, Gaurav Munjal</td>\n",
       "      <td>$1000000</td>\n",
       "      <td>Pre-series A</td>\n",
       "      <td>nan</td>\n",
       "    </tr>\n",
       "  </tbody>\n",
       "</table>\n",
       "</div>"
      ],
      "text/plain": [
       "    Company/Brand Founded HeadQuarter  Sector  \\\n",
       "545     AdmitKard  2016.0       Noida  EdTech   \n",
       "\n",
       "                                          What it does  \\\n",
       "545  A tech solution for end to end career advisory...   \n",
       "\n",
       "                                      Founders  Investor     Amount($) Stage  \n",
       "545  Vamsi Krishna, Pulkit Jain, Gaurav Munjal  $1000000  Pre-series A   nan  "
      ]
     },
     "execution_count": 117,
     "metadata": {},
     "output_type": "execute_result"
    }
   ],
   "source": [
    "distorted = (start_ups_2021['Amount($)'] == 'Pre-series A')\n",
    "shifted = start_ups_2021[distorted].copy()\n",
    "shifted"
   ]
  },
  {
   "cell_type": "code",
   "execution_count": 118,
   "metadata": {},
   "outputs": [
    {
     "data": {
      "text/plain": [
       "[545]"
      ]
     },
     "execution_count": 118,
     "metadata": {},
     "output_type": "execute_result"
    }
   ],
   "source": [
    "row_indexes = shifted.index.tolist()\n",
    "row_indexes"
   ]
  },
  {
   "cell_type": "code",
   "execution_count": 119,
   "metadata": {},
   "outputs": [
    {
     "data": {
      "text/html": [
       "<div>\n",
       "<style scoped>\n",
       "    .dataframe tbody tr th:only-of-type {\n",
       "        vertical-align: middle;\n",
       "    }\n",
       "\n",
       "    .dataframe tbody tr th {\n",
       "        vertical-align: top;\n",
       "    }\n",
       "\n",
       "    .dataframe thead th {\n",
       "        text-align: right;\n",
       "    }\n",
       "</style>\n",
       "<table border=\"1\" class=\"dataframe\">\n",
       "  <thead>\n",
       "    <tr style=\"text-align: right;\">\n",
       "      <th></th>\n",
       "      <th>Company/Brand</th>\n",
       "      <th>Founded</th>\n",
       "      <th>HeadQuarter</th>\n",
       "      <th>Sector</th>\n",
       "      <th>What it does</th>\n",
       "      <th>Founders</th>\n",
       "      <th>Investor</th>\n",
       "      <th>Amount($)</th>\n",
       "      <th>Stage</th>\n",
       "    </tr>\n",
       "  </thead>\n",
       "  <tbody>\n",
       "    <tr>\n",
       "      <th>545</th>\n",
       "      <td>AdmitKard</td>\n",
       "      <td>2016.0</td>\n",
       "      <td>Noida</td>\n",
       "      <td>EdTech</td>\n",
       "      <td>A tech solution for end to end career advisory...</td>\n",
       "      <td>Vamsi Krishna, Pulkit Jain, Gaurav Munjal</td>\n",
       "      <td>None</td>\n",
       "      <td>$1000000</td>\n",
       "      <td>Pre-series A</td>\n",
       "    </tr>\n",
       "  </tbody>\n",
       "</table>\n",
       "</div>"
      ],
      "text/plain": [
       "    Company/Brand Founded HeadQuarter  Sector  \\\n",
       "545     AdmitKard  2016.0       Noida  EdTech   \n",
       "\n",
       "                                          What it does  \\\n",
       "545  A tech solution for end to end career advisory...   \n",
       "\n",
       "                                      Founders Investor Amount($)  \\\n",
       "545  Vamsi Krishna, Pulkit Jain, Gaurav Munjal     None  $1000000   \n",
       "\n",
       "            Stage  \n",
       "545  Pre-series A  "
      ]
     },
     "execution_count": 119,
     "metadata": {},
     "output_type": "execute_result"
    }
   ],
   "source": [
    "# Get the column names to be shifted\n",
    "shift_columns = shifted.columns[6:9]  # Columns 7 to 8 (0-indexed)\n",
    "\n",
    "# Shift the values in the selected columns to the right by 1 position\n",
    "shifted.loc[:, shift_columns] = shifted.loc[:, shift_columns].shift(periods=1, axis=1)\n",
    "\n",
    "shifted"
   ]
  },
  {
   "cell_type": "code",
   "execution_count": 120,
   "metadata": {},
   "outputs": [
    {
     "data": {
      "text/html": [
       "<div>\n",
       "<style scoped>\n",
       "    .dataframe tbody tr th:only-of-type {\n",
       "        vertical-align: middle;\n",
       "    }\n",
       "\n",
       "    .dataframe tbody tr th {\n",
       "        vertical-align: top;\n",
       "    }\n",
       "\n",
       "    .dataframe thead th {\n",
       "        text-align: right;\n",
       "    }\n",
       "</style>\n",
       "<table border=\"1\" class=\"dataframe\">\n",
       "  <thead>\n",
       "    <tr style=\"text-align: right;\">\n",
       "      <th></th>\n",
       "      <th>Company/Brand</th>\n",
       "      <th>Founded</th>\n",
       "      <th>HeadQuarter</th>\n",
       "      <th>Sector</th>\n",
       "      <th>What it does</th>\n",
       "      <th>Founders</th>\n",
       "      <th>Investor</th>\n",
       "      <th>Amount($)</th>\n",
       "      <th>Stage</th>\n",
       "    </tr>\n",
       "  </thead>\n",
       "  <tbody>\n",
       "    <tr>\n",
       "      <th>564</th>\n",
       "      <td>WinZO</td>\n",
       "      <td>2018.0</td>\n",
       "      <td>New Delhi</td>\n",
       "      <td>Gaming</td>\n",
       "      <td>WinZO is the largest social gaming and enterta...</td>\n",
       "      <td>Paavan Nanda</td>\n",
       "      <td>Griffin Gaming Partners</td>\n",
       "      <td>$65000000</td>\n",
       "      <td>Series C</td>\n",
       "    </tr>\n",
       "  </tbody>\n",
       "</table>\n",
       "</div>"
      ],
      "text/plain": [
       "    Company/Brand Founded HeadQuarter  Sector  \\\n",
       "564         WinZO  2018.0   New Delhi  Gaming   \n",
       "\n",
       "                                          What it does      Founders  \\\n",
       "564  WinZO is the largest social gaming and enterta...  Paavan Nanda   \n",
       "\n",
       "                    Investor  Amount($)     Stage  \n",
       "564  Griffin Gaming Partners  $65000000  Series C  "
      ]
     },
     "execution_count": 120,
     "metadata": {},
     "output_type": "execute_result"
    }
   ],
   "source": [
    "start_ups_2021[distorted] = shifted\n",
    "start_ups_2021.iloc[row_indexes]"
   ]
  },
  {
   "cell_type": "code",
   "execution_count": 121,
   "metadata": {},
   "outputs": [
    {
     "data": {
      "text/html": [
       "<div>\n",
       "<style scoped>\n",
       "    .dataframe tbody tr th:only-of-type {\n",
       "        vertical-align: middle;\n",
       "    }\n",
       "\n",
       "    .dataframe tbody tr th {\n",
       "        vertical-align: top;\n",
       "    }\n",
       "\n",
       "    .dataframe thead th {\n",
       "        text-align: right;\n",
       "    }\n",
       "</style>\n",
       "<table border=\"1\" class=\"dataframe\">\n",
       "  <thead>\n",
       "    <tr style=\"text-align: right;\">\n",
       "      <th></th>\n",
       "      <th>Company/Brand</th>\n",
       "      <th>Founded</th>\n",
       "      <th>HeadQuarter</th>\n",
       "      <th>Sector</th>\n",
       "      <th>What it does</th>\n",
       "      <th>Founders</th>\n",
       "      <th>Investor</th>\n",
       "      <th>Amount($)</th>\n",
       "      <th>Stage</th>\n",
       "    </tr>\n",
       "  </thead>\n",
       "  <tbody>\n",
       "    <tr>\n",
       "      <th>551</th>\n",
       "      <td>BHyve</td>\n",
       "      <td>2020.0</td>\n",
       "      <td>Mumbai</td>\n",
       "      <td>Human Resources</td>\n",
       "      <td>A Future of Work Platform for diffusing Employ...</td>\n",
       "      <td>Backed by 100x.VC</td>\n",
       "      <td>Omkar Pandharkame, Ketaki Ogale</td>\n",
       "      <td>ITO Angel Network, LetsVenture</td>\n",
       "      <td>$300000</td>\n",
       "    </tr>\n",
       "  </tbody>\n",
       "</table>\n",
       "</div>"
      ],
      "text/plain": [
       "    Company/Brand Founded HeadQuarter           Sector  \\\n",
       "551         BHyve  2020.0      Mumbai  Human Resources   \n",
       "\n",
       "                                          What it does           Founders  \\\n",
       "551  A Future of Work Platform for diffusing Employ...  Backed by 100x.VC   \n",
       "\n",
       "                            Investor                       Amount($)    Stage  \n",
       "551  Omkar Pandharkame, Ketaki Ogale  ITO Angel Network, LetsVenture  $300000  "
      ]
     },
     "execution_count": 121,
     "metadata": {},
     "output_type": "execute_result"
    }
   ],
   "source": [
    "distorted = (start_ups_2021['Amount($)'] == 'ITO Angel Network, LetsVenture')\n",
    "shifted = start_ups_2021[distorted].copy()\n",
    "shifted"
   ]
  },
  {
   "cell_type": "code",
   "execution_count": 122,
   "metadata": {},
   "outputs": [
    {
     "data": {
      "text/plain": [
       "[551]"
      ]
     },
     "execution_count": 122,
     "metadata": {},
     "output_type": "execute_result"
    }
   ],
   "source": [
    "row_indexes = shifted.index.tolist()\n",
    "row_indexes"
   ]
  },
  {
   "cell_type": "code",
   "execution_count": 123,
   "metadata": {},
   "outputs": [
    {
     "data": {
      "text/html": [
       "<div>\n",
       "<style scoped>\n",
       "    .dataframe tbody tr th:only-of-type {\n",
       "        vertical-align: middle;\n",
       "    }\n",
       "\n",
       "    .dataframe tbody tr th {\n",
       "        vertical-align: top;\n",
       "    }\n",
       "\n",
       "    .dataframe thead th {\n",
       "        text-align: right;\n",
       "    }\n",
       "</style>\n",
       "<table border=\"1\" class=\"dataframe\">\n",
       "  <thead>\n",
       "    <tr style=\"text-align: right;\">\n",
       "      <th></th>\n",
       "      <th>Company/Brand</th>\n",
       "      <th>Founded</th>\n",
       "      <th>HeadQuarter</th>\n",
       "      <th>Sector</th>\n",
       "      <th>What it does</th>\n",
       "      <th>Founders</th>\n",
       "      <th>Investor</th>\n",
       "      <th>Amount($)</th>\n",
       "      <th>Stage</th>\n",
       "    </tr>\n",
       "  </thead>\n",
       "  <tbody>\n",
       "    <tr>\n",
       "      <th>551</th>\n",
       "      <td>BHyve</td>\n",
       "      <td>2020.0</td>\n",
       "      <td>Mumbai</td>\n",
       "      <td>Human Resources</td>\n",
       "      <td>A Future of Work Platform for diffusing Employ...</td>\n",
       "      <td>Omkar Pandharkame, Ketaki Ogale</td>\n",
       "      <td>ITO Angel Network, LetsVenture</td>\n",
       "      <td>$300000</td>\n",
       "      <td>None</td>\n",
       "    </tr>\n",
       "  </tbody>\n",
       "</table>\n",
       "</div>"
      ],
      "text/plain": [
       "    Company/Brand Founded HeadQuarter           Sector  \\\n",
       "551         BHyve  2020.0      Mumbai  Human Resources   \n",
       "\n",
       "                                          What it does  \\\n",
       "551  A Future of Work Platform for diffusing Employ...   \n",
       "\n",
       "                            Founders                        Investor  \\\n",
       "551  Omkar Pandharkame, Ketaki Ogale  ITO Angel Network, LetsVenture   \n",
       "\n",
       "    Amount($) Stage  \n",
       "551   $300000  None  "
      ]
     },
     "execution_count": 123,
     "metadata": {},
     "output_type": "execute_result"
    }
   ],
   "source": [
    "# Get the column names to be shifted\n",
    "shift_columns = shifted.columns[5:9]  # Columns 6 to 8 (0-indexed)\n",
    "\n",
    "# Shift the values in the selected columns to the left by 1 position\n",
    "shifted.loc[:, shift_columns] = shifted.loc[:, shift_columns].shift(periods=-1, axis=1)\n",
    "\n",
    "shifted"
   ]
  },
  {
   "cell_type": "code",
   "execution_count": 124,
   "metadata": {},
   "outputs": [
    {
     "data": {
      "text/html": [
       "<div>\n",
       "<style scoped>\n",
       "    .dataframe tbody tr th:only-of-type {\n",
       "        vertical-align: middle;\n",
       "    }\n",
       "\n",
       "    .dataframe tbody tr th {\n",
       "        vertical-align: top;\n",
       "    }\n",
       "\n",
       "    .dataframe thead th {\n",
       "        text-align: right;\n",
       "    }\n",
       "</style>\n",
       "<table border=\"1\" class=\"dataframe\">\n",
       "  <thead>\n",
       "    <tr style=\"text-align: right;\">\n",
       "      <th></th>\n",
       "      <th>Company/Brand</th>\n",
       "      <th>Founded</th>\n",
       "      <th>HeadQuarter</th>\n",
       "      <th>Sector</th>\n",
       "      <th>What it does</th>\n",
       "      <th>Founders</th>\n",
       "      <th>Investor</th>\n",
       "      <th>Amount($)</th>\n",
       "      <th>Stage</th>\n",
       "    </tr>\n",
       "  </thead>\n",
       "  <tbody>\n",
       "    <tr>\n",
       "      <th>570</th>\n",
       "      <td>PeakPerformer</td>\n",
       "      <td>2020.0</td>\n",
       "      <td>Bangalore</td>\n",
       "      <td>EdTech</td>\n",
       "      <td>A goal-oriented, outcome-driven platform to ma...</td>\n",
       "      <td>Aishwarya Goel, Gaurav Jhunjhnuwala</td>\n",
       "      <td>Antler India</td>\n",
       "      <td>$undisclosed</td>\n",
       "      <td>Early seed</td>\n",
       "    </tr>\n",
       "  </tbody>\n",
       "</table>\n",
       "</div>"
      ],
      "text/plain": [
       "     Company/Brand Founded HeadQuarter  Sector  \\\n",
       "570  PeakPerformer  2020.0   Bangalore  EdTech   \n",
       "\n",
       "                                          What it does  \\\n",
       "570  A goal-oriented, outcome-driven platform to ma...   \n",
       "\n",
       "                                Founders      Investor     Amount($)  \\\n",
       "570  Aishwarya Goel, Gaurav Jhunjhnuwala  Antler India  $undisclosed   \n",
       "\n",
       "          Stage  \n",
       "570  Early seed  "
      ]
     },
     "execution_count": 124,
     "metadata": {},
     "output_type": "execute_result"
    }
   ],
   "source": [
    "start_ups_2021[distorted] = shifted\n",
    "start_ups_2021.iloc[row_indexes]"
   ]
  },
  {
   "cell_type": "code",
   "execution_count": 125,
   "metadata": {},
   "outputs": [
    {
     "data": {
      "text/html": [
       "<div>\n",
       "<style scoped>\n",
       "    .dataframe tbody tr th:only-of-type {\n",
       "        vertical-align: middle;\n",
       "    }\n",
       "\n",
       "    .dataframe tbody tr th {\n",
       "        vertical-align: top;\n",
       "    }\n",
       "\n",
       "    .dataframe thead th {\n",
       "        text-align: right;\n",
       "    }\n",
       "</style>\n",
       "<table border=\"1\" class=\"dataframe\">\n",
       "  <thead>\n",
       "    <tr style=\"text-align: right;\">\n",
       "      <th></th>\n",
       "      <th>Company/Brand</th>\n",
       "      <th>Founded</th>\n",
       "      <th>HeadQuarter</th>\n",
       "      <th>Sector</th>\n",
       "      <th>What it does</th>\n",
       "      <th>Founders</th>\n",
       "      <th>Investor</th>\n",
       "      <th>Amount($)</th>\n",
       "      <th>Stage</th>\n",
       "    </tr>\n",
       "  </thead>\n",
       "  <tbody>\n",
       "    <tr>\n",
       "      <th>677</th>\n",
       "      <td>Saarthi Pedagogy</td>\n",
       "      <td>2015.0</td>\n",
       "      <td>Ahmadabad</td>\n",
       "      <td>EdTech</td>\n",
       "      <td>India's fastest growing Pedagogy company, serv...</td>\n",
       "      <td>Pedagogy</td>\n",
       "      <td>Sushil Agarwal</td>\n",
       "      <td>JITO Angel Network, LetsVenture</td>\n",
       "      <td>$1000000</td>\n",
       "    </tr>\n",
       "  </tbody>\n",
       "</table>\n",
       "</div>"
      ],
      "text/plain": [
       "        Company/Brand Founded HeadQuarter  Sector  \\\n",
       "677  Saarthi Pedagogy  2015.0   Ahmadabad  EdTech   \n",
       "\n",
       "                                          What it does  Founders  \\\n",
       "677  India's fastest growing Pedagogy company, serv...  Pedagogy   \n",
       "\n",
       "           Investor                        Amount($)     Stage  \n",
       "677  Sushil Agarwal  JITO Angel Network, LetsVenture  $1000000  "
      ]
     },
     "execution_count": 125,
     "metadata": {},
     "output_type": "execute_result"
    }
   ],
   "source": [
    "distorted = (start_ups_2021['Amount($)'] == 'JITO Angel Network, LetsVenture')\n",
    "shifted = start_ups_2021[distorted].copy()\n",
    "shifted"
   ]
  },
  {
   "cell_type": "code",
   "execution_count": 126,
   "metadata": {},
   "outputs": [
    {
     "data": {
      "text/plain": [
       "[677]"
      ]
     },
     "execution_count": 126,
     "metadata": {},
     "output_type": "execute_result"
    }
   ],
   "source": [
    "row_indexes = shifted.index.tolist()\n",
    "row_indexes"
   ]
  },
  {
   "cell_type": "code",
   "execution_count": 127,
   "metadata": {},
   "outputs": [
    {
     "data": {
      "text/html": [
       "<div>\n",
       "<style scoped>\n",
       "    .dataframe tbody tr th:only-of-type {\n",
       "        vertical-align: middle;\n",
       "    }\n",
       "\n",
       "    .dataframe tbody tr th {\n",
       "        vertical-align: top;\n",
       "    }\n",
       "\n",
       "    .dataframe thead th {\n",
       "        text-align: right;\n",
       "    }\n",
       "</style>\n",
       "<table border=\"1\" class=\"dataframe\">\n",
       "  <thead>\n",
       "    <tr style=\"text-align: right;\">\n",
       "      <th></th>\n",
       "      <th>Company/Brand</th>\n",
       "      <th>Founded</th>\n",
       "      <th>HeadQuarter</th>\n",
       "      <th>Sector</th>\n",
       "      <th>What it does</th>\n",
       "      <th>Founders</th>\n",
       "      <th>Investor</th>\n",
       "      <th>Amount($)</th>\n",
       "      <th>Stage</th>\n",
       "    </tr>\n",
       "  </thead>\n",
       "  <tbody>\n",
       "    <tr>\n",
       "      <th>677</th>\n",
       "      <td>Saarthi Pedagogy</td>\n",
       "      <td>2015.0</td>\n",
       "      <td>Ahmadabad</td>\n",
       "      <td>EdTech</td>\n",
       "      <td>India's fastest growing Pedagogy company, serv...</td>\n",
       "      <td>Sushil Agarwal</td>\n",
       "      <td>JITO Angel Network, LetsVenture</td>\n",
       "      <td>$1000000</td>\n",
       "      <td>None</td>\n",
       "    </tr>\n",
       "  </tbody>\n",
       "</table>\n",
       "</div>"
      ],
      "text/plain": [
       "        Company/Brand Founded HeadQuarter  Sector  \\\n",
       "677  Saarthi Pedagogy  2015.0   Ahmadabad  EdTech   \n",
       "\n",
       "                                          What it does        Founders  \\\n",
       "677  India's fastest growing Pedagogy company, serv...  Sushil Agarwal   \n",
       "\n",
       "                            Investor Amount($) Stage  \n",
       "677  JITO Angel Network, LetsVenture  $1000000  None  "
      ]
     },
     "execution_count": 127,
     "metadata": {},
     "output_type": "execute_result"
    }
   ],
   "source": [
    "# Get the column names to be shifted\n",
    "shift_columns = shifted.columns[5:9]  # Columns 6 to 8 (0-indexed)\n",
    "\n",
    "# Shift the values in the selected columns to the left by 1 position\n",
    "shifted.loc[:, shift_columns] = shifted.loc[:, shift_columns].shift(periods=-1, axis=1)\n",
    "\n",
    "shifted"
   ]
  },
  {
   "cell_type": "code",
   "execution_count": 128,
   "metadata": {},
   "outputs": [
    {
     "data": {
      "text/html": [
       "<div>\n",
       "<style scoped>\n",
       "    .dataframe tbody tr th:only-of-type {\n",
       "        vertical-align: middle;\n",
       "    }\n",
       "\n",
       "    .dataframe tbody tr th {\n",
       "        vertical-align: top;\n",
       "    }\n",
       "\n",
       "    .dataframe thead th {\n",
       "        text-align: right;\n",
       "    }\n",
       "</style>\n",
       "<table border=\"1\" class=\"dataframe\">\n",
       "  <thead>\n",
       "    <tr style=\"text-align: right;\">\n",
       "      <th></th>\n",
       "      <th>Company/Brand</th>\n",
       "      <th>Founded</th>\n",
       "      <th>HeadQuarter</th>\n",
       "      <th>Sector</th>\n",
       "      <th>What it does</th>\n",
       "      <th>Founders</th>\n",
       "      <th>Investor</th>\n",
       "      <th>Amount($)</th>\n",
       "      <th>Stage</th>\n",
       "    </tr>\n",
       "  </thead>\n",
       "  <tbody>\n",
       "    <tr>\n",
       "      <th>696</th>\n",
       "      <td>Humit</td>\n",
       "      <td>2020.0</td>\n",
       "      <td>Bangalore</td>\n",
       "      <td>Music</td>\n",
       "      <td>Humit is a social networking app for music sha...</td>\n",
       "      <td>Rohit Ganapathy, Prithvi Sankar, Ishaan Negi</td>\n",
       "      <td>Antler India</td>\n",
       "      <td>$Undisclosed</td>\n",
       "      <td>Pre-seed</td>\n",
       "    </tr>\n",
       "  </tbody>\n",
       "</table>\n",
       "</div>"
      ],
      "text/plain": [
       "    Company/Brand Founded HeadQuarter Sector  \\\n",
       "696         Humit  2020.0   Bangalore  Music   \n",
       "\n",
       "                                          What it does  \\\n",
       "696  Humit is a social networking app for music sha...   \n",
       "\n",
       "                                         Founders      Investor     Amount($)  \\\n",
       "696  Rohit Ganapathy, Prithvi Sankar, Ishaan Negi  Antler India  $Undisclosed   \n",
       "\n",
       "        Stage  \n",
       "696  Pre-seed  "
      ]
     },
     "execution_count": 128,
     "metadata": {},
     "output_type": "execute_result"
    }
   ],
   "source": [
    "start_ups_2021[distorted] = shifted\n",
    "start_ups_2021.iloc[row_indexes]"
   ]
  },
  {
   "cell_type": "code",
   "execution_count": 129,
   "metadata": {},
   "outputs": [
    {
     "data": {
      "text/plain": [
       "0"
      ]
     },
     "execution_count": 129,
     "metadata": {},
     "output_type": "execute_result"
    }
   ],
   "source": [
    "rupee_filter = start_ups_2021['Amount($)'].str.contains('₹')\n",
    "rupee_filter.sum()"
   ]
  },
  {
   "cell_type": "code",
   "execution_count": 130,
   "metadata": {},
   "outputs": [
    {
     "data": {
      "text/plain": [
       "0        1200000.00\n",
       "1      120000000.00\n",
       "2       30000000.00\n",
       "3       51000000.00\n",
       "4        2000000.00\n",
       "           ...     \n",
       "1204     3000000.00\n",
       "1205    20000000.00\n",
       "1206    55000000.00\n",
       "1207    26000000.00\n",
       "1208     8000000.00\n",
       "Name: Amount($), Length: 1190, dtype: float64"
      ]
     },
     "execution_count": 130,
     "metadata": {},
     "output_type": "execute_result"
    }
   ],
   "source": [
    "start_ups_2021['Amount($)'] = start_ups_2021['Amount($)'].apply(lambda x : str(x).replace('$', '').replace(',', ''))\n",
    "start_ups_2021['Amount($)'] = start_ups_2021['Amount($)'].apply(lambda x : str(x).replace('Undisclosed', str(np.nan)).replace('undisclosed', str(np.nan)))\n",
    "start_ups_2021['Amount($)'].replace('', 0, inplace = True, regex = True)\n",
    "\n",
    "start_ups_2021['Amount($)'] = start_ups_2021['Amount($)'].astype(float)\n",
    "start_ups_2021['Amount($)']"
   ]
  },
  {
   "cell_type": "code",
   "execution_count": 131,
   "metadata": {},
   "outputs": [
    {
     "data": {
      "text/plain": [
       "Company/Brand     object\n",
       "Founded           object\n",
       "HeadQuarter       object\n",
       "Sector            object\n",
       "What it does      object\n",
       "Founders          object\n",
       "Investor          object\n",
       "Amount($)        float64\n",
       "Stage             object\n",
       "dtype: object"
      ]
     },
     "execution_count": 131,
     "metadata": {},
     "output_type": "execute_result"
    }
   ],
   "source": [
    "start_ups_2021.dtypes"
   ]
  },
  {
   "cell_type": "code",
   "execution_count": 132,
   "metadata": {},
   "outputs": [
    {
     "data": {
      "text/html": [
       "<div>\n",
       "<style scoped>\n",
       "    .dataframe tbody tr th:only-of-type {\n",
       "        vertical-align: middle;\n",
       "    }\n",
       "\n",
       "    .dataframe tbody tr th {\n",
       "        vertical-align: top;\n",
       "    }\n",
       "\n",
       "    .dataframe thead th {\n",
       "        text-align: right;\n",
       "    }\n",
       "</style>\n",
       "<table border=\"1\" class=\"dataframe\">\n",
       "  <thead>\n",
       "    <tr style=\"text-align: right;\">\n",
       "      <th></th>\n",
       "      <th>Amount($)</th>\n",
       "    </tr>\n",
       "  </thead>\n",
       "  <tbody>\n",
       "    <tr>\n",
       "      <th>count</th>\n",
       "      <td>1050.00</td>\n",
       "    </tr>\n",
       "    <tr>\n",
       "      <th>mean</th>\n",
       "      <td>171050024.76</td>\n",
       "    </tr>\n",
       "    <tr>\n",
       "      <th>std</th>\n",
       "      <td>4628940009.86</td>\n",
       "    </tr>\n",
       "    <tr>\n",
       "      <th>min</th>\n",
       "      <td>0.00</td>\n",
       "    </tr>\n",
       "    <tr>\n",
       "      <th>25%</th>\n",
       "      <td>1000000.00</td>\n",
       "    </tr>\n",
       "    <tr>\n",
       "      <th>50%</th>\n",
       "      <td>3500000.00</td>\n",
       "    </tr>\n",
       "    <tr>\n",
       "      <th>75%</th>\n",
       "      <td>15000000.00</td>\n",
       "    </tr>\n",
       "    <tr>\n",
       "      <th>max</th>\n",
       "      <td>150000000000.00</td>\n",
       "    </tr>\n",
       "  </tbody>\n",
       "</table>\n",
       "</div>"
      ],
      "text/plain": [
       "            Amount($)\n",
       "count         1050.00\n",
       "mean     171050024.76\n",
       "std     4628940009.86\n",
       "min              0.00\n",
       "25%        1000000.00\n",
       "50%        3500000.00\n",
       "75%       15000000.00\n",
       "max   150000000000.00"
      ]
     },
     "execution_count": 132,
     "metadata": {},
     "output_type": "execute_result"
    }
   ],
   "source": [
    "start_ups_2021.describe()"
   ]
  },
  {
   "cell_type": "code",
   "execution_count": 133,
   "metadata": {},
   "outputs": [],
   "source": [
    "result = convert_nan_variations(start_ups_2021)"
   ]
  },
  {
   "cell_type": "code",
   "execution_count": 134,
   "metadata": {},
   "outputs": [
    {
     "name": "stdout",
     "output_type": "stream",
     "text": [
      "The number of occurrences for each column is:\n"
     ]
    },
    {
     "data": {
      "text/plain": [
       "Company/Brand      0\n",
       "Founded            1\n",
       "HeadQuarter        1\n",
       "Sector             0\n",
       "What it does       0\n",
       "Founders           4\n",
       "Investor          61\n",
       "Amount($)          0\n",
       "Stage            417\n",
       "Name: nan_count, dtype: int32"
      ]
     },
     "execution_count": 134,
     "metadata": {},
     "output_type": "execute_result"
    }
   ],
   "source": [
    "# Display the count of occurrences for each column\n",
    "print('The number of occurrences for each column is:')\n",
    "result[0]"
   ]
  },
  {
   "cell_type": "code",
   "execution_count": 135,
   "metadata": {},
   "outputs": [
    {
     "name": "stdout",
     "output_type": "stream",
     "text": [
      "The number of missing values in each column is:\n"
     ]
    },
    {
     "data": {
      "text/plain": [
       "Company/Brand      0\n",
       "Founded            1\n",
       "HeadQuarter        4\n",
       "Sector             1\n",
       "What it does       0\n",
       "Founders           4\n",
       "Investor          63\n",
       "Amount($)        140\n",
       "Stage            421\n",
       "dtype: int64"
      ]
     },
     "execution_count": 135,
     "metadata": {},
     "output_type": "execute_result"
    }
   ],
   "source": [
    "# Display the sum of missing values in each column\n",
    "print('The number of missing values in each column is:')\n",
    "result[1]"
   ]
  },
  {
   "cell_type": "code",
   "execution_count": 136,
   "metadata": {},
   "outputs": [
    {
     "data": {
      "text/html": [
       "<div>\n",
       "<style scoped>\n",
       "    .dataframe tbody tr th:only-of-type {\n",
       "        vertical-align: middle;\n",
       "    }\n",
       "\n",
       "    .dataframe tbody tr th {\n",
       "        vertical-align: top;\n",
       "    }\n",
       "\n",
       "    .dataframe thead th {\n",
       "        text-align: right;\n",
       "    }\n",
       "</style>\n",
       "<table border=\"1\" class=\"dataframe\">\n",
       "  <thead>\n",
       "    <tr style=\"text-align: right;\">\n",
       "      <th></th>\n",
       "      <th>Company/Brand</th>\n",
       "      <th>Founded</th>\n",
       "      <th>HeadQuarter</th>\n",
       "      <th>Sector</th>\n",
       "      <th>What it does</th>\n",
       "      <th>Founders</th>\n",
       "      <th>Investor</th>\n",
       "      <th>Amount($)</th>\n",
       "      <th>Stage</th>\n",
       "    </tr>\n",
       "  </thead>\n",
       "  <tbody>\n",
       "    <tr>\n",
       "      <th>0</th>\n",
       "      <td>Unbox Robotics</td>\n",
       "      <td>2019.0</td>\n",
       "      <td>Bangalore</td>\n",
       "      <td>AI startup</td>\n",
       "      <td>Unbox Robotics builds on-demand AI-driven ware...</td>\n",
       "      <td>Pramod Ghadge, Shahid Memon</td>\n",
       "      <td>BEENEXT, Entrepreneur First</td>\n",
       "      <td>1200000.00</td>\n",
       "      <td>Pre-series A</td>\n",
       "    </tr>\n",
       "    <tr>\n",
       "      <th>1</th>\n",
       "      <td>upGrad</td>\n",
       "      <td>2015.0</td>\n",
       "      <td>Mumbai</td>\n",
       "      <td>EdTech</td>\n",
       "      <td>UpGrad is an online higher education platform.</td>\n",
       "      <td>Mayank Kumar, Phalgun Kompalli, Ravijot Chugh,...</td>\n",
       "      <td>Unilazer Ventures, IIFL Asset Management</td>\n",
       "      <td>120000000.00</td>\n",
       "      <td>NaN</td>\n",
       "    </tr>\n",
       "    <tr>\n",
       "      <th>2</th>\n",
       "      <td>Lead School</td>\n",
       "      <td>2012.0</td>\n",
       "      <td>Mumbai</td>\n",
       "      <td>EdTech</td>\n",
       "      <td>LEAD School offers technology based school tra...</td>\n",
       "      <td>Smita Deorah, Sumeet Mehta</td>\n",
       "      <td>GSV Ventures, Westbridge Capital</td>\n",
       "      <td>30000000.00</td>\n",
       "      <td>Series D</td>\n",
       "    </tr>\n",
       "    <tr>\n",
       "      <th>3</th>\n",
       "      <td>Bizongo</td>\n",
       "      <td>2015.0</td>\n",
       "      <td>Mumbai</td>\n",
       "      <td>B2B E-commerce</td>\n",
       "      <td>Bizongo is a business-to-business online marke...</td>\n",
       "      <td>Aniket Deb, Ankit Tomar, Sachin Agrawal</td>\n",
       "      <td>CDC Group, IDG Capital</td>\n",
       "      <td>51000000.00</td>\n",
       "      <td>Series C</td>\n",
       "    </tr>\n",
       "    <tr>\n",
       "      <th>4</th>\n",
       "      <td>FypMoney</td>\n",
       "      <td>2021.0</td>\n",
       "      <td>Gurugram</td>\n",
       "      <td>FinTech</td>\n",
       "      <td>FypMoney is Digital NEO Bank for Teenagers, em...</td>\n",
       "      <td>Kapil Banwari</td>\n",
       "      <td>Liberatha Kallat, Mukesh Yadav, Dinesh Nagpal</td>\n",
       "      <td>2000000.00</td>\n",
       "      <td>Seed</td>\n",
       "    </tr>\n",
       "  </tbody>\n",
       "</table>\n",
       "</div>"
      ],
      "text/plain": [
       "    Company/Brand Founded HeadQuarter          Sector  \\\n",
       "0  Unbox Robotics  2019.0   Bangalore      AI startup   \n",
       "1          upGrad  2015.0      Mumbai          EdTech   \n",
       "2     Lead School  2012.0      Mumbai          EdTech   \n",
       "3         Bizongo  2015.0      Mumbai  B2B E-commerce   \n",
       "4        FypMoney  2021.0    Gurugram         FinTech   \n",
       "\n",
       "                                        What it does  \\\n",
       "0  Unbox Robotics builds on-demand AI-driven ware...   \n",
       "1     UpGrad is an online higher education platform.   \n",
       "2  LEAD School offers technology based school tra...   \n",
       "3  Bizongo is a business-to-business online marke...   \n",
       "4  FypMoney is Digital NEO Bank for Teenagers, em...   \n",
       "\n",
       "                                            Founders  \\\n",
       "0                        Pramod Ghadge, Shahid Memon   \n",
       "1  Mayank Kumar, Phalgun Kompalli, Ravijot Chugh,...   \n",
       "2                         Smita Deorah, Sumeet Mehta   \n",
       "3            Aniket Deb, Ankit Tomar, Sachin Agrawal   \n",
       "4                                      Kapil Banwari   \n",
       "\n",
       "                                        Investor    Amount($)         Stage  \n",
       "0                    BEENEXT, Entrepreneur First   1200000.00  Pre-series A  \n",
       "1       Unilazer Ventures, IIFL Asset Management 120000000.00           NaN  \n",
       "2               GSV Ventures, Westbridge Capital  30000000.00      Series D  \n",
       "3                         CDC Group, IDG Capital  51000000.00      Series C  \n",
       "4  Liberatha Kallat, Mukesh Yadav, Dinesh Nagpal   2000000.00          Seed  "
      ]
     },
     "execution_count": 136,
     "metadata": {},
     "output_type": "execute_result"
    }
   ],
   "source": [
    "replace_na_with_unknown(start_ups_2021)"
   ]
  },
  {
   "attachments": {},
   "cell_type": "markdown",
   "metadata": {},
   "source": [
    "To ensure that the missing values in the Founded column are correctly handled by the numerical imputer, I will need to convert the column to a numerical data type (float) before performing the imputation."
   ]
  },
  {
   "cell_type": "code",
   "execution_count": 137,
   "metadata": {},
   "outputs": [],
   "source": [
    "start_ups_2021['Founded'] = start_ups_2021['Founded'].astype(float)"
   ]
  },
  {
   "cell_type": "code",
   "execution_count": 138,
   "metadata": {},
   "outputs": [
    {
     "data": {
      "text/plain": [
       "Company/Brand      0\n",
       "Founded            1\n",
       "HeadQuarter        0\n",
       "Sector             1\n",
       "What it does       0\n",
       "Founders           0\n",
       "Investor           0\n",
       "Amount($)        140\n",
       "Stage            421\n",
       "dtype: int64"
      ]
     },
     "execution_count": 138,
     "metadata": {},
     "output_type": "execute_result"
    }
   ],
   "source": [
    "start_ups_2021.isna().sum()"
   ]
  },
  {
   "cell_type": "code",
   "execution_count": 139,
   "metadata": {},
   "outputs": [
    {
     "data": {
      "text/plain": [
       "Company/Brand    0\n",
       "Founded          0\n",
       "HeadQuarter      0\n",
       "Sector           0\n",
       "What it does     0\n",
       "Founders         0\n",
       "Investor         0\n",
       "Amount($)        0\n",
       "Stage            0\n",
       "dtype: int64"
      ]
     },
     "execution_count": 139,
     "metadata": {},
     "output_type": "execute_result"
    }
   ],
   "source": [
    "impute_na(start_ups_2021)"
   ]
  },
  {
   "cell_type": "code",
   "execution_count": 140,
   "metadata": {},
   "outputs": [],
   "source": [
    "result = alter_multiple_entries(start_ups_2021)"
   ]
  },
  {
   "cell_type": "code",
   "execution_count": 141,
   "metadata": {},
   "outputs": [
    {
     "data": {
      "text/plain": [
       "0                  Ai startup\n",
       "1                      Edtech\n",
       "2                      Edtech\n",
       "3              B2b e-commerce\n",
       "4                     Fintech\n",
       "                ...          \n",
       "1204    Staffing & recruiting\n",
       "1205         Food & beverages\n",
       "1206       Financial services\n",
       "1207                   Edtech\n",
       "1208       Financial services\n",
       "Name: Sector, Length: 1190, dtype: object"
      ]
     },
     "execution_count": 141,
     "metadata": {},
     "output_type": "execute_result"
    }
   ],
   "source": [
    "# Display the new sector column\n",
    "result[0]"
   ]
  },
  {
   "cell_type": "code",
   "execution_count": 142,
   "metadata": {},
   "outputs": [
    {
     "data": {
      "text/plain": [
       "0       Bengaluru\n",
       "1          Mumbai\n",
       "2          Mumbai\n",
       "3          Mumbai\n",
       "4        Gurugram\n",
       "          ...    \n",
       "1204     Gurugram\n",
       "1205        Delhi\n",
       "1206    Bengaluru\n",
       "1207     Gurugram\n",
       "1208    Bengaluru\n",
       "Name: HeadQuarter, Length: 1190, dtype: object"
      ]
     },
     "execution_count": 142,
     "metadata": {},
     "output_type": "execute_result"
    }
   ],
   "source": [
    "# Display the new HeadQuarter column\n",
    "result[1]"
   ]
  },
  {
   "cell_type": "code",
   "execution_count": 143,
   "metadata": {},
   "outputs": [],
   "source": [
    "# Convert the 'Founded' column to datetime object\n",
    "start_ups_2021['Founded'] = pd.to_datetime(start_ups_2021['Founded'], format='%Y')\n",
    "\n",
    "# Extract only the years from the 'Founded' column\n",
    "start_ups_2021['Founded'] = start_ups_2021['Founded'].dt.year"
   ]
  },
  {
   "cell_type": "code",
   "execution_count": 144,
   "metadata": {},
   "outputs": [
    {
     "data": {
      "text/html": [
       "<div>\n",
       "<style scoped>\n",
       "    .dataframe tbody tr th:only-of-type {\n",
       "        vertical-align: middle;\n",
       "    }\n",
       "\n",
       "    .dataframe tbody tr th {\n",
       "        vertical-align: top;\n",
       "    }\n",
       "\n",
       "    .dataframe thead th {\n",
       "        text-align: right;\n",
       "    }\n",
       "</style>\n",
       "<table border=\"1\" class=\"dataframe\">\n",
       "  <thead>\n",
       "    <tr style=\"text-align: right;\">\n",
       "      <th></th>\n",
       "      <th>Company/Brand</th>\n",
       "      <th>Founded</th>\n",
       "      <th>HeadQuarter</th>\n",
       "      <th>Sector</th>\n",
       "      <th>What it does</th>\n",
       "      <th>Founders</th>\n",
       "      <th>Investor</th>\n",
       "      <th>Amount($)</th>\n",
       "      <th>Stage</th>\n",
       "    </tr>\n",
       "  </thead>\n",
       "  <tbody>\n",
       "    <tr>\n",
       "      <th>163</th>\n",
       "      <td>1K Kirana Bazaar</td>\n",
       "      <td>2018</td>\n",
       "      <td>Gurugram</td>\n",
       "      <td>Retail</td>\n",
       "      <td>India's First and Largest Network of Small-Tow...</td>\n",
       "      <td>Abhishek Halder, Anilesh Yadav, Kumar Sangeetesh</td>\n",
       "      <td>Info Edge, FalconEdge</td>\n",
       "      <td>7000000.00</td>\n",
       "      <td>Seed</td>\n",
       "    </tr>\n",
       "    <tr>\n",
       "      <th>1030</th>\n",
       "      <td>The Indus Valley</td>\n",
       "      <td>2016</td>\n",
       "      <td>Chennai</td>\n",
       "      <td>Consumer goods</td>\n",
       "      <td>Consumer GoodsThe Indus Valley is a Direct to ...</td>\n",
       "      <td>Jagadeesh Kumar, Madhumitha Udaykumar</td>\n",
       "      <td>Rukam Capital, DSG Consumer Partners, The Chen...</td>\n",
       "      <td>1100000.00</td>\n",
       "      <td>Seed</td>\n",
       "    </tr>\n",
       "    <tr>\n",
       "      <th>766</th>\n",
       "      <td>Wysa</td>\n",
       "      <td>2015</td>\n",
       "      <td>Bengaluru</td>\n",
       "      <td>Ai startup</td>\n",
       "      <td>Wysa is an AI conversational agent that has be...</td>\n",
       "      <td>Jo Aggarwal, Ramakant Vempati</td>\n",
       "      <td>Kae Capital, Pi Ventures</td>\n",
       "      <td>171050024.76</td>\n",
       "      <td>Seed</td>\n",
       "    </tr>\n",
       "    <tr>\n",
       "      <th>126</th>\n",
       "      <td>Syook</td>\n",
       "      <td>2016</td>\n",
       "      <td>Bengaluru</td>\n",
       "      <td>Industrial automation</td>\n",
       "      <td>Syook is building the next generation enterpri...</td>\n",
       "      <td>Saurabh Sharma, Aman Agarwal, Arjun Nagarajan</td>\n",
       "      <td>Inflection Point Ventures, ONGC</td>\n",
       "      <td>1000000.00</td>\n",
       "      <td>Series A</td>\n",
       "    </tr>\n",
       "    <tr>\n",
       "      <th>375</th>\n",
       "      <td>Origo</td>\n",
       "      <td>2010</td>\n",
       "      <td>Gurugram</td>\n",
       "      <td>Agritech</td>\n",
       "      <td>Origo Commodities, a complete post-harvest man...</td>\n",
       "      <td>Sunoor Kaul, Mayank Dhanuka</td>\n",
       "      <td>YES Bank</td>\n",
       "      <td>10000000.00</td>\n",
       "      <td>Debt</td>\n",
       "    </tr>\n",
       "    <tr>\n",
       "      <th>306</th>\n",
       "      <td>Neobank Jupiter</td>\n",
       "      <td>2019</td>\n",
       "      <td>Mumbai</td>\n",
       "      <td>Banking</td>\n",
       "      <td>Jupiter is a digital banking app with one simp...</td>\n",
       "      <td>Jitendra Gupta</td>\n",
       "      <td>Tiger Global, Sequoia Capital</td>\n",
       "      <td>86000000.00</td>\n",
       "      <td>Series C</td>\n",
       "    </tr>\n",
       "    <tr>\n",
       "      <th>460</th>\n",
       "      <td>3SC</td>\n",
       "      <td>2018</td>\n",
       "      <td>Gurugram</td>\n",
       "      <td>Logistics</td>\n",
       "      <td>An end-to-end supply chain analytics company t...</td>\n",
       "      <td>Lalit, Sarita Das</td>\n",
       "      <td>GEF Capital’s South Asia Fund</td>\n",
       "      <td>15000000.00</td>\n",
       "      <td>Series B</td>\n",
       "    </tr>\n",
       "    <tr>\n",
       "      <th>910</th>\n",
       "      <td>Planys</td>\n",
       "      <td>2015</td>\n",
       "      <td>Chennai</td>\n",
       "      <td>Maritime</td>\n",
       "      <td>Planys is an Indian deep tech start-up creatin...</td>\n",
       "      <td>Tanuj Jhunjhunwala, Vineet Upadhyay, Rakesh Si...</td>\n",
       "      <td>Kieretsu Forum, Lets Venture, Shell</td>\n",
       "      <td>1600000.00</td>\n",
       "      <td>Pre-series A</td>\n",
       "    </tr>\n",
       "    <tr>\n",
       "      <th>424</th>\n",
       "      <td>ReadyAssist</td>\n",
       "      <td>2018</td>\n",
       "      <td>Bengaluru</td>\n",
       "      <td>Vehicle repair startup</td>\n",
       "      <td>ReadyAssist is one of the India's leading 24/7...</td>\n",
       "      <td>Vimal Singh SV</td>\n",
       "      <td>Satish Grampurohit</td>\n",
       "      <td>1000000.00</td>\n",
       "      <td>Seed</td>\n",
       "    </tr>\n",
       "    <tr>\n",
       "      <th>628</th>\n",
       "      <td>Leverage Edu</td>\n",
       "      <td>2017</td>\n",
       "      <td>Delhi</td>\n",
       "      <td>Edtech</td>\n",
       "      <td>AI-enabled marketplace designed to help studen...</td>\n",
       "      <td>Akshay Chaturvedi</td>\n",
       "      <td>Trifecta Capital Advisors, Blume Ventures</td>\n",
       "      <td>2000000.00</td>\n",
       "      <td>Debt</td>\n",
       "    </tr>\n",
       "    <tr>\n",
       "      <th>270</th>\n",
       "      <td>PropReturns</td>\n",
       "      <td>2020</td>\n",
       "      <td>Mumbai</td>\n",
       "      <td>Real estate</td>\n",
       "      <td>PropReturns is a platform for users to invest ...</td>\n",
       "      <td>Jayant Panwar, Kenish Shah</td>\n",
       "      <td>Y Combinator﻿, ﻿Goodwater Capital</td>\n",
       "      <td>1200000.00</td>\n",
       "      <td>Seed</td>\n",
       "    </tr>\n",
       "    <tr>\n",
       "      <th>996</th>\n",
       "      <td>FloCareer</td>\n",
       "      <td>2018</td>\n",
       "      <td>Bengaluru</td>\n",
       "      <td>Information services</td>\n",
       "      <td>The Best Skills Validation Platform that provi...</td>\n",
       "      <td>Mohit Jain,  Mehul Bhatt</td>\n",
       "      <td>Data Point Capital</td>\n",
       "      <td>5700000.00</td>\n",
       "      <td>Series A</td>\n",
       "    </tr>\n",
       "    <tr>\n",
       "      <th>116</th>\n",
       "      <td>Sporjo</td>\n",
       "      <td>2020</td>\n",
       "      <td>Mumbai</td>\n",
       "      <td>Sportstech</td>\n",
       "      <td>A one stop destination to build a successful c...</td>\n",
       "      <td>G Srinivvasan</td>\n",
       "      <td>Punit Balan</td>\n",
       "      <td>2000000.00</td>\n",
       "      <td>Pre-series A</td>\n",
       "    </tr>\n",
       "    <tr>\n",
       "      <th>582</th>\n",
       "      <td>CanPe</td>\n",
       "      <td>2019</td>\n",
       "      <td>Bengaluru</td>\n",
       "      <td>Computer software</td>\n",
       "      <td>Digital-first debt collections platform that i...</td>\n",
       "      <td>Arindam Choudhury</td>\n",
       "      <td>Axilor Ventures</td>\n",
       "      <td>171050024.76</td>\n",
       "      <td>Seed</td>\n",
       "    </tr>\n",
       "    <tr>\n",
       "      <th>995</th>\n",
       "      <td>Arcana</td>\n",
       "      <td>2019</td>\n",
       "      <td>Bengaluru</td>\n",
       "      <td>Information technology &amp; services</td>\n",
       "      <td>Arcana offers a Privacy Stack SDK to DApp deve...</td>\n",
       "      <td>Mayur Relekar, Aravindh Kumar, Abhishek Chaudhary</td>\n",
       "      <td>Republic Crypto, Woodstock, DCG, Sahil Lavingia</td>\n",
       "      <td>2300000.00</td>\n",
       "      <td>Seed</td>\n",
       "    </tr>\n",
       "    <tr>\n",
       "      <th>785</th>\n",
       "      <td>Ecom Express</td>\n",
       "      <td>2012</td>\n",
       "      <td>Delhi</td>\n",
       "      <td>E-commerce</td>\n",
       "      <td>Ecom Express is an end-to-end technology-enabl...</td>\n",
       "      <td>K. Satyanarayana, Manju Dhawan, Sanjeev Saxena...</td>\n",
       "      <td>CDC Group, Partners Group</td>\n",
       "      <td>20000000.00</td>\n",
       "      <td>Seed</td>\n",
       "    </tr>\n",
       "    <tr>\n",
       "      <th>179</th>\n",
       "      <td>NimbleBox.ai</td>\n",
       "      <td>2018</td>\n",
       "      <td>Chennai</td>\n",
       "      <td>Mlops platform</td>\n",
       "      <td>A full-stack MLOps platform built to create &amp; ...</td>\n",
       "      <td>Anshuman Pandey, Rohan Pooniwala</td>\n",
       "      <td>Venture Catalysts</td>\n",
       "      <td>1000000.00</td>\n",
       "      <td>Seed</td>\n",
       "    </tr>\n",
       "    <tr>\n",
       "      <th>930</th>\n",
       "      <td>Koparo</td>\n",
       "      <td>2020</td>\n",
       "      <td>Delhi</td>\n",
       "      <td>Consumer goods</td>\n",
       "      <td>Koparo is a direct-to-consumer brand that is a...</td>\n",
       "      <td>Simran Khara</td>\n",
       "      <td>Saama Capital﻿, ﻿Titan Capital﻿, DSG Consumer ...</td>\n",
       "      <td>700000.00</td>\n",
       "      <td>Seed</td>\n",
       "    </tr>\n",
       "    <tr>\n",
       "      <th>804</th>\n",
       "      <td>Clairco</td>\n",
       "      <td>2018</td>\n",
       "      <td>Bengaluru</td>\n",
       "      <td>Cleantech</td>\n",
       "      <td>Clairco provides enhanced air purification and...</td>\n",
       "      <td>Aayush Jha</td>\n",
       "      <td>Real Estate Accelerator Program (REAP), AngelList</td>\n",
       "      <td>500000.00</td>\n",
       "      <td>Seed</td>\n",
       "    </tr>\n",
       "    <tr>\n",
       "      <th>443</th>\n",
       "      <td>boAt</td>\n",
       "      <td>2016</td>\n",
       "      <td>Mumbai</td>\n",
       "      <td>Fashion &amp; lifestyle</td>\n",
       "      <td>boAt is a lifestyle brand that deals in fashio...</td>\n",
       "      <td>Aman Gupta, Sameer Mehta</td>\n",
       "      <td>InnoVen Capital, InnoVen Capita</td>\n",
       "      <td>100000000.00</td>\n",
       "      <td>PE</td>\n",
       "    </tr>\n",
       "  </tbody>\n",
       "</table>\n",
       "</div>"
      ],
      "text/plain": [
       "         Company/Brand  Founded HeadQuarter  \\\n",
       "163   1K Kirana Bazaar     2018    Gurugram   \n",
       "1030  The Indus Valley     2016     Chennai   \n",
       "766               Wysa     2015   Bengaluru   \n",
       "126              Syook     2016   Bengaluru   \n",
       "375              Origo     2010    Gurugram   \n",
       "306    Neobank Jupiter     2019      Mumbai   \n",
       "460                3SC     2018    Gurugram   \n",
       "910             Planys     2015     Chennai   \n",
       "424        ReadyAssist     2018   Bengaluru   \n",
       "628       Leverage Edu     2017       Delhi   \n",
       "270        PropReturns     2020      Mumbai   \n",
       "996          FloCareer     2018   Bengaluru   \n",
       "116             Sporjo     2020      Mumbai   \n",
       "582              CanPe     2019   Bengaluru   \n",
       "995             Arcana     2019   Bengaluru   \n",
       "785       Ecom Express     2012       Delhi   \n",
       "179       NimbleBox.ai     2018     Chennai   \n",
       "930             Koparo     2020       Delhi   \n",
       "804            Clairco     2018   Bengaluru   \n",
       "443               boAt     2016      Mumbai   \n",
       "\n",
       "                                 Sector  \\\n",
       "163                              Retail   \n",
       "1030                     Consumer goods   \n",
       "766                          Ai startup   \n",
       "126               Industrial automation   \n",
       "375                            Agritech   \n",
       "306                             Banking   \n",
       "460                           Logistics   \n",
       "910                            Maritime   \n",
       "424              Vehicle repair startup   \n",
       "628                              Edtech   \n",
       "270                         Real estate   \n",
       "996                Information services   \n",
       "116                          Sportstech   \n",
       "582                   Computer software   \n",
       "995   Information technology & services   \n",
       "785                          E-commerce   \n",
       "179                      Mlops platform   \n",
       "930                      Consumer goods   \n",
       "804                           Cleantech   \n",
       "443                 Fashion & lifestyle   \n",
       "\n",
       "                                           What it does  \\\n",
       "163   India's First and Largest Network of Small-Tow...   \n",
       "1030  Consumer GoodsThe Indus Valley is a Direct to ...   \n",
       "766   Wysa is an AI conversational agent that has be...   \n",
       "126   Syook is building the next generation enterpri...   \n",
       "375   Origo Commodities, a complete post-harvest man...   \n",
       "306   Jupiter is a digital banking app with one simp...   \n",
       "460   An end-to-end supply chain analytics company t...   \n",
       "910   Planys is an Indian deep tech start-up creatin...   \n",
       "424   ReadyAssist is one of the India's leading 24/7...   \n",
       "628   AI-enabled marketplace designed to help studen...   \n",
       "270   PropReturns is a platform for users to invest ...   \n",
       "996   The Best Skills Validation Platform that provi...   \n",
       "116   A one stop destination to build a successful c...   \n",
       "582   Digital-first debt collections platform that i...   \n",
       "995   Arcana offers a Privacy Stack SDK to DApp deve...   \n",
       "785   Ecom Express is an end-to-end technology-enabl...   \n",
       "179   A full-stack MLOps platform built to create & ...   \n",
       "930   Koparo is a direct-to-consumer brand that is a...   \n",
       "804   Clairco provides enhanced air purification and...   \n",
       "443   boAt is a lifestyle brand that deals in fashio...   \n",
       "\n",
       "                                               Founders  \\\n",
       "163    Abhishek Halder, Anilesh Yadav, Kumar Sangeetesh   \n",
       "1030              Jagadeesh Kumar, Madhumitha Udaykumar   \n",
       "766                       Jo Aggarwal, Ramakant Vempati   \n",
       "126       Saurabh Sharma, Aman Agarwal, Arjun Nagarajan   \n",
       "375                         Sunoor Kaul, Mayank Dhanuka   \n",
       "306                                      Jitendra Gupta   \n",
       "460                                   Lalit, Sarita Das   \n",
       "910   Tanuj Jhunjhunwala, Vineet Upadhyay, Rakesh Si...   \n",
       "424                                      Vimal Singh SV   \n",
       "628                                   Akshay Chaturvedi   \n",
       "270                          Jayant Panwar, Kenish Shah   \n",
       "996                            Mohit Jain,  Mehul Bhatt   \n",
       "116                                       G Srinivvasan   \n",
       "582                                   Arindam Choudhury   \n",
       "995   Mayur Relekar, Aravindh Kumar, Abhishek Chaudhary   \n",
       "785   K. Satyanarayana, Manju Dhawan, Sanjeev Saxena...   \n",
       "179                    Anshuman Pandey, Rohan Pooniwala   \n",
       "930                                        Simran Khara   \n",
       "804                                          Aayush Jha   \n",
       "443                            Aman Gupta, Sameer Mehta   \n",
       "\n",
       "                                               Investor    Amount($)  \\\n",
       "163                               Info Edge, FalconEdge   7000000.00   \n",
       "1030  Rukam Capital, DSG Consumer Partners, The Chen...   1100000.00   \n",
       "766                            Kae Capital, Pi Ventures 171050024.76   \n",
       "126                     Inflection Point Ventures, ONGC   1000000.00   \n",
       "375                                            YES Bank  10000000.00   \n",
       "306                       Tiger Global, Sequoia Capital  86000000.00   \n",
       "460                       GEF Capital’s South Asia Fund  15000000.00   \n",
       "910                 Kieretsu Forum, Lets Venture, Shell   1600000.00   \n",
       "424                                  Satish Grampurohit   1000000.00   \n",
       "628           Trifecta Capital Advisors, Blume Ventures   2000000.00   \n",
       "270                   Y Combinator﻿, ﻿Goodwater Capital   1200000.00   \n",
       "996                                  Data Point Capital   5700000.00   \n",
       "116                                         Punit Balan   2000000.00   \n",
       "582                                     Axilor Ventures 171050024.76   \n",
       "995     Republic Crypto, Woodstock, DCG, Sahil Lavingia   2300000.00   \n",
       "785                           CDC Group, Partners Group  20000000.00   \n",
       "179                                   Venture Catalysts   1000000.00   \n",
       "930   Saama Capital﻿, ﻿Titan Capital﻿, DSG Consumer ...    700000.00   \n",
       "804   Real Estate Accelerator Program (REAP), AngelList    500000.00   \n",
       "443                     InnoVen Capital, InnoVen Capita 100000000.00   \n",
       "\n",
       "             Stage  \n",
       "163           Seed  \n",
       "1030          Seed  \n",
       "766           Seed  \n",
       "126       Series A  \n",
       "375           Debt  \n",
       "306       Series C  \n",
       "460       Series B  \n",
       "910   Pre-series A  \n",
       "424           Seed  \n",
       "628           Debt  \n",
       "270           Seed  \n",
       "996       Series A  \n",
       "116   Pre-series A  \n",
       "582           Seed  \n",
       "995           Seed  \n",
       "785           Seed  \n",
       "179           Seed  \n",
       "930           Seed  \n",
       "804           Seed  \n",
       "443             PE  "
      ]
     },
     "execution_count": 144,
     "metadata": {},
     "output_type": "execute_result"
    }
   ],
   "source": [
    "start_ups_2021.sample(20)"
   ]
  },
  {
   "cell_type": "code",
   "execution_count": 145,
   "metadata": {},
   "outputs": [],
   "source": [
    "# Export the cleaned DataFrame to a CSV file\n",
    "\n",
    "file_path = './India Startup Funding Cleaned/start_ups_2021.csv'\n",
    "start_ups_2021.to_csv(file_path, index=False)"
   ]
  },
  {
   "attachments": {},
   "cell_type": "markdown",
   "metadata": {},
   "source": [
    "### Merge the cleaned datasets into one DataFrame"
   ]
  },
  {
   "cell_type": "code",
   "execution_count": 146,
   "metadata": {},
   "outputs": [],
   "source": [
    "# merge the datasets into a single dataframe\n",
    "# add a column named \"Funding Year\" to each dataframe before merging the dataframes,\n",
    "# to indicate the year the startup received funding\n",
    "\n",
    "# get data file names\n",
    "local_path = r'/my_files'\n",
    "\n",
    "filenames = glob.glob('India Startup Funding Cleaned' + \"/*.csv\")\n",
    "\n",
    "dfs = [pd.read_csv(filename) for filename in filenames]\n",
    "\n",
    "year = 2018\n",
    "\n",
    "for i in np.arange(len(dfs)):\n",
    "    dfs[i]['Funding Year'] = year\n",
    "    year += 1\n",
    "\n",
    "big_frame = pd.concat(dfs, ignore_index = True)"
   ]
  },
  {
   "cell_type": "code",
   "execution_count": 147,
   "metadata": {},
   "outputs": [
    {
     "data": {
      "text/html": [
       "<div>\n",
       "<style scoped>\n",
       "    .dataframe tbody tr th:only-of-type {\n",
       "        vertical-align: middle;\n",
       "    }\n",
       "\n",
       "    .dataframe tbody tr th {\n",
       "        vertical-align: top;\n",
       "    }\n",
       "\n",
       "    .dataframe thead th {\n",
       "        text-align: right;\n",
       "    }\n",
       "</style>\n",
       "<table border=\"1\" class=\"dataframe\">\n",
       "  <thead>\n",
       "    <tr style=\"text-align: right;\">\n",
       "      <th></th>\n",
       "      <th>Company/Brand</th>\n",
       "      <th>Founded</th>\n",
       "      <th>HeadQuarter</th>\n",
       "      <th>Sector</th>\n",
       "      <th>What it does</th>\n",
       "      <th>Founders</th>\n",
       "      <th>Investor</th>\n",
       "      <th>Amount($)</th>\n",
       "      <th>Stage</th>\n",
       "      <th>Funding Year</th>\n",
       "    </tr>\n",
       "  </thead>\n",
       "  <tbody>\n",
       "    <tr>\n",
       "      <th>0</th>\n",
       "      <td>TheCollegeFever</td>\n",
       "      <td>2015</td>\n",
       "      <td>Bengaluru</td>\n",
       "      <td>Brand marketing</td>\n",
       "      <td>TheCollegeFever is a hub for fun, fiesta and f...</td>\n",
       "      <td>Unknown</td>\n",
       "      <td>Unknown</td>\n",
       "      <td>250000.00</td>\n",
       "      <td>Seed</td>\n",
       "      <td>2018</td>\n",
       "    </tr>\n",
       "    <tr>\n",
       "      <th>1</th>\n",
       "      <td>Happy Cow Dairy</td>\n",
       "      <td>2010</td>\n",
       "      <td>Mumbai</td>\n",
       "      <td>Agriculture</td>\n",
       "      <td>A startup which aggregates milk from dairy far...</td>\n",
       "      <td>Unknown</td>\n",
       "      <td>Unknown</td>\n",
       "      <td>584000.00</td>\n",
       "      <td>Seed</td>\n",
       "      <td>2018</td>\n",
       "    </tr>\n",
       "    <tr>\n",
       "      <th>2</th>\n",
       "      <td>MyLoanCare</td>\n",
       "      <td>2015</td>\n",
       "      <td>Gurugram</td>\n",
       "      <td>Credit</td>\n",
       "      <td>Leading Online Loans Marketplace in India</td>\n",
       "      <td>Unknown</td>\n",
       "      <td>Unknown</td>\n",
       "      <td>949000.00</td>\n",
       "      <td>Series A</td>\n",
       "      <td>2018</td>\n",
       "    </tr>\n",
       "    <tr>\n",
       "      <th>3</th>\n",
       "      <td>PayMe India</td>\n",
       "      <td>2018</td>\n",
       "      <td>Noida</td>\n",
       "      <td>Financial services</td>\n",
       "      <td>PayMe India is an innovative FinTech organizat...</td>\n",
       "      <td>Unknown</td>\n",
       "      <td>Unknown</td>\n",
       "      <td>2000000.00</td>\n",
       "      <td>Angel</td>\n",
       "      <td>2018</td>\n",
       "    </tr>\n",
       "    <tr>\n",
       "      <th>4</th>\n",
       "      <td>Eunimart</td>\n",
       "      <td>2016</td>\n",
       "      <td>Hyderabad</td>\n",
       "      <td>E-commerce platforms</td>\n",
       "      <td>Eunimart is a one stop solution for merchants ...</td>\n",
       "      <td>Unknown</td>\n",
       "      <td>Unknown</td>\n",
       "      <td>0.00</td>\n",
       "      <td>Seed</td>\n",
       "      <td>2018</td>\n",
       "    </tr>\n",
       "  </tbody>\n",
       "</table>\n",
       "</div>"
      ],
      "text/plain": [
       "     Company/Brand  Founded HeadQuarter                Sector  \\\n",
       "0  TheCollegeFever     2015   Bengaluru       Brand marketing   \n",
       "1  Happy Cow Dairy     2010      Mumbai           Agriculture   \n",
       "2       MyLoanCare     2015    Gurugram                Credit   \n",
       "3      PayMe India     2018       Noida    Financial services   \n",
       "4         Eunimart     2016   Hyderabad  E-commerce platforms   \n",
       "\n",
       "                                        What it does Founders Investor  \\\n",
       "0  TheCollegeFever is a hub for fun, fiesta and f...  Unknown  Unknown   \n",
       "1  A startup which aggregates milk from dairy far...  Unknown  Unknown   \n",
       "2          Leading Online Loans Marketplace in India  Unknown  Unknown   \n",
       "3  PayMe India is an innovative FinTech organizat...  Unknown  Unknown   \n",
       "4  Eunimart is a one stop solution for merchants ...  Unknown  Unknown   \n",
       "\n",
       "   Amount($)     Stage  Funding Year  \n",
       "0  250000.00      Seed          2018  \n",
       "1  584000.00      Seed          2018  \n",
       "2  949000.00  Series A          2018  \n",
       "3 2000000.00     Angel          2018  \n",
       "4       0.00      Seed          2018  "
      ]
     },
     "execution_count": 147,
     "metadata": {},
     "output_type": "execute_result"
    }
   ],
   "source": [
    "big_frame.head()"
   ]
  },
  {
   "cell_type": "code",
   "execution_count": 148,
   "metadata": {},
   "outputs": [
    {
     "data": {
      "text/plain": [
       "(2856, 10)"
      ]
     },
     "execution_count": 148,
     "metadata": {},
     "output_type": "execute_result"
    }
   ],
   "source": [
    "big_frame.shape"
   ]
  },
  {
   "cell_type": "code",
   "execution_count": 149,
   "metadata": {},
   "outputs": [
    {
     "name": "stdout",
     "output_type": "stream",
     "text": [
      "<class 'pandas.core.frame.DataFrame'>\n",
      "RangeIndex: 2856 entries, 0 to 2855\n",
      "Data columns (total 10 columns):\n",
      " #   Column         Non-Null Count  Dtype  \n",
      "---  ------         --------------  -----  \n",
      " 0   Company/Brand  2856 non-null   object \n",
      " 1   Founded        2856 non-null   int64  \n",
      " 2   HeadQuarter    2856 non-null   object \n",
      " 3   Sector         2856 non-null   object \n",
      " 4   What it does   2856 non-null   object \n",
      " 5   Founders       2856 non-null   object \n",
      " 6   Investor       2856 non-null   object \n",
      " 7   Amount($)      2856 non-null   float64\n",
      " 8   Stage          2856 non-null   object \n",
      " 9   Funding Year   2856 non-null   int64  \n",
      "dtypes: float64(1), int64(2), object(7)\n",
      "memory usage: 223.2+ KB\n"
     ]
    }
   ],
   "source": [
    "big_frame.info()"
   ]
  },
  {
   "cell_type": "code",
   "execution_count": 150,
   "metadata": {},
   "outputs": [
    {
     "data": {
      "text/plain": [
       "1"
      ]
     },
     "execution_count": 150,
     "metadata": {},
     "output_type": "execute_result"
    }
   ],
   "source": [
    "# check for duplicated rows\n",
    "big_frame.duplicated().sum()"
   ]
  },
  {
   "cell_type": "code",
   "execution_count": 151,
   "metadata": {},
   "outputs": [
    {
     "data": {
      "text/plain": [
       "0"
      ]
     },
     "execution_count": 151,
     "metadata": {},
     "output_type": "execute_result"
    }
   ],
   "source": [
    "# check for duplicated columns\n",
    "big_frame.T.duplicated().sum()"
   ]
  },
  {
   "cell_type": "code",
   "execution_count": 152,
   "metadata": {},
   "outputs": [
    {
     "data": {
      "text/plain": [
       "Company/Brand     object\n",
       "Founded            int64\n",
       "HeadQuarter       object\n",
       "Sector            object\n",
       "What it does      object\n",
       "Founders          object\n",
       "Investor          object\n",
       "Amount($)        float64\n",
       "Stage             object\n",
       "Funding Year       int64\n",
       "dtype: object"
      ]
     },
     "execution_count": 152,
     "metadata": {},
     "output_type": "execute_result"
    }
   ],
   "source": [
    "big_frame.dtypes"
   ]
  },
  {
   "cell_type": "code",
   "execution_count": 153,
   "metadata": {},
   "outputs": [
    {
     "data": {
      "text/html": [
       "<div>\n",
       "<style scoped>\n",
       "    .dataframe tbody tr th:only-of-type {\n",
       "        vertical-align: middle;\n",
       "    }\n",
       "\n",
       "    .dataframe tbody tr th {\n",
       "        vertical-align: top;\n",
       "    }\n",
       "\n",
       "    .dataframe thead th {\n",
       "        text-align: right;\n",
       "    }\n",
       "</style>\n",
       "<table border=\"1\" class=\"dataframe\">\n",
       "  <thead>\n",
       "    <tr style=\"text-align: right;\">\n",
       "      <th></th>\n",
       "      <th>Founded</th>\n",
       "      <th>Amount($)</th>\n",
       "      <th>Funding Year</th>\n",
       "    </tr>\n",
       "  </thead>\n",
       "  <tbody>\n",
       "    <tr>\n",
       "      <th>count</th>\n",
       "      <td>2856.00</td>\n",
       "      <td>2856.00</td>\n",
       "      <td>2856.00</td>\n",
       "    </tr>\n",
       "    <tr>\n",
       "      <th>mean</th>\n",
       "      <td>2015.57</td>\n",
       "      <td>116537814.26</td>\n",
       "      <td>2020.02</td>\n",
       "    </tr>\n",
       "    <tr>\n",
       "      <th>std</th>\n",
       "      <td>4.00</td>\n",
       "      <td>3097783781.59</td>\n",
       "      <td>1.09</td>\n",
       "    </tr>\n",
       "    <tr>\n",
       "      <th>min</th>\n",
       "      <td>1963.00</td>\n",
       "      <td>0.00</td>\n",
       "      <td>2018.00</td>\n",
       "    </tr>\n",
       "    <tr>\n",
       "      <th>25%</th>\n",
       "      <td>2014.00</td>\n",
       "      <td>934300.00</td>\n",
       "      <td>2020.00</td>\n",
       "    </tr>\n",
       "    <tr>\n",
       "      <th>50%</th>\n",
       "      <td>2016.00</td>\n",
       "      <td>4000000.00</td>\n",
       "      <td>2020.00</td>\n",
       "    </tr>\n",
       "    <tr>\n",
       "      <th>75%</th>\n",
       "      <td>2018.00</td>\n",
       "      <td>33500000.00</td>\n",
       "      <td>2021.00</td>\n",
       "    </tr>\n",
       "    <tr>\n",
       "      <th>max</th>\n",
       "      <td>2021.00</td>\n",
       "      <td>150000000000.00</td>\n",
       "      <td>2021.00</td>\n",
       "    </tr>\n",
       "  </tbody>\n",
       "</table>\n",
       "</div>"
      ],
      "text/plain": [
       "       Founded       Amount($)  Funding Year\n",
       "count  2856.00         2856.00       2856.00\n",
       "mean   2015.57    116537814.26       2020.02\n",
       "std       4.00   3097783781.59          1.09\n",
       "min    1963.00            0.00       2018.00\n",
       "25%    2014.00       934300.00       2020.00\n",
       "50%    2016.00      4000000.00       2020.00\n",
       "75%    2018.00     33500000.00       2021.00\n",
       "max    2021.00 150000000000.00       2021.00"
      ]
     },
     "execution_count": 153,
     "metadata": {},
     "output_type": "execute_result"
    }
   ],
   "source": [
    "big_frame.describe()"
   ]
  },
  {
   "cell_type": "code",
   "execution_count": 154,
   "metadata": {},
   "outputs": [
    {
     "data": {
      "text/plain": [
       "Company/Brand    0\n",
       "Founded          0\n",
       "HeadQuarter      0\n",
       "Sector           0\n",
       "What it does     0\n",
       "Founders         0\n",
       "Investor         0\n",
       "Amount($)        0\n",
       "Stage            0\n",
       "Funding Year     0\n",
       "dtype: int64"
      ]
     },
     "execution_count": 154,
     "metadata": {},
     "output_type": "execute_result"
    }
   ],
   "source": [
    "big_frame.isna().sum()"
   ]
  },
  {
   "cell_type": "code",
   "execution_count": 155,
   "metadata": {},
   "outputs": [
    {
     "data": {
      "text/html": [
       "<div>\n",
       "<style scoped>\n",
       "    .dataframe tbody tr th:only-of-type {\n",
       "        vertical-align: middle;\n",
       "    }\n",
       "\n",
       "    .dataframe tbody tr th {\n",
       "        vertical-align: top;\n",
       "    }\n",
       "\n",
       "    .dataframe thead th {\n",
       "        text-align: right;\n",
       "    }\n",
       "</style>\n",
       "<table border=\"1\" class=\"dataframe\">\n",
       "  <thead>\n",
       "    <tr style=\"text-align: right;\">\n",
       "      <th></th>\n",
       "      <th>Company/Brand</th>\n",
       "      <th>Founded</th>\n",
       "      <th>HeadQuarter</th>\n",
       "      <th>Sector</th>\n",
       "      <th>What it does</th>\n",
       "      <th>Founders</th>\n",
       "      <th>Investor</th>\n",
       "      <th>Amount($)</th>\n",
       "      <th>Stage</th>\n",
       "      <th>Funding Year</th>\n",
       "    </tr>\n",
       "  </thead>\n",
       "  <tbody>\n",
       "    <tr>\n",
       "      <th>1098</th>\n",
       "      <td>Exprs</td>\n",
       "      <td>2018</td>\n",
       "      <td>Unknown</td>\n",
       "      <td>Nano distribution network</td>\n",
       "      <td>Nano Distribution Centres, enabling seamless c...</td>\n",
       "      <td>Srinivas Madhavam, Srikanth Rajashekhar, Rahul...</td>\n",
       "      <td>Sweta Rau, Sandeep Kapoor</td>\n",
       "      <td>5660000.00</td>\n",
       "      <td>Series A</td>\n",
       "      <td>2020</td>\n",
       "    </tr>\n",
       "    <tr>\n",
       "      <th>1070</th>\n",
       "      <td>Sunday</td>\n",
       "      <td>2017</td>\n",
       "      <td>Bangkok</td>\n",
       "      <td>Fintech</td>\n",
       "      <td>An end-to-end insurance products and services ...</td>\n",
       "      <td>Cindy Kua</td>\n",
       "      <td>SCB 10X, LINE Ventures</td>\n",
       "      <td>9000000.00</td>\n",
       "      <td>Pre-Series B</td>\n",
       "      <td>2020</td>\n",
       "    </tr>\n",
       "    <tr>\n",
       "      <th>704</th>\n",
       "      <td>KopyKitab</td>\n",
       "      <td>2013</td>\n",
       "      <td>Bengaluru</td>\n",
       "      <td>Edtech</td>\n",
       "      <td>Kopykitab is an India-based digital library th...</td>\n",
       "      <td>Amit Shrivastava, Sumeet Verma</td>\n",
       "      <td>Paula Mariwala, Siddharth Anand</td>\n",
       "      <td>112913068.52</td>\n",
       "      <td>Series A</td>\n",
       "      <td>2020</td>\n",
       "    </tr>\n",
       "    <tr>\n",
       "      <th>1675</th>\n",
       "      <td>Taikee</td>\n",
       "      <td>2010</td>\n",
       "      <td>Mumbai</td>\n",
       "      <td>E-commerce</td>\n",
       "      <td>Taikee is the ISO-certified, B2B e-commerce pl...</td>\n",
       "      <td>Nidhi Ramachandran, Sachin Chhabra</td>\n",
       "      <td>Unknown</td>\n",
       "      <td>1000000.00</td>\n",
       "      <td>Seed</td>\n",
       "      <td>2021</td>\n",
       "    </tr>\n",
       "    <tr>\n",
       "      <th>1955</th>\n",
       "      <td>Glii</td>\n",
       "      <td>2020</td>\n",
       "      <td>Noida</td>\n",
       "      <td>Dating</td>\n",
       "      <td>India’s finest dating companionship application</td>\n",
       "      <td>Shivam Kaushik</td>\n",
       "      <td>We Founder Circle</td>\n",
       "      <td>10000.00</td>\n",
       "      <td>Seed</td>\n",
       "      <td>2021</td>\n",
       "    </tr>\n",
       "    <tr>\n",
       "      <th>134</th>\n",
       "      <td>PerkFinance</td>\n",
       "      <td>2010</td>\n",
       "      <td>Bengaluru</td>\n",
       "      <td>Consumer lending</td>\n",
       "      <td>PerkFinance partners with employers to provide...</td>\n",
       "      <td>Unknown</td>\n",
       "      <td>Unknown</td>\n",
       "      <td>900000.00</td>\n",
       "      <td>Seed</td>\n",
       "      <td>2018</td>\n",
       "    </tr>\n",
       "    <tr>\n",
       "      <th>1487</th>\n",
       "      <td>Umeed Housing</td>\n",
       "      <td>2015</td>\n",
       "      <td>Haryana</td>\n",
       "      <td>Fintech</td>\n",
       "      <td>Housing finance company</td>\n",
       "      <td>Ashutosh Sharma</td>\n",
       "      <td>Morgan Stanley Private Equity Asia</td>\n",
       "      <td>23000000.00</td>\n",
       "      <td>Series D</td>\n",
       "      <td>2020</td>\n",
       "    </tr>\n",
       "    <tr>\n",
       "      <th>1374</th>\n",
       "      <td>DrinkPrime</td>\n",
       "      <td>2015</td>\n",
       "      <td>Bengaluru</td>\n",
       "      <td>Fintech</td>\n",
       "      <td>Water purifier subscription service</td>\n",
       "      <td>Manas Ranjan Hota, Vijender Reddy</td>\n",
       "      <td>Abhishek Goyal, Bharat Jaisinghani, FirstCheque</td>\n",
       "      <td>112913068.52</td>\n",
       "      <td>Seed Round</td>\n",
       "      <td>2020</td>\n",
       "    </tr>\n",
       "    <tr>\n",
       "      <th>2080</th>\n",
       "      <td>Jumbotail</td>\n",
       "      <td>2015</td>\n",
       "      <td>Bengaluru</td>\n",
       "      <td>Food and beverages</td>\n",
       "      <td>Jumbotail is solving an important problem of o...</td>\n",
       "      <td>Ashish Jhina, Karthik Venkateswaran</td>\n",
       "      <td>Nexus Venture Partners, 23 High Networth Indiv...</td>\n",
       "      <td>14300000.00</td>\n",
       "      <td>Series B3</td>\n",
       "      <td>2021</td>\n",
       "    </tr>\n",
       "    <tr>\n",
       "      <th>436</th>\n",
       "      <td>Worxogo</td>\n",
       "      <td>2017</td>\n",
       "      <td>Bengaluru</td>\n",
       "      <td>Information technology</td>\n",
       "      <td>worxogo’s is a pioneering persuasive technolog...</td>\n",
       "      <td>Unknown</td>\n",
       "      <td>Unknown</td>\n",
       "      <td>2409000.00</td>\n",
       "      <td>Series A</td>\n",
       "      <td>2018</td>\n",
       "    </tr>\n",
       "    <tr>\n",
       "      <th>1051</th>\n",
       "      <td>MyGlamm</td>\n",
       "      <td>2015</td>\n",
       "      <td>Mumbai</td>\n",
       "      <td>Fashion</td>\n",
       "      <td>Buy Makeup kit &amp; Cosmetics Products from inter...</td>\n",
       "      <td>Darpan Sanghvi</td>\n",
       "      <td>Bessemer Venture Partners</td>\n",
       "      <td>1000000.00</td>\n",
       "      <td>Series B</td>\n",
       "      <td>2020</td>\n",
       "    </tr>\n",
       "    <tr>\n",
       "      <th>2079</th>\n",
       "      <td>Toothsi</td>\n",
       "      <td>2018</td>\n",
       "      <td>Mumbai</td>\n",
       "      <td>Healthcare</td>\n",
       "      <td>ToothSi is a new age startup in the dental spa...</td>\n",
       "      <td>Dr Arpi Mehta, Dr Pravin Shetty, Dr Manjul Jai...</td>\n",
       "      <td>Think Investments</td>\n",
       "      <td>5000000.00</td>\n",
       "      <td>Series A</td>\n",
       "      <td>2021</td>\n",
       "    </tr>\n",
       "    <tr>\n",
       "      <th>2759</th>\n",
       "      <td>Bluepad</td>\n",
       "      <td>2020</td>\n",
       "      <td>Bengaluru</td>\n",
       "      <td>Online media</td>\n",
       "      <td>A one-stop solution for aggregated content  in...</td>\n",
       "      <td>Sanjyot Bhosale, Devakrishna Asokar, Kishore G...</td>\n",
       "      <td>Titan Capital, AngelList's syndicate</td>\n",
       "      <td>200000.00</td>\n",
       "      <td>Pre-seed</td>\n",
       "      <td>2021</td>\n",
       "    </tr>\n",
       "    <tr>\n",
       "      <th>1775</th>\n",
       "      <td>NeoDocs</td>\n",
       "      <td>2020</td>\n",
       "      <td>Mumbai</td>\n",
       "      <td>Healthtech</td>\n",
       "      <td>Neodocs is a part of India's prominent Social ...</td>\n",
       "      <td>Nikunj Malpani, Anurag Meena, Pratik Lodha</td>\n",
       "      <td>Y Combinator, 9Unicorns, Titan Capital</td>\n",
       "      <td>171050024.76</td>\n",
       "      <td>Pre-seed</td>\n",
       "      <td>2021</td>\n",
       "    </tr>\n",
       "    <tr>\n",
       "      <th>2817</th>\n",
       "      <td>Lido Learning</td>\n",
       "      <td>2019</td>\n",
       "      <td>Mumbai</td>\n",
       "      <td>E-learning</td>\n",
       "      <td>LIDO is an  ed-tech company revolutionizing fo...</td>\n",
       "      <td>Sahil Sheth</td>\n",
       "      <td>Unilazer Ventures</td>\n",
       "      <td>10000000.00</td>\n",
       "      <td>Seed</td>\n",
       "      <td>2021</td>\n",
       "    </tr>\n",
       "    <tr>\n",
       "      <th>1645</th>\n",
       "      <td>Zomato</td>\n",
       "      <td>2015</td>\n",
       "      <td>Unknown</td>\n",
       "      <td>Foodtech</td>\n",
       "      <td>Online food delivery and restaurant discovery ...</td>\n",
       "      <td>Deepinder Goyal</td>\n",
       "      <td>Ant Financial</td>\n",
       "      <td>150000000.00</td>\n",
       "      <td>Series A</td>\n",
       "      <td>2020</td>\n",
       "    </tr>\n",
       "    <tr>\n",
       "      <th>2449</th>\n",
       "      <td>Apna.co</td>\n",
       "      <td>2019</td>\n",
       "      <td>Bengaluru</td>\n",
       "      <td>Recruitment</td>\n",
       "      <td>Apna is a recruitment platform that gives oppo...</td>\n",
       "      <td>Nirmit Parikh</td>\n",
       "      <td>Sequoia Capital India, Rocketship.vc</td>\n",
       "      <td>12500000.00</td>\n",
       "      <td>Seed</td>\n",
       "      <td>2021</td>\n",
       "    </tr>\n",
       "    <tr>\n",
       "      <th>1781</th>\n",
       "      <td>O’ Be Cocktails</td>\n",
       "      <td>2019</td>\n",
       "      <td>Bengaluru</td>\n",
       "      <td>Wine &amp; spirits</td>\n",
       "      <td>India’s first and only Ready to Drink Premium ...</td>\n",
       "      <td>Nitesh Prakash</td>\n",
       "      <td>First Cheque, Letsventure</td>\n",
       "      <td>400000.00</td>\n",
       "      <td>Seed</td>\n",
       "      <td>2021</td>\n",
       "    </tr>\n",
       "    <tr>\n",
       "      <th>1728</th>\n",
       "      <td>ShopSe</td>\n",
       "      <td>2020</td>\n",
       "      <td>Mumbai</td>\n",
       "      <td>Fintech</td>\n",
       "      <td>Make purchases online or at neighborhood store...</td>\n",
       "      <td>Pallav Jain, Abhishek Nimonkar, Yagnesh Desai</td>\n",
       "      <td>Chiratae Ventures, BEENEXT</td>\n",
       "      <td>5500000.00</td>\n",
       "      <td>Seed</td>\n",
       "      <td>2021</td>\n",
       "    </tr>\n",
       "    <tr>\n",
       "      <th>820</th>\n",
       "      <td>mCaffeine</td>\n",
       "      <td>2015</td>\n",
       "      <td>Mumbai</td>\n",
       "      <td>Cosmetics</td>\n",
       "      <td>MCaffeine is a personal care brand that offers...</td>\n",
       "      <td>Tarun Sharma, Vikas Lachhwani</td>\n",
       "      <td>RPSG Ventures, Amicus Capital</td>\n",
       "      <td>5000000.00</td>\n",
       "      <td>Series B</td>\n",
       "      <td>2020</td>\n",
       "    </tr>\n",
       "  </tbody>\n",
       "</table>\n",
       "</div>"
      ],
      "text/plain": [
       "        Company/Brand  Founded HeadQuarter                     Sector  \\\n",
       "1098            Exprs     2018     Unknown  Nano distribution network   \n",
       "1070           Sunday     2017     Bangkok                    Fintech   \n",
       "704         KopyKitab     2013   Bengaluru                     Edtech   \n",
       "1675           Taikee     2010      Mumbai                 E-commerce   \n",
       "1955             Glii     2020       Noida                     Dating   \n",
       "134       PerkFinance     2010   Bengaluru           Consumer lending   \n",
       "1487    Umeed Housing     2015     Haryana                    Fintech   \n",
       "1374       DrinkPrime     2015   Bengaluru                    Fintech   \n",
       "2080        Jumbotail     2015   Bengaluru         Food and beverages   \n",
       "436           Worxogo     2017   Bengaluru     Information technology   \n",
       "1051          MyGlamm     2015      Mumbai                    Fashion   \n",
       "2079          Toothsi     2018      Mumbai                 Healthcare   \n",
       "2759          Bluepad     2020   Bengaluru               Online media   \n",
       "1775          NeoDocs     2020      Mumbai                 Healthtech   \n",
       "2817    Lido Learning     2019      Mumbai                 E-learning   \n",
       "1645           Zomato     2015     Unknown                   Foodtech   \n",
       "2449          Apna.co     2019   Bengaluru                Recruitment   \n",
       "1781  O’ Be Cocktails     2019   Bengaluru             Wine & spirits   \n",
       "1728           ShopSe     2020      Mumbai                    Fintech   \n",
       "820         mCaffeine     2015      Mumbai                  Cosmetics   \n",
       "\n",
       "                                           What it does  \\\n",
       "1098  Nano Distribution Centres, enabling seamless c...   \n",
       "1070  An end-to-end insurance products and services ...   \n",
       "704   Kopykitab is an India-based digital library th...   \n",
       "1675  Taikee is the ISO-certified, B2B e-commerce pl...   \n",
       "1955    India’s finest dating companionship application   \n",
       "134   PerkFinance partners with employers to provide...   \n",
       "1487                            Housing finance company   \n",
       "1374                Water purifier subscription service   \n",
       "2080  Jumbotail is solving an important problem of o...   \n",
       "436   worxogo’s is a pioneering persuasive technolog...   \n",
       "1051  Buy Makeup kit & Cosmetics Products from inter...   \n",
       "2079  ToothSi is a new age startup in the dental spa...   \n",
       "2759  A one-stop solution for aggregated content  in...   \n",
       "1775  Neodocs is a part of India's prominent Social ...   \n",
       "2817  LIDO is an  ed-tech company revolutionizing fo...   \n",
       "1645  Online food delivery and restaurant discovery ...   \n",
       "2449  Apna is a recruitment platform that gives oppo...   \n",
       "1781  India’s first and only Ready to Drink Premium ...   \n",
       "1728  Make purchases online or at neighborhood store...   \n",
       "820   MCaffeine is a personal care brand that offers...   \n",
       "\n",
       "                                               Founders  \\\n",
       "1098  Srinivas Madhavam, Srikanth Rajashekhar, Rahul...   \n",
       "1070                                          Cindy Kua   \n",
       "704                      Amit Shrivastava, Sumeet Verma   \n",
       "1675                 Nidhi Ramachandran, Sachin Chhabra   \n",
       "1955                                     Shivam Kaushik   \n",
       "134                                             Unknown   \n",
       "1487                                    Ashutosh Sharma   \n",
       "1374                  Manas Ranjan Hota, Vijender Reddy   \n",
       "2080                Ashish Jhina, Karthik Venkateswaran   \n",
       "436                                             Unknown   \n",
       "1051                                     Darpan Sanghvi   \n",
       "2079  Dr Arpi Mehta, Dr Pravin Shetty, Dr Manjul Jai...   \n",
       "2759  Sanjyot Bhosale, Devakrishna Asokar, Kishore G...   \n",
       "1775         Nikunj Malpani, Anurag Meena, Pratik Lodha   \n",
       "2817                                        Sahil Sheth   \n",
       "1645                                    Deepinder Goyal   \n",
       "2449                                      Nirmit Parikh   \n",
       "1781                                     Nitesh Prakash   \n",
       "1728      Pallav Jain, Abhishek Nimonkar, Yagnesh Desai   \n",
       "820                       Tarun Sharma, Vikas Lachhwani   \n",
       "\n",
       "                                               Investor    Amount($)  \\\n",
       "1098                          Sweta Rau, Sandeep Kapoor   5660000.00   \n",
       "1070                             SCB 10X, LINE Ventures   9000000.00   \n",
       "704                     Paula Mariwala, Siddharth Anand 112913068.52   \n",
       "1675                                            Unknown   1000000.00   \n",
       "1955                                  We Founder Circle     10000.00   \n",
       "134                                             Unknown    900000.00   \n",
       "1487                 Morgan Stanley Private Equity Asia  23000000.00   \n",
       "1374    Abhishek Goyal, Bharat Jaisinghani, FirstCheque 112913068.52   \n",
       "2080  Nexus Venture Partners, 23 High Networth Indiv...  14300000.00   \n",
       "436                                             Unknown   2409000.00   \n",
       "1051                          Bessemer Venture Partners   1000000.00   \n",
       "2079                                  Think Investments   5000000.00   \n",
       "2759               Titan Capital, AngelList's syndicate    200000.00   \n",
       "1775             Y Combinator, 9Unicorns, Titan Capital 171050024.76   \n",
       "2817                                  Unilazer Ventures  10000000.00   \n",
       "1645                                      Ant Financial 150000000.00   \n",
       "2449               Sequoia Capital India, Rocketship.vc  12500000.00   \n",
       "1781                          First Cheque, Letsventure    400000.00   \n",
       "1728                         Chiratae Ventures, BEENEXT   5500000.00   \n",
       "820                       RPSG Ventures, Amicus Capital   5000000.00   \n",
       "\n",
       "             Stage  Funding Year  \n",
       "1098      Series A          2020  \n",
       "1070  Pre-Series B          2020  \n",
       "704       Series A          2020  \n",
       "1675          Seed          2021  \n",
       "1955          Seed          2021  \n",
       "134           Seed          2018  \n",
       "1487      Series D          2020  \n",
       "1374    Seed Round          2020  \n",
       "2080     Series B3          2021  \n",
       "436       Series A          2018  \n",
       "1051      Series B          2020  \n",
       "2079      Series A          2021  \n",
       "2759      Pre-seed          2021  \n",
       "1775      Pre-seed          2021  \n",
       "2817          Seed          2021  \n",
       "1645      Series A          2020  \n",
       "2449          Seed          2021  \n",
       "1781          Seed          2021  \n",
       "1728          Seed          2021  \n",
       "820       Series B          2020  "
      ]
     },
     "execution_count": 155,
     "metadata": {},
     "output_type": "execute_result"
    }
   ],
   "source": [
    "big_frame.sample(20)"
   ]
  },
  {
   "cell_type": "code",
   "execution_count": 156,
   "metadata": {},
   "outputs": [],
   "source": [
    "# Export the cleaned DataFrame to a CSV file\n",
    "\n",
    "file_path = './India Startup Funding Cleaned/big_frame.csv'\n",
    "big_frame.to_csv(file_path, index=False)"
   ]
  },
  {
   "attachments": {},
   "cell_type": "markdown",
   "metadata": {},
   "source": [
    "### 1. Which sector received the most funding from 2018 to 2021?"
   ]
  },
  {
   "cell_type": "code",
   "execution_count": 157,
   "metadata": {},
   "outputs": [
    {
     "data": {
      "text/html": [
       "<div>\n",
       "<style scoped>\n",
       "    .dataframe tbody tr th:only-of-type {\n",
       "        vertical-align: middle;\n",
       "    }\n",
       "\n",
       "    .dataframe tbody tr th {\n",
       "        vertical-align: top;\n",
       "    }\n",
       "\n",
       "    .dataframe thead th {\n",
       "        text-align: right;\n",
       "    }\n",
       "</style>\n",
       "<table border=\"1\" class=\"dataframe\">\n",
       "  <thead>\n",
       "    <tr style=\"text-align: right;\">\n",
       "      <th></th>\n",
       "      <th>Sector</th>\n",
       "      <th>Amount($)</th>\n",
       "    </tr>\n",
       "  </thead>\n",
       "  <tbody>\n",
       "    <tr>\n",
       "      <th>253</th>\n",
       "      <td>Fintech</td>\n",
       "      <td>159675228708.68</td>\n",
       "    </tr>\n",
       "  </tbody>\n",
       "</table>\n",
       "</div>"
      ],
      "text/plain": [
       "      Sector       Amount($)\n",
       "253  Fintech 159675228708.68"
      ]
     },
     "execution_count": 157,
     "metadata": {},
     "output_type": "execute_result"
    }
   ],
   "source": [
    "sector_grp = big_frame.groupby('Sector')\n",
    "funding_by_sector = sector_grp['Amount($)'].sum().reset_index()\n",
    "most_funded_sector = funding_by_sector.sort_values(by = 'Amount($)', ascending = False).head(1)\n",
    "most_funded_sector"
   ]
  },
  {
   "attachments": {},
   "cell_type": "markdown",
   "metadata": {},
   "source": [
    "### 2. How much funding has the fintech sector received in the Indian start-up ecosystem over the same period, compared to other sectors?"
   ]
  },
  {
   "cell_type": "code",
   "execution_count": 158,
   "metadata": {},
   "outputs": [
    {
     "data": {
      "text/html": [
       "<div>\n",
       "<style scoped>\n",
       "    .dataframe tbody tr th:only-of-type {\n",
       "        vertical-align: middle;\n",
       "    }\n",
       "\n",
       "    .dataframe tbody tr th {\n",
       "        vertical-align: top;\n",
       "    }\n",
       "\n",
       "    .dataframe thead th {\n",
       "        text-align: right;\n",
       "    }\n",
       "</style>\n",
       "<table border=\"1\" class=\"dataframe\">\n",
       "  <thead>\n",
       "    <tr style=\"text-align: right;\">\n",
       "      <th></th>\n",
       "      <th>Sector</th>\n",
       "      <th>Amount($)</th>\n",
       "      <th>Percent Funding(%)</th>\n",
       "    </tr>\n",
       "  </thead>\n",
       "  <tbody>\n",
       "    <tr>\n",
       "      <th>253</th>\n",
       "      <td>Fintech</td>\n",
       "      <td>159675228708.68</td>\n",
       "      <td>47.97</td>\n",
       "    </tr>\n",
       "  </tbody>\n",
       "</table>\n",
       "</div>"
      ],
      "text/plain": [
       "      Sector       Amount($)  Percent Funding(%)\n",
       "253  Fintech 159675228708.68               47.97"
      ]
     },
     "execution_count": 158,
     "metadata": {},
     "output_type": "execute_result"
    }
   ],
   "source": [
    "total_funding_by_sector = funding_by_sector.sort_values(by = 'Amount($)', ascending = False)\n",
    "total_funding_by_sector['Percent Funding(%)'] = (total_funding_by_sector['Amount($)'] / total_funding_by_sector['Amount($)'].sum()) * 100\n",
    "filt = (total_funding_by_sector['Sector'] == 'Fintech')\n",
    "total_funding_by_sector.loc[filt]"
   ]
  },
  {
   "attachments": {},
   "cell_type": "markdown",
   "metadata": {},
   "source": [
    "### 3. Have there been any significant fintech funding deals in the Indian start-up ecosystem from 2018 to 2021?"
   ]
  },
  {
   "cell_type": "code",
   "execution_count": 159,
   "metadata": {},
   "outputs": [
    {
     "data": {
      "text/html": [
       "<div>\n",
       "<style scoped>\n",
       "    .dataframe tbody tr th:only-of-type {\n",
       "        vertical-align: middle;\n",
       "    }\n",
       "\n",
       "    .dataframe tbody tr th {\n",
       "        vertical-align: top;\n",
       "    }\n",
       "\n",
       "    .dataframe thead th {\n",
       "        text-align: right;\n",
       "    }\n",
       "</style>\n",
       "<table border=\"1\" class=\"dataframe\">\n",
       "  <thead>\n",
       "    <tr style=\"text-align: right;\">\n",
       "      <th></th>\n",
       "      <th>Company/Brand</th>\n",
       "      <th>Founded</th>\n",
       "      <th>Sector</th>\n",
       "      <th>Amount($)</th>\n",
       "      <th>Funding Year</th>\n",
       "    </tr>\n",
       "  </thead>\n",
       "  <tbody>\n",
       "    <tr>\n",
       "      <th>1739</th>\n",
       "      <td>Alteria Capital</td>\n",
       "      <td>2018</td>\n",
       "      <td>Fintech</td>\n",
       "      <td>150000000000.00</td>\n",
       "      <td>2021</td>\n",
       "    </tr>\n",
       "  </tbody>\n",
       "</table>\n",
       "</div>"
      ],
      "text/plain": [
       "        Company/Brand  Founded   Sector       Amount($)  Funding Year\n",
       "1739  Alteria Capital     2018  Fintech 150000000000.00          2021"
      ]
     },
     "execution_count": 159,
     "metadata": {},
     "output_type": "execute_result"
    }
   ],
   "source": [
    "fintech_filt = big_frame['Sector'] == 'Fintech'\n",
    "most_significant_fintech_funding = big_frame.loc[fintech_filt, ['Company/Brand', 'Founded', 'Sector', 'Amount($)', 'Funding Year']].sort_values(by = 'Amount($)', ascending = False).head(1)\n",
    "most_significant_fintech_funding"
   ]
  },
  {
   "attachments": {},
   "cell_type": "markdown",
   "metadata": {},
   "source": [
    "### 4. What are the top 10 sectors that had the most funding over the same period?"
   ]
  },
  {
   "cell_type": "code",
   "execution_count": 160,
   "metadata": {},
   "outputs": [
    {
     "data": {
      "text/html": [
       "<div>\n",
       "<style scoped>\n",
       "    .dataframe tbody tr th:only-of-type {\n",
       "        vertical-align: middle;\n",
       "    }\n",
       "\n",
       "    .dataframe tbody tr th {\n",
       "        vertical-align: top;\n",
       "    }\n",
       "\n",
       "    .dataframe thead th {\n",
       "        text-align: right;\n",
       "    }\n",
       "</style>\n",
       "<table border=\"1\" class=\"dataframe\">\n",
       "  <thead>\n",
       "    <tr style=\"text-align: right;\">\n",
       "      <th></th>\n",
       "      <th>Sector</th>\n",
       "      <th>Amount($)</th>\n",
       "      <th>Percent Funding(%)</th>\n",
       "    </tr>\n",
       "  </thead>\n",
       "  <tbody>\n",
       "    <tr>\n",
       "      <th>253</th>\n",
       "      <td>Fintech</td>\n",
       "      <td>159675228708.68</td>\n",
       "      <td>47.97</td>\n",
       "    </tr>\n",
       "    <tr>\n",
       "      <th>452</th>\n",
       "      <td>Retail</td>\n",
       "      <td>70713430024.76</td>\n",
       "      <td>21.25</td>\n",
       "    </tr>\n",
       "    <tr>\n",
       "      <th>210</th>\n",
       "      <td>Edtech</td>\n",
       "      <td>11691669407.62</td>\n",
       "      <td>3.51</td>\n",
       "    </tr>\n",
       "    <tr>\n",
       "      <th>199</th>\n",
       "      <td>E-commerce</td>\n",
       "      <td>3898350323.59</td>\n",
       "      <td>1.17</td>\n",
       "    </tr>\n",
       "    <tr>\n",
       "      <th>295</th>\n",
       "      <td>Healthcare</td>\n",
       "      <td>3803348757.77</td>\n",
       "      <td>1.14</td>\n",
       "    </tr>\n",
       "    <tr>\n",
       "      <th>501</th>\n",
       "      <td>Tech company</td>\n",
       "      <td>3248526137.03</td>\n",
       "      <td>0.98</td>\n",
       "    </tr>\n",
       "    <tr>\n",
       "      <th>51</th>\n",
       "      <td>Automotive</td>\n",
       "      <td>3047501889.56</td>\n",
       "      <td>0.92</td>\n",
       "    </tr>\n",
       "    <tr>\n",
       "      <th>297</th>\n",
       "      <td>Healthtech</td>\n",
       "      <td>2921221133.52</td>\n",
       "      <td>0.88</td>\n",
       "    </tr>\n",
       "    <tr>\n",
       "      <th>267</th>\n",
       "      <td>Food delivery</td>\n",
       "      <td>2673076000.00</td>\n",
       "      <td>0.80</td>\n",
       "    </tr>\n",
       "    <tr>\n",
       "      <th>252</th>\n",
       "      <td>Financial services</td>\n",
       "      <td>2650336894.29</td>\n",
       "      <td>0.80</td>\n",
       "    </tr>\n",
       "  </tbody>\n",
       "</table>\n",
       "</div>"
      ],
      "text/plain": [
       "                 Sector       Amount($)  Percent Funding(%)\n",
       "253             Fintech 159675228708.68               47.97\n",
       "452              Retail  70713430024.76               21.25\n",
       "210              Edtech  11691669407.62                3.51\n",
       "199          E-commerce   3898350323.59                1.17\n",
       "295          Healthcare   3803348757.77                1.14\n",
       "501        Tech company   3248526137.03                0.98\n",
       "51           Automotive   3047501889.56                0.92\n",
       "297          Healthtech   2921221133.52                0.88\n",
       "267       Food delivery   2673076000.00                0.80\n",
       "252  Financial services   2650336894.29                0.80"
      ]
     },
     "execution_count": 160,
     "metadata": {},
     "output_type": "execute_result"
    }
   ],
   "source": [
    "top_10_sectors = total_funding_by_sector.head(10)\n",
    "top_10_sectors"
   ]
  },
  {
   "cell_type": "code",
   "execution_count": 161,
   "metadata": {},
   "outputs": [
    {
     "data": {
      "image/png": "[encoded data removed]",
      "text/plain": [
       "<Figure size 640x480 with 1 Axes>"
      ]
     },
     "metadata": {},
     "output_type": "display_data"
    }
   ],
   "source": [
    "top_10_sectors = top_10_sectors.sort_values(by = 'Amount($)')\n",
    "sector = top_10_sectors['Sector']\n",
    "total_amount = top_10_sectors['Amount($)']\n",
    "\n",
    "plt.barh(sector, total_amount)\n",
    "\n",
    "plt.title('Amount in ($) Received by the Top Ten(10) Sectors')\n",
    "plt.xlabel('Amount in ($) Received in each Sector \\n(in the form \"xe+11\")')\n",
    "plt.ylabel('Top Ten Sectors')\n",
    "\n",
    "plt.show()"
   ]
  },
  {
   "attachments": {},
   "cell_type": "markdown",
   "metadata": {},
   "source": [
    "### 5. How many fintech start-up companies received funding from 2018 to 2021 compared to other companies in the top 10 sectors?"
   ]
  },
  {
   "cell_type": "code",
   "execution_count": 162,
   "metadata": {},
   "outputs": [
    {
     "data": {
      "text/html": [
       "<div>\n",
       "<style scoped>\n",
       "    .dataframe tbody tr th:only-of-type {\n",
       "        vertical-align: middle;\n",
       "    }\n",
       "\n",
       "    .dataframe tbody tr th {\n",
       "        vertical-align: top;\n",
       "    }\n",
       "\n",
       "    .dataframe thead th {\n",
       "        text-align: right;\n",
       "    }\n",
       "</style>\n",
       "<table border=\"1\" class=\"dataframe\">\n",
       "  <thead>\n",
       "    <tr style=\"text-align: right;\">\n",
       "      <th></th>\n",
       "      <th>Sector</th>\n",
       "      <th>Amount($)</th>\n",
       "      <th>Percent Funding(%)</th>\n",
       "      <th>Companies By Sector</th>\n",
       "      <th>Percent of Companies By Sector(%)</th>\n",
       "    </tr>\n",
       "  </thead>\n",
       "  <tbody>\n",
       "    <tr>\n",
       "      <th>252</th>\n",
       "      <td>Financial services</td>\n",
       "      <td>2650336894.29</td>\n",
       "      <td>0.80</td>\n",
       "      <td>116</td>\n",
       "      <td>12.43</td>\n",
       "    </tr>\n",
       "    <tr>\n",
       "      <th>267</th>\n",
       "      <td>Food delivery</td>\n",
       "      <td>2673076000.00</td>\n",
       "      <td>0.80</td>\n",
       "      <td>7</td>\n",
       "      <td>0.75</td>\n",
       "    </tr>\n",
       "    <tr>\n",
       "      <th>297</th>\n",
       "      <td>Healthtech</td>\n",
       "      <td>2921221133.52</td>\n",
       "      <td>0.88</td>\n",
       "      <td>60</td>\n",
       "      <td>6.43</td>\n",
       "    </tr>\n",
       "    <tr>\n",
       "      <th>51</th>\n",
       "      <td>Automotive</td>\n",
       "      <td>3047501889.56</td>\n",
       "      <td>0.92</td>\n",
       "      <td>53</td>\n",
       "      <td>5.68</td>\n",
       "    </tr>\n",
       "    <tr>\n",
       "      <th>501</th>\n",
       "      <td>Tech company</td>\n",
       "      <td>3248526137.03</td>\n",
       "      <td>0.98</td>\n",
       "      <td>10</td>\n",
       "      <td>1.07</td>\n",
       "    </tr>\n",
       "    <tr>\n",
       "      <th>295</th>\n",
       "      <td>Healthcare</td>\n",
       "      <td>3803348757.77</td>\n",
       "      <td>1.14</td>\n",
       "      <td>67</td>\n",
       "      <td>7.18</td>\n",
       "    </tr>\n",
       "    <tr>\n",
       "      <th>199</th>\n",
       "      <td>E-commerce</td>\n",
       "      <td>3898350323.59</td>\n",
       "      <td>1.17</td>\n",
       "      <td>95</td>\n",
       "      <td>10.18</td>\n",
       "    </tr>\n",
       "    <tr>\n",
       "      <th>210</th>\n",
       "      <td>Edtech</td>\n",
       "      <td>11691669407.62</td>\n",
       "      <td>3.51</td>\n",
       "      <td>226</td>\n",
       "      <td>24.22</td>\n",
       "    </tr>\n",
       "    <tr>\n",
       "      <th>452</th>\n",
       "      <td>Retail</td>\n",
       "      <td>70713430024.76</td>\n",
       "      <td>21.25</td>\n",
       "      <td>26</td>\n",
       "      <td>2.79</td>\n",
       "    </tr>\n",
       "    <tr>\n",
       "      <th>253</th>\n",
       "      <td>Fintech</td>\n",
       "      <td>159675228708.68</td>\n",
       "      <td>47.97</td>\n",
       "      <td>273</td>\n",
       "      <td>29.26</td>\n",
       "    </tr>\n",
       "  </tbody>\n",
       "</table>\n",
       "</div>"
      ],
      "text/plain": [
       "                 Sector       Amount($)  Percent Funding(%)  \\\n",
       "252  Financial services   2650336894.29                0.80   \n",
       "267       Food delivery   2673076000.00                0.80   \n",
       "297          Healthtech   2921221133.52                0.88   \n",
       "51           Automotive   3047501889.56                0.92   \n",
       "501        Tech company   3248526137.03                0.98   \n",
       "295          Healthcare   3803348757.77                1.14   \n",
       "199          E-commerce   3898350323.59                1.17   \n",
       "210              Edtech  11691669407.62                3.51   \n",
       "452              Retail  70713430024.76               21.25   \n",
       "253             Fintech 159675228708.68               47.97   \n",
       "\n",
       "     Companies By Sector  Percent of Companies By Sector(%)  \n",
       "252                  116                              12.43  \n",
       "267                    7                               0.75  \n",
       "297                   60                               6.43  \n",
       "51                    53                               5.68  \n",
       "501                   10                               1.07  \n",
       "295                   67                               7.18  \n",
       "199                   95                              10.18  \n",
       "210                  226                              24.22  \n",
       "452                   26                               2.79  \n",
       "253                  273                              29.26  "
      ]
     },
     "execution_count": 162,
     "metadata": {},
     "output_type": "execute_result"
    }
   ],
   "source": [
    "number_of_companies_funded = []\n",
    "\n",
    "for sector in list(top_10_sectors['Sector']):\n",
    "    number_of_companies_funded.append((big_frame['Sector'] == sector).sum())\n",
    "\n",
    "top_10_sectors['Companies By Sector'] = number_of_companies_funded\n",
    "top_10_sectors['Percent of Companies By Sector(%)'] = (top_10_sectors['Companies By Sector'] / top_10_sectors['Companies By Sector'].sum()) * 100\n",
    "top_10_sectors"
   ]
  },
  {
   "cell_type": "code",
   "execution_count": 163,
   "metadata": {},
   "outputs": [
    {
     "data": {
      "image/png": "[encoded data removed]",
      "text/plain": [
       "<Figure size 640x480 with 1 Axes>"
      ]
     },
     "metadata": {},
     "output_type": "display_data"
    }
   ],
   "source": [
    "top_10_sectors = top_10_sectors.sort_values(by = 'Companies By Sector')\n",
    "sector = top_10_sectors['Sector']\n",
    "num_of_start_ups = top_10_sectors['Companies By Sector']\n",
    "\n",
    "plt.barh(sector, num_of_start_ups)\n",
    "\n",
    "plt.title('Total Number of Companies in the Each of the Top Ten(10) Sectors')\n",
    "plt.xlabel('Number of Start Up Companies')\n",
    "plt.ylabel('Top Ten Sectors')\n",
    "\n",
    "plt.show()"
   ]
  },
  {
   "attachments": {},
   "cell_type": "markdown",
   "metadata": {},
   "source": [
    "### 6. How does the average amount of funding received by fintech start-ups compare to the average amount of funding received by start-ups in other sectors in the Indian start-up ecosystem over the same period?"
   ]
  },
  {
   "cell_type": "code",
   "execution_count": 164,
   "metadata": {},
   "outputs": [
    {
     "data": {
      "text/html": [
       "<div>\n",
       "<style scoped>\n",
       "    .dataframe tbody tr th:only-of-type {\n",
       "        vertical-align: middle;\n",
       "    }\n",
       "\n",
       "    .dataframe tbody tr th {\n",
       "        vertical-align: top;\n",
       "    }\n",
       "\n",
       "    .dataframe thead th {\n",
       "        text-align: right;\n",
       "    }\n",
       "</style>\n",
       "<table border=\"1\" class=\"dataframe\">\n",
       "  <thead>\n",
       "    <tr style=\"text-align: right;\">\n",
       "      <th></th>\n",
       "      <th>Sector</th>\n",
       "      <th>Amount($)</th>\n",
       "      <th>Mean Percent Funding(%)</th>\n",
       "    </tr>\n",
       "  </thead>\n",
       "  <tbody>\n",
       "    <tr>\n",
       "      <th>452</th>\n",
       "      <td>Retail</td>\n",
       "      <td>2719747308.64</td>\n",
       "      <td>11.01</td>\n",
       "    </tr>\n",
       "    <tr>\n",
       "      <th>399</th>\n",
       "      <td>Multinational conglomerate company</td>\n",
       "      <td>2200000000.00</td>\n",
       "      <td>8.91</td>\n",
       "    </tr>\n",
       "    <tr>\n",
       "      <th>253</th>\n",
       "      <td>Fintech</td>\n",
       "      <td>584890947.65</td>\n",
       "      <td>2.37</td>\n",
       "    </tr>\n",
       "    <tr>\n",
       "      <th>325</th>\n",
       "      <td>Innovation management</td>\n",
       "      <td>500250000.00</td>\n",
       "      <td>2.03</td>\n",
       "    </tr>\n",
       "    <tr>\n",
       "      <th>448</th>\n",
       "      <td>Renewable player</td>\n",
       "      <td>390000000.00</td>\n",
       "      <td>1.58</td>\n",
       "    </tr>\n",
       "    <tr>\n",
       "      <th>...</th>\n",
       "      <td>...</td>\n",
       "      <td>...</td>\n",
       "      <td>...</td>\n",
       "    </tr>\n",
       "    <tr>\n",
       "      <th>239</th>\n",
       "      <td>Facilities support services</td>\n",
       "      <td>0.00</td>\n",
       "      <td>0.00</td>\n",
       "    </tr>\n",
       "    <tr>\n",
       "      <th>278</th>\n",
       "      <td>Fraud detection</td>\n",
       "      <td>0.00</td>\n",
       "      <td>0.00</td>\n",
       "    </tr>\n",
       "    <tr>\n",
       "      <th>96</th>\n",
       "      <td>Business travel</td>\n",
       "      <td>0.00</td>\n",
       "      <td>0.00</td>\n",
       "    </tr>\n",
       "    <tr>\n",
       "      <th>104</th>\n",
       "      <td>Child care</td>\n",
       "      <td>0.00</td>\n",
       "      <td>0.00</td>\n",
       "    </tr>\n",
       "    <tr>\n",
       "      <th>0</th>\n",
       "      <td>3d printing</td>\n",
       "      <td>0.00</td>\n",
       "      <td>0.00</td>\n",
       "    </tr>\n",
       "  </tbody>\n",
       "</table>\n",
       "<p>551 rows × 3 columns</p>\n",
       "</div>"
      ],
      "text/plain": [
       "                                 Sector     Amount($)  Mean Percent Funding(%)\n",
       "452                              Retail 2719747308.64                    11.01\n",
       "399  Multinational conglomerate company 2200000000.00                     8.91\n",
       "253                             Fintech  584890947.65                     2.37\n",
       "325               Innovation management  500250000.00                     2.03\n",
       "448                    Renewable player  390000000.00                     1.58\n",
       "..                                  ...           ...                      ...\n",
       "239         Facilities support services          0.00                     0.00\n",
       "278                     Fraud detection          0.00                     0.00\n",
       "96                      Business travel          0.00                     0.00\n",
       "104                          Child care          0.00                     0.00\n",
       "0                           3d printing          0.00                     0.00\n",
       "\n",
       "[551 rows x 3 columns]"
      ]
     },
     "execution_count": 164,
     "metadata": {},
     "output_type": "execute_result"
    }
   ],
   "source": [
    "mean_funding = sector_grp['Amount($)'].mean().reset_index()\n",
    "average_funding_by_sector = mean_funding.sort_values(by = 'Amount($)', ascending = False)\n",
    "average_funding_by_sector['Mean Percent Funding(%)'] = (average_funding_by_sector['Amount($)'] / average_funding_by_sector['Amount($)'].sum()) * 100\n",
    "average_funding_by_sector"
   ]
  },
  {
   "cell_type": "code",
   "execution_count": 165,
   "metadata": {},
   "outputs": [
    {
     "data": {
      "image/png": "[encoded data removed]",
      "text/plain": [
       "<Figure size 640x480 with 1 Axes>"
      ]
     },
     "metadata": {},
     "output_type": "display_data"
    }
   ],
   "source": [
    "top_20_sectors_average_funding = average_funding_by_sector.sort_values(by = 'Amount($)', ascending = False).head(20).sort_values(by = 'Amount($)')\n",
    "sector = top_20_sectors_average_funding['Sector']\n",
    "mean_amount = top_20_sectors_average_funding['Amount($)']\n",
    "\n",
    "plt.barh(sector, mean_amount)\n",
    "\n",
    "plt.title('Mean Amount in ($) Received in each of the Top Twenty(20) Sectors')\n",
    "plt.xlabel('Mean Amount in ($) Received in each Sector \\n(in the form \"xe+11\")', fontsize = 14)\n",
    "plt.ylabel('Top Twenty Sectors')\n",
    "\n",
    "plt.show()"
   ]
  },
  {
   "attachments": {},
   "cell_type": "markdown",
   "metadata": {},
   "source": [
    "### 7. Have the investment trends in the Indian start-up ecosystem shown a preference for fintech companies over other sectors from 2018 to 2021?"
   ]
  },
  {
   "cell_type": "code",
   "execution_count": 166,
   "metadata": {},
   "outputs": [
    {
     "data": {
      "text/html": [
       "<div>\n",
       "<style scoped>\n",
       "    .dataframe tbody tr th:only-of-type {\n",
       "        vertical-align: middle;\n",
       "    }\n",
       "\n",
       "    .dataframe tbody tr th {\n",
       "        vertical-align: top;\n",
       "    }\n",
       "\n",
       "    .dataframe thead th {\n",
       "        text-align: right;\n",
       "    }\n",
       "</style>\n",
       "<table border=\"1\" class=\"dataframe\">\n",
       "  <thead>\n",
       "    <tr style=\"text-align: right;\">\n",
       "      <th></th>\n",
       "      <th>Sector</th>\n",
       "      <th>Amount($)</th>\n",
       "      <th>No. of Companies</th>\n",
       "    </tr>\n",
       "  </thead>\n",
       "  <tbody>\n",
       "    <tr>\n",
       "      <th>88</th>\n",
       "      <td>Fintech</td>\n",
       "      <td>17600000.00</td>\n",
       "      <td>2.00</td>\n",
       "    </tr>\n",
       "  </tbody>\n",
       "</table>\n",
       "</div>"
      ],
      "text/plain": [
       "     Sector   Amount($)  No. of Companies\n",
       "88  Fintech 17600000.00              2.00"
      ]
     },
     "execution_count": 166,
     "metadata": {},
     "output_type": "execute_result"
    }
   ],
   "source": [
    "def fintech_sector_count(yr):\n",
    "    pd.options.mode.chained_assignment = None  # Disable warning\n",
    "\n",
    "    year_filt = big_frame['Funding Year'] == yr\n",
    "\n",
    "    sectors_funded = big_frame.loc[year_filt, ['Sector', 'Amount($)', 'Funding Year']]\n",
    "    funded_by_sector = sectors_funded.groupby('Sector')['Amount($)'].sum().reset_index()\n",
    "    filt = (funded_by_sector['Sector'] == 'Fintech')\n",
    "    df = funded_by_sector.loc[filt]\n",
    "\n",
    "    sector_list = list(big_frame.loc[year_filt, 'Sector'].dropna(axis = 'index', how = 'all'))\n",
    "    sector_count = Counter(sector_list)\n",
    "    sector_count = dict(sorted(sector_count.items(), key=lambda item: item[1], reverse = True))\n",
    "\n",
    "    df.loc[df.index, 'No. of Companies'] = (sector_count['Fintech'])\n",
    "    # df['No. of Companies'] = (sector_count['Fintech'])\n",
    "    \n",
    "    return df\n",
    "\n",
    "fintech_sector_count(2018)"
   ]
  },
  {
   "cell_type": "code",
   "execution_count": 167,
   "metadata": {},
   "outputs": [
    {
     "data": {
      "text/html": [
       "<div>\n",
       "<style scoped>\n",
       "    .dataframe tbody tr th:only-of-type {\n",
       "        vertical-align: middle;\n",
       "    }\n",
       "\n",
       "    .dataframe tbody tr th {\n",
       "        vertical-align: top;\n",
       "    }\n",
       "\n",
       "    .dataframe thead th {\n",
       "        text-align: right;\n",
       "    }\n",
       "</style>\n",
       "<table border=\"1\" class=\"dataframe\">\n",
       "  <thead>\n",
       "    <tr style=\"text-align: right;\">\n",
       "      <th></th>\n",
       "      <th>Sector</th>\n",
       "      <th>Amount($)</th>\n",
       "      <th>No. of Companies</th>\n",
       "    </tr>\n",
       "  </thead>\n",
       "  <tbody>\n",
       "    <tr>\n",
       "      <th>18</th>\n",
       "      <td>Fintech</td>\n",
       "      <td>73330301.30</td>\n",
       "      <td>5.00</td>\n",
       "    </tr>\n",
       "  </tbody>\n",
       "</table>\n",
       "</div>"
      ],
      "text/plain": [
       "     Sector   Amount($)  No. of Companies\n",
       "18  Fintech 73330301.30              5.00"
      ]
     },
     "execution_count": 167,
     "metadata": {},
     "output_type": "execute_result"
    }
   ],
   "source": [
    "fintech_sector_count(2019)"
   ]
  },
  {
   "cell_type": "code",
   "execution_count": 168,
   "metadata": {},
   "outputs": [
    {
     "data": {
      "text/html": [
       "<div>\n",
       "<style scoped>\n",
       "    .dataframe tbody tr th:only-of-type {\n",
       "        vertical-align: middle;\n",
       "    }\n",
       "\n",
       "    .dataframe tbody tr th {\n",
       "        vertical-align: top;\n",
       "    }\n",
       "\n",
       "    .dataframe thead th {\n",
       "        text-align: right;\n",
       "    }\n",
       "</style>\n",
       "<table border=\"1\" class=\"dataframe\">\n",
       "  <thead>\n",
       "    <tr style=\"text-align: right;\">\n",
       "      <th></th>\n",
       "      <th>Sector</th>\n",
       "      <th>Amount($)</th>\n",
       "      <th>No. of Companies</th>\n",
       "    </tr>\n",
       "  </thead>\n",
       "  <tbody>\n",
       "    <tr>\n",
       "      <th>118</th>\n",
       "      <td>Fintech</td>\n",
       "      <td>4744668085.48</td>\n",
       "      <td>144.00</td>\n",
       "    </tr>\n",
       "  </tbody>\n",
       "</table>\n",
       "</div>"
      ],
      "text/plain": [
       "      Sector     Amount($)  No. of Companies\n",
       "118  Fintech 4744668085.48            144.00"
      ]
     },
     "execution_count": 168,
     "metadata": {},
     "output_type": "execute_result"
    }
   ],
   "source": [
    "fintech_sector_count(2020)"
   ]
  },
  {
   "cell_type": "code",
   "execution_count": 169,
   "metadata": {},
   "outputs": [
    {
     "data": {
      "text/html": [
       "<div>\n",
       "<style scoped>\n",
       "    .dataframe tbody tr th:only-of-type {\n",
       "        vertical-align: middle;\n",
       "    }\n",
       "\n",
       "    .dataframe tbody tr th {\n",
       "        vertical-align: top;\n",
       "    }\n",
       "\n",
       "    .dataframe thead th {\n",
       "        text-align: right;\n",
       "    }\n",
       "</style>\n",
       "<table border=\"1\" class=\"dataframe\">\n",
       "  <thead>\n",
       "    <tr style=\"text-align: right;\">\n",
       "      <th></th>\n",
       "      <th>Sector</th>\n",
       "      <th>Amount($)</th>\n",
       "      <th>No. of Companies</th>\n",
       "    </tr>\n",
       "  </thead>\n",
       "  <tbody>\n",
       "    <tr>\n",
       "      <th>101</th>\n",
       "      <td>Fintech</td>\n",
       "      <td>154839630321.90</td>\n",
       "      <td>122.00</td>\n",
       "    </tr>\n",
       "  </tbody>\n",
       "</table>\n",
       "</div>"
      ],
      "text/plain": [
       "      Sector       Amount($)  No. of Companies\n",
       "101  Fintech 154839630321.90            122.00"
      ]
     },
     "execution_count": 169,
     "metadata": {},
     "output_type": "execute_result"
    }
   ],
   "source": [
    "fintech_sector_count(2021)"
   ]
  },
  {
   "cell_type": "code",
   "execution_count": 170,
   "metadata": {},
   "outputs": [
    {
     "data": {
      "text/html": [
       "<div>\n",
       "<style scoped>\n",
       "    .dataframe tbody tr th:only-of-type {\n",
       "        vertical-align: middle;\n",
       "    }\n",
       "\n",
       "    .dataframe tbody tr th {\n",
       "        vertical-align: top;\n",
       "    }\n",
       "\n",
       "    .dataframe thead th {\n",
       "        text-align: right;\n",
       "    }\n",
       "</style>\n",
       "<table border=\"1\" class=\"dataframe\">\n",
       "  <thead>\n",
       "    <tr style=\"text-align: right;\">\n",
       "      <th></th>\n",
       "      <th>Sector</th>\n",
       "      <th>Amount($)</th>\n",
       "      <th>No. of Companies</th>\n",
       "      <th>Funding Year</th>\n",
       "    </tr>\n",
       "  </thead>\n",
       "  <tbody>\n",
       "    <tr>\n",
       "      <th>0</th>\n",
       "      <td>Fintech</td>\n",
       "      <td>17600000.00</td>\n",
       "      <td>2.00</td>\n",
       "      <td>2018</td>\n",
       "    </tr>\n",
       "    <tr>\n",
       "      <th>1</th>\n",
       "      <td>Fintech</td>\n",
       "      <td>73330301.30</td>\n",
       "      <td>5.00</td>\n",
       "      <td>2019</td>\n",
       "    </tr>\n",
       "    <tr>\n",
       "      <th>2</th>\n",
       "      <td>Fintech</td>\n",
       "      <td>4744668085.48</td>\n",
       "      <td>144.00</td>\n",
       "      <td>2020</td>\n",
       "    </tr>\n",
       "    <tr>\n",
       "      <th>3</th>\n",
       "      <td>Fintech</td>\n",
       "      <td>154839630321.90</td>\n",
       "      <td>122.00</td>\n",
       "      <td>2021</td>\n",
       "    </tr>\n",
       "  </tbody>\n",
       "</table>\n",
       "</div>"
      ],
      "text/plain": [
       "    Sector       Amount($)  No. of Companies  Funding Year\n",
       "0  Fintech     17600000.00              2.00          2018\n",
       "1  Fintech     73330301.30              5.00          2019\n",
       "2  Fintech   4744668085.48            144.00          2020\n",
       "3  Fintech 154839630321.90            122.00          2021"
      ]
     },
     "execution_count": 170,
     "metadata": {},
     "output_type": "execute_result"
    }
   ],
   "source": [
    "dfs = [fintech_sector_count(2018), fintech_sector_count(2019), fintech_sector_count(2020), fintech_sector_count(2021)]\n",
    "year = 2018\n",
    "for i in np.arange(len(dfs)):\n",
    "    dfs[i]['Funding Year'] = year\n",
    "    year += 1 \n",
    "data = pd.concat(dfs, ignore_index = True)\n",
    "data"
   ]
  },
  {
   "cell_type": "code",
   "execution_count": 171,
   "metadata": {},
   "outputs": [
    {
     "data": {
      "image/png": "[encoded data removed]",
      "text/plain": [
       "<Figure size 640x480 with 1 Axes>"
      ]
     },
     "metadata": {},
     "output_type": "display_data"
    }
   ],
   "source": [
    "plt.style.use('fivethirtyeight')\n",
    "\n",
    "slices = data['No. of Companies']\n",
    "slice_labels = data['Funding Year']\n",
    "size_pct = [((i/sum(data['No. of Companies']))*100) for i in data['No. of Companies']] # list of the percentage sizes of each slice\n",
    "\n",
    "legend_labels = [f'{l} : {s:0.1f}%' for l, s in zip(slice_labels, size_pct)]\n",
    "plt.pie(slices, shadow = True, startangle = 90, wedgeprops = {'edgecolor' : 'black'})\n",
    "\n",
    "plt.title('Number of Start Up Companies in the Fintech Sector over the Years')\n",
    "\n",
    "plt.legend(bbox_to_anchor=(1, 1), loc='upper left', labels=legend_labels)\n",
    "plt.tight_layout()\n",
    "plt.show()"
   ]
  },
  {
   "attachments": {},
   "cell_type": "markdown",
   "metadata": {},
   "source": [
    "### Additional Analysis"
   ]
  },
  {
   "cell_type": "code",
   "execution_count": 172,
   "metadata": {},
   "outputs": [
    {
     "data": {
      "image/png": "[encoded data removed]",
      "text/plain": [
       "<Figure size 640x480 with 1 Axes>"
      ]
     },
     "metadata": {},
     "output_type": "display_data"
    }
   ],
   "source": [
    "plt.style.use('fivethirtyeight')\n",
    "\n",
    "year_founded = big_frame['Founded']\n",
    "\n",
    "start = round(big_frame['Founded'].min(), -1)\n",
    "stop = big_frame['Founded'].max()\n",
    "step = 5\n",
    "\n",
    "bns = np.arange(start, (stop + step), step)\n",
    "\n",
    "plt.hist(year_founded, bins = bns, edgecolor = 'black', log = True)\n",
    "\n",
    "plt.title('Distribution of the Years the Start Up Companies were Founded', fontsize = 20)\n",
    "plt.xlabel('Year The Start Up Company was Founded', fontsize = 15)\n",
    "plt.ylabel('The Number of Start Ups Founded \\n(in log form)', fontsize = 15)\n",
    "\n",
    "plt.show()"
   ]
  },
  {
   "attachments": {},
   "cell_type": "markdown",
   "metadata": {},
   "source": [
    "## Hypothesis Testing"
   ]
  },
  {
   "cell_type": "code",
   "execution_count": 173,
   "metadata": {},
   "outputs": [
    {
     "data": {
      "text/plain": [
       "'To summarize, we have failed to reject the null hypothesis. There is insufficient evidence to conclude that Fintech is the most lucrative sector receiving the most significant funding in the Indian start-up ecosystem.'"
      ]
     },
     "execution_count": 173,
     "metadata": {},
     "output_type": "execute_result"
    }
   ],
   "source": [
    "# Subset the dataframe for Fintech sector\n",
    "fintech_df = big_frame[big_frame['Sector'] == 'Fintech']\n",
    "fintech_funding = fintech_df['Amount($)'].tolist()\n",
    "\n",
    "# Subset the dataframe for other sectors\n",
    "other_sector_df = big_frame[big_frame['Sector'] != 'Fintech']\n",
    "other_sector_funding = other_sector_df['Amount($)'].tolist()\n",
    "\n",
    "# Perform t-test assuming unequal variances\n",
    "t_statistic, p_value = ttest_ind(fintech_funding, other_sector_funding, equal_var=False)\n",
    "\n",
    "# Set significance level\n",
    "alpha = 0.05\n",
    "\n",
    "# Compare p-value with significance level\n",
    "conclusion = \"To summarize, we have \"\n",
    "if p_value < alpha:\n",
    "    # Reject the null hypothesis\n",
    "    conclusion += \"rejected the null hypothesis and \"\n",
    "    conclusion += \"accepted the alternative hypothesis, indicating that Fintech is the most lucrative sector receiving the most significant funding in the Indian start-up ecosystem.\"\n",
    "else:\n",
    "    # Fail to reject the null hypothesis\n",
    "    conclusion += \"failed to reject the null hypothesis. There is insufficient evidence to conclude that Fintech is the most lucrative sector receiving the most significant funding in the Indian start-up ecosystem.\"\n",
    "\n",
    "conclusion"
   ]
  }
 ],
 "metadata": {
  "kernelspec": {
   "display_name": "Python 3",
   "language": "python",
   "name": "python3"
  },
  "language_info": {
   "codemirror_mode": {
    "name": "ipython",
    "version": 3
   },
   "file_extension": ".py",
   "mimetype": "text/x-python",
   "name": "python",
   "nbconvert_exporter": "python",
   "pygments_lexer": "ipython3",
   "version": "3.10.11"
  },
  "orig_nbformat": 4,
  "vscode": {
   "interpreter": {
    "hash": "c1e94f3e9cf47a2296e52f89950a22b5d07ea05f6a0db6c01e468849e9483daa"
   }
  }
 },
 "nbformat": 4,
 "nbformat_minor": 2
}
